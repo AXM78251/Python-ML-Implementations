{
  "nbformat": 4,
  "nbformat_minor": 0,
  "metadata": {
    "colab": {
      "name": "Hidden_Markov_Model(HMM).ipynb",
      "provenance": [],
      "authorship_tag": "ABX9TyNCxGtSAI6ME0cQvLIzxKOY",
      "include_colab_link": true
    },
    "kernelspec": {
      "name": "python3",
      "display_name": "Python 3"
    },
    "language_info": {
      "name": "python"
    }
  },
  "cells": [
    {
      "cell_type": "markdown",
      "metadata": {
        "id": "view-in-github",
        "colab_type": "text"
      },
      "source": [
        "<a href=\"https://colab.research.google.com/github/AXM78251/Python_ML/blob/main/Hidden_Markov_Model(HMM).ipynb\" target=\"_parent\"><img src=\"https://colab.research.google.com/assets/colab-badge.svg\" alt=\"Open In Colab\"/></a>"
      ]
    },
    {
      "cell_type": "markdown",
      "source": [
        "# **Hidden Markov Model**\n",
        "***\n",
        "Hidden Markov Model is a finite set of states, each of which is associated with a (generally multidimensional) probability distributions []. Transitions among states are governed by a set of probabilities called transition probabilities<br><br>\n",
        "A hidden markov model works with probabilities to predict future events or states. <br><br>Below we will learn how to create a hidden markov model to predict the weather"
      ],
      "metadata": {
        "id": "ngbiGGKbEUTG"
      }
    },
    {
      "cell_type": "markdown",
      "source": [
        "# **Data**\n",
        "***\n",
        "In previous algorithms, we worked with large datasets of 100s of different entries, for a Markov Model, we are only interested in probability distributions that have to do with the states<br><br>\n",
        "\n",
        "We can find these probabilities from large datasets or may already have these values<br><br>\n",
        "\n",
        "Now let us discuss the components of a markov model:\n",
        "\n",
        "*   **States**: In each markov model, we have a finite set of states, could be something like \"hot\" and \"cold\" or \"high\" and \"low\" or even \"red\", \"green\", and \"blue\". These states are \"hidden\" within the model which means that we do not directly observe them\n",
        "*   **Observations**: Each state has a particular outcome or observation associated with it based on a probability distribution. An example of this can be: *On a hot day, Anthony has a \"70% chance of being happy and a 30% chance of being sad*<br>\n",
        "When the probability of something happening in a state is 100%, then we just refer to it as the outcome\n",
        "* **Transitions**: Each state will have a probability defining the likelihood of transitioning to a different state. An example of this is the following: *A cold day has a 30% chance of being followed by a hot day and a 70% chance of being followed by another cold day*\n",
        "\n",
        "To create a hidden markov model, we need:\n",
        "\n",
        "*   States\n",
        "*   Observation Distribution\n",
        "*   Transition Distribution\n",
        "\n",
        "For our purposes, assume we already have this information as we attempt to predict the weather on a given day\n",
        "\n",
        "\n"
      ],
      "metadata": {
        "id": "zdcCb5FqEZNL"
      }
    },
    {
      "cell_type": "markdown",
      "source": [
        "# **Imports and Setup**\n",
        "***"
      ],
      "metadata": {
        "id": "V5TDKR2EEcOW"
      }
    },
    {
      "cell_type": "code",
      "execution_count": 1,
      "metadata": {
        "colab": {
          "base_uri": "https://localhost:8080/"
        },
        "id": "CMh32ewuD-91",
        "outputId": "8aa7fd02-7ac1-4d77-d0a0-9e73d4702f08"
      },
      "outputs": [
        {
          "output_type": "stream",
          "name": "stdout",
          "text": [
            "Colab only includes TensorFlow 2.x; %tensorflow_version has no effect.\n"
          ]
        }
      ],
      "source": [
        "%tensorflow_version 2.x  # this line is not required unless you are in a notebook"
      ]
    },
    {
      "cell_type": "markdown",
      "source": [
        "Because of a version mismatch with tensorflow v2 and tensorflow_probability, we need to install the most recent version of tensorflow_probability "
      ],
      "metadata": {
        "id": "kW0FR5-VEgm4"
      }
    },
    {
      "cell_type": "code",
      "source": [
        "!pip install tensorflow_probability==0.8.0rc0 --user --upgrade"
      ],
      "metadata": {
        "colab": {
          "base_uri": "https://localhost:8080/"
        },
        "id": "IAn3PgYIECvq",
        "outputId": "bed6360e-1939-49e0-f47a-f54430c137ac"
      },
      "execution_count": 2,
      "outputs": [
        {
          "output_type": "stream",
          "name": "stdout",
          "text": [
            "Looking in indexes: https://pypi.org/simple, https://us-python.pkg.dev/colab-wheels/public/simple/\n",
            "Collecting tensorflow_probability==0.8.0rc0\n",
            "  Downloading tensorflow_probability-0.8.0rc0-py2.py3-none-any.whl (2.5 MB)\n",
            "\u001b[K     |████████████████████████████████| 2.5 MB 3.1 MB/s \n",
            "\u001b[?25hRequirement already satisfied: decorator in /usr/local/lib/python3.7/dist-packages (from tensorflow_probability==0.8.0rc0) (4.4.2)\n",
            "Collecting cloudpickle==1.1.1\n",
            "  Downloading cloudpickle-1.1.1-py2.py3-none-any.whl (17 kB)\n",
            "Requirement already satisfied: numpy>=1.13.3 in /usr/local/lib/python3.7/dist-packages (from tensorflow_probability==0.8.0rc0) (1.21.6)\n",
            "Requirement already satisfied: six>=1.10.0 in /usr/local/lib/python3.7/dist-packages (from tensorflow_probability==0.8.0rc0) (1.15.0)\n",
            "Installing collected packages: cloudpickle, tensorflow-probability\n",
            "\u001b[31mERROR: pip's dependency resolver does not currently take into account all the packages that are installed. This behaviour is the source of the following dependency conflicts.\n",
            "gym 0.17.3 requires cloudpickle<1.7.0,>=1.2.0, but you have cloudpickle 1.1.1 which is incompatible.\u001b[0m\n",
            "Successfully installed cloudpickle-1.1.1 tensorflow-probability-0.8.0rc0\n"
          ]
        }
      ]
    },
    {
      "cell_type": "code",
      "source": [
        "import tensorflow_probability as tfp  # We are using a different module from tensorflow this time\n",
        "import tensorflow as tf"
      ],
      "metadata": {
        "id": "fjHjFBbtEEvf"
      },
      "execution_count": 3,
      "outputs": []
    },
    {
      "cell_type": "markdown",
      "source": [
        "# **Weather Model**\n",
        "***\n",
        "Below, we will attempt to model a simple weather system and try to predict the temperatures on each day given the following information:\n",
        "\n",
        "\n",
        "*   Cold days are encoded by a 0 and hot days are encoded by a 1\n",
        "*   The first day in our sequence has an 80% chance of being cold\n",
        "*   A cold day has a 30% chance of being followed by a hot day\n",
        "*   On each day the temperature is\n",
        " normally distributed with mean and standard deviation 0 and 5 on\n",
        " a cold day and mean and standard deviation 15 and 10 on a hot day\n",
        "\n",
        "**Standard deviation** can simply be put as the range of expected values\n",
        "<br><br>\n",
        "In this scenario, on a hot day the average temperature is 15 and ranges from 5 to 25<br><br>\n",
        "We will model this below"
      ],
      "metadata": {
        "id": "Rs-BsQmcEm9P"
      }
    },
    {
      "cell_type": "code",
      "source": [
        "tfd = tfp.distributions  # Making a shortcut for later on, loading in tensor probability distributions model\n",
        "initial_distribution = tfd.Categorical(probs=[0.4, 0.6])  # Refer to point 2 above\n",
        "transition_distribution = tfd.Categorical(probs=[[0.5, 0.5],\n",
        "                                                 [0.2, 0.8]])  # refer to points 3 and 4 above\n",
        "observation_distribution = tfd.Normal(loc=[0., 15.], scale=[5., 10.])  # refer to point 5 above, where loc stands for average/mean, and scale stands for the std dev\n",
        "\n",
        "# the loc argument represents the mean and the scale is the standard devitation"
      ],
      "metadata": {
        "id": "FnzidAmmEKYi"
      },
      "execution_count": 11,
      "outputs": []
    },
    {
      "cell_type": "code",
      "source": [
        "model = tfd.HiddenMarkovModel(\n",
        "    initial_distribution=initial_distribution,\n",
        "    transition_distribution=transition_distribution,\n",
        "    observation_distribution=observation_distribution,\n",
        "    num_steps=7)\n",
        "# Steps will represent how many days we want to predict for"
      ],
      "metadata": {
        "id": "_kufeX6AEM1r"
      },
      "execution_count": 12,
      "outputs": []
    },
    {
      "cell_type": "markdown",
      "source": [
        "Now that we have created the distribution variables, we can go ahead and create the hidden markov model"
      ],
      "metadata": {
        "id": "XkfqXKZqEq4d"
      }
    },
    {
      "cell_type": "code",
      "source": [
        "mean = model.mean() #Partially defined tensor/computation, to actually get the value of this, we have to create a new session in TensorFlow, run this part of the graph then print it out\n",
        "\n",
        "# due to the way TensorFlow works on a lower level we need to evaluate part of the graph\n",
        "# from within a session to see the value of this tensor\n",
        "\n",
        "# in the new version of tensorflow we need to use tf.compat.v1.Session() rather than just tf.Session()\n",
        "with tf.compat.v1.Session() as sess:  \n",
        "  print(mean.numpy()) #Use the .numpy() method to get the value from the mean"
      ],
      "metadata": {
        "colab": {
          "base_uri": "https://localhost:8080/"
        },
        "id": "Y9OyZYELEPOX",
        "outputId": "7002e43a-83c6-4146-c099-6db6e838ebfc"
      },
      "execution_count": 13,
      "outputs": [
        {
          "output_type": "stream",
          "name": "stdout",
          "text": [
            "[ 9.       10.2      10.559999 10.668001 10.7004   10.71012  10.713037]\n"
          ]
        }
      ]
    },
    {
      "cell_type": "markdown",
      "source": [
        "# **Conclusion**\n",
        "***\n",
        "This is it for the hidden markov model and this is it for some of the core algorithm implementations in TensorFlow"
      ],
      "metadata": {
        "id": "pnSUIeeIE0ZS"
      }
    },
    {
      "cell_type": "markdown",
      "source": [
        "# **Sources:**\n",
        "\n",
        "\n",
        "1.   Definition of Hidden Markov Model, http://jedlik.phy.bme.hu/~gerjanos/HMM/node4.html.\n",
        "2. “Tfp.distributions.HiddenMarkovModel &nbsp;: &nbsp; TensorFlow Probability.” TensorFlow, www.tensorflow.org/probability/api_docs/python/tfp/distributions/HiddenMarkovModel.\n",
        "3. Tim Russica \"Tech with Tim\" [Youtube](https://www.youtube.com/channel/UC4JX...)<br>[LinkedIn](https://www.linkedin.com/in/tim-ruscica/)\n",
        "\n",
        "\n"
      ],
      "metadata": {
        "id": "GorV19JY1cKt"
      }
    }
  ]
}