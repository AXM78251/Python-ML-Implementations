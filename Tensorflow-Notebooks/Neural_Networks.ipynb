{
  "nbformat": 4,
  "nbformat_minor": 0,
  "metadata": {
    "colab": {
      "name": "Neural_Networks.ipynb",
      "provenance": [],
      "authorship_tag": "ABX9TyO65RFWKlfY3edXHs793ZyY",
      "include_colab_link": true
    },
    "kernelspec": {
      "name": "python3",
      "display_name": "Python 3"
    },
    "language_info": {
      "name": "python"
    }
  },
  "cells": [
    {
      "cell_type": "markdown",
      "metadata": {
        "id": "view-in-github",
        "colab_type": "text"
      },
      "source": [
        "<a href=\"https://colab.research.google.com/github/AXM78251/Python_ML/blob/main/Neural_Networks.ipynb\" target=\"_parent\"><img src=\"https://colab.research.google.com/assets/colab-badge.svg\" alt=\"Open In Colab\"/></a>"
      ]
    },
    {
      "cell_type": "markdown",
      "source": [
        "# **Neural Networks**\n",
        "*Purpose is to provide classifications or predictions for us but what is it really?*\n",
        "***\n",
        "* Well a deep neural network is a layered representation of data\n",
        "* Core machine learning algorithms never trasnformed or modified the data as it only existed in 1 layer (i.e. it took some input, math was performed, and a result was returned\n",
        "* *Neural networks process data differently*\n",
        "* Neural networks attempt to represent our data in different ways and in different dimensions by applying specific operations to transform our data at each layer \n",
        "* So at each layer, our data is transformed in hopes that by doing so, our network can learn more information about it and therefore allow our network to provide a better prediction\n",
        "\n",
        "***\n",
        "\n",
        "\n",
        "*   We have some input information that we feed to the neural network and then we want it to give us some output\n",
        "*   We could think about it like a magical black box that contains some function of the input, it takes in some input and maps it to some output\n",
        "* ***Densely connected neural network/densely connected layer***: Means that it is connected to every node from the previous layer\n",
        "\n",
        "\n",
        "Components of neural networks:\n",
        "\n",
        "\n",
        "*   ***Input Layer***: Always the first layer in our neural network, it will take in/accept our raw data \n",
        "  * ***Raw data***: Whatever input information we give to the network that we want to classify\n",
        "  * We need 1 input neuron for each piece of input information we want to classify, unless we're going to be reshaping or putting that information in different forms \n",
        "\n",
        "*   ***Output Layer***:\n",
        "  * We will have as many output neurons as output pieces that we want, 1 output neuron for each piece of output information we want\n",
        "  * In some cases, we could design our output layer such that the output neuron is going to give us some value (such as 0 or 1 in classification)\n",
        "  * In most cases, however, what makes more sense is to have as many iutput neurons as classes we are looking to predict for, where each neuron would have a value between 0 and 1, and the combination (sum) of the values of each neuron is equal to 1, this closely resembles a probability distribution\n",
        "  * Essentially, we will make predictions for how strongly we think each of our input information is each class \n",
        "  * For regression tasks, we can just have one neuron that will predict some output value\n",
        "\n",
        "* **Hidden Layers**: They are called hidden because we don't observe it when we are using the neural network, we pass in information to the input layer and we get information from the output layer w/o knowing what happens in these hidden layer(s)\n",
        "\n",
        "\n",
        "\n",
        "\n",
        "\n",
        "\n",
        "\n"
      ],
      "metadata": {
        "id": "mOvA2YU23Jtc"
      }
    },
    {
      "cell_type": "markdown",
      "source": [
        "### **Biases**\n",
        "***\n",
        "\n",
        "\n",
        "*   A little bit different than the neurons we have regularly, there is one bias for each layer\n",
        "*   Yet another trainable parameter for the network, it is just some constant numeric value that we will connect to the hidden layer, the weight of the bias is typically 1, when getting the weights bias for our weighted sum equation, we need the weight of the bias to be 1 so that we simply get the value of the bias\n",
        "* The purpose of a bias is to shift an entire activation function by a constant value to allow more flexibility when choosing an activation function and training our network\n"
      ],
      "metadata": {
        "id": "MpYJ0Of6LqgX"
      }
    },
    {
      "cell_type": "markdown",
      "source": [
        "###**Weights**\n",
        "***\n",
        "* Every single layer is connected to another layer via weights, we can have different architectures for our connections\n",
        "* These weights are what the neural network will be changing and optimizing to determine the mapping from our input to our output, these are referred to as trainable parameters bthat we tweak and train to get the best possible result\n",
        "* These connections are referred to as weights and are numeric values, typically these numeric values are between 0 and 1, although they can be large or even negative, it just really depends on what kind of network we are doing and how we've designed it\n",
        "* Weights start off as random numeric values, but as the network gets better, these weights are updated and changed to make more sense in our network"
      ],
      "metadata": {
        "id": "srl9H2P6UI-d"
      }
    },
    {
      "cell_type": "markdown",
      "source": [
        "### **Values**\n",
        "***\n",
        "\n",
        "\n",
        "*   The value in subsequent nodes is equal to the weighted sum of each connection to the neuron + the bias\n",
        "*   $Y =(\\sum_{i=0}^n w_i x_i) + b$ is the function that governs the values of subsequent nodes\n",
        "* Below is a brief explanation of each component of this equation:\n",
        "  * $w$ stands for the weight of each connection to the neuron\n",
        "  * $x$ stands for the value of the connected neuron from the previous value\n",
        "  * $b$ stands for the bias at each layer, this is a constant\n",
        "  * $n$ is the number of connections\n",
        "  * $Y$ is the output of the current neuron\n",
        "  * $\\sum$ stands for sum\n",
        "\n",
        "* ***This is only one half of our process though...the other half we need to get our proper value is the activation function***\n",
        "* The activation function is a function we apply to our weighted sum equation above to add complexity and dimensionality to our network. \n",
        "* So our new equation now that we have introduced our activation function is:\n",
        "  * $Y =F((\\sum_{i=0}^n w_i x_i) + b)$\n",
        "* The equation above would then be the final equation we would use to find the values of subsequent nodes\n",
        "* Our function will start with a predefined activation function but random weights and biases and as we train the network by feeding it data, it will learn to correct the weights and biases to adjust the network accordingly. This process is known as backpropogation\n",
        "\n",
        "\n",
        "\n",
        "\n",
        "\n"
      ],
      "metadata": {
        "id": "dJYJGvTjTGuQ"
      }
    },
    {
      "cell_type": "markdown",
      "source": [
        "###**Activation Function**\n",
        "***\n",
        "* It is a function that is simply applied to our weighted sum function\n",
        "* Typically higher order/degree functions that allow us to add a higher dimension to our data so that we can (hopefully) extract different information/features from our data when looking at it from a higher dimension\n",
        "* By doing so, we can make better, more complex predictions \n",
        "* Some activation functions include: \n",
        "  * Relu (Rectified Linear Unit)\n",
        "  * ![alt text](https://yashuseth.files.wordpress.com/2018/02/relu-function.png?w=309&h=274)\n",
        "  * Tanh (Hyperbolic Tangent)\n",
        "  * ![alt text](http://mathworld.wolfram.com/images/interactive/TanhReal.gif)\n",
        "  * Sigmoid \n",
        "  * ![alt text](https://miro.medium.com/max/970/1*Xu7B5y9gp0iL5ooBj7LtWw.png)\n",
        "\n",
        "* We can define what activation function we want to apply at each neuron \n",
        "* At our output neuron, our activation function is **very important** because this is where we determine what we want our value to look like \n",
        "  * So here, we pick some activation function for our output neuron, for our purposes we will be using the sigmoid function which squishes our values between 0 and 1\n",
        "\n"
      ],
      "metadata": {
        "id": "xsbvTU6XdrzO"
      }
    },
    {
      "cell_type": "markdown",
      "source": [
        "###**Backpropogation**\n",
        "***\n",
        "* Backpropogation is the fundamental algorithm behind neural networks and is responsible for changing/updating the weights and biases of our network \n",
        "* If it makes more sense, essentially, once we calculate the gradient (based on our cost/loss function), backpropogation is responsible for going backwards through the network and updating the weights and. biases so that we move in that direction\n"
      ],
      "metadata": {
        "id": "gtR6W37qhYyr"
      }
    },
    {
      "cell_type": "markdown",
      "source": [
        "###**Cost/Loss function**\n",
        "***\n",
        "* Calculates how far away our actual output was from our expected output, essentially responsible for determining how well our network is doing and ultimately it is the network's job to optimize the cost function and make it as small as possible\n",
        "  * If loss was really high, then the changes to our weights and bias are more drastic (bigger changes)\n",
        "  * If our loss is good, the changes to our weights and bias will be minor (smaller changes)\n",
        "\n",
        "* Some common cost functions include:\n",
        "  * Mean Squared Error\n",
        "  - Mean Absolute Error\n",
        "  - Hinge Loss\n"
      ],
      "metadata": {
        "id": "8mlqfFoDmgpG"
      }
    },
    {
      "cell_type": "markdown",
      "source": [
        "###**Gradient Descent**\n",
        "***\n",
        "* The parameters for our network are weights and biases, by changing these weights and biases, we will either improve or worsen our network\n",
        "* Requires some pretty high level calculus and linear algebra\n",
        "* The formal network for gradient descent is the following:\n",
        "  * \"Gradient descent is an optimization algorithm used to minimize some function by iteratively moving in the direction of steepest descent as defined by the negative of the gradient. In machine learning, we use gradient descent to update the parameters of our model.\" (https://ml-cheatsheet.readthedocs.io/en/latest/gradient_descent.html)\n",
        "\n"
      ],
      "metadata": {
        "id": "0Wpp4po5ZaK4"
      }
    },
    {
      "cell_type": "markdown",
      "source": [
        "### **Training Data**\n",
        "***\n",
        "\n",
        "\n",
        "*   We make predictions\n",
        "*   Compare these predictions to whatever the expected values should be using this loss function\n",
        "*   Then we calculate a gradient (the direction we need to move to minimize the loss function)\n",
        "*   Then we use an algorithm known as backpropogation to step backwards through the network and update the weights and biases according to the gradient that we calculated\n",
        "*   Our network starts off horribly with a random value for weights and biasees, it follows through the listed above steps for a certain number of epochs to make our weights and biases better and better and ultimately resulting in us making better predictions and having a lower and lower loss\n",
        "\n"
      ],
      "metadata": {
        "id": "IFqAuENwdXIF"
      }
    },
    {
      "cell_type": "markdown",
      "source": [
        "###**Optimizer**\n",
        "***\n",
        "* This is simply the function that implements the backpropogation in our network\n",
        "* Some common optimizer's include:\n",
        "  - Gradient Descent\n",
        "  - Stochastic Gradient Descent\n",
        "  - Mini-Batch Gradient Descent\n",
        "  - Momentum\n",
        "  - Nesterov Accelerated Gradient\n",
        "\n",
        "* For our purposes, we will be using the adam optimizer"
      ],
      "metadata": {
        "id": "1niy-m93fy-N"
      }
    },
    {
      "cell_type": "markdown",
      "source": [
        "# **Creating a Neural Network**\n",
        "***\n",
        "Now it is time to create and train a very basic neural network"
      ],
      "metadata": {
        "id": "nUl2cCpnh-6A"
      }
    },
    {
      "cell_type": "markdown",
      "source": [
        "### **Introduction to Keras**\n",
        "***\n",
        "The keras official documentation (https://keras.io/) describes it as the following:<br><br>\n",
        "\n",
        "\"Keras is a high-level neural networks API, written in Python and capable of running on top of TensorFlow, CNTK, or Theano. It was developed with a focus on enabling fast experimentation. \n",
        "\n",
        "Use Keras if you need a deep learning library that:\n",
        "\n",
        "- Allows for easy and fast prototyping (through user friendliness, modularity, and extensibility).\n",
        "- Supports both convolutional networks and recurrent networks, as well as combinations of the two.\n",
        "- Runs seamlessly on CPU and GPU.\"<br><br>\n",
        "\n",
        "Essentially it is a very powerful tool that allows us to avoid having to build neural networks from scratch It also hides a lot of mathematical complexity inside of helpful packages, modules, and methods<br><br> \n",
        "\n",
        "We will be using keras for our own implementation of a neural network"
      ],
      "metadata": {
        "id": "_OEn1D5vaixM"
      }
    },
    {
      "cell_type": "markdown",
      "source": [
        "### **Imports**\n",
        "***\n"
      ],
      "metadata": {
        "id": "vLYbv-0NYp_j"
      }
    },
    {
      "cell_type": "code",
      "source": [
        "%tensorflow_version 2.x  # This line is not required unless you are in a notebook\n",
        "# TensorFlow and tf.keras\n",
        "import tensorflow as tf\n",
        "from tensorflow import keras\n",
        "\n",
        "# Helper libraries\n",
        "import numpy as np\n",
        "import matplotlib.pyplot as plt"
      ],
      "metadata": {
        "colab": {
          "base_uri": "https://localhost:8080/"
        },
        "id": "cOV6FxgXYy7m",
        "outputId": "993d3ea3-4640-4bd4-d2cd-977ca382592d"
      },
      "execution_count": 1,
      "outputs": [
        {
          "output_type": "stream",
          "name": "stdout",
          "text": [
            "Colab only includes TensorFlow 2.x; %tensorflow_version has no effect.\n"
          ]
        }
      ]
    },
    {
      "cell_type": "markdown",
      "source": [
        "### **Dataset**\n",
        "***\n",
        "For this model, we will be using the MNIST Fashion Dataset, it includes 60,000 images for training and 10,000 for testing our model<br><br>\n",
        "This dataset is essentially pixel data of clothing articles"
      ],
      "metadata": {
        "id": "3r-W7jQJY1bL"
      }
    },
    {
      "cell_type": "code",
      "source": [
        "fashion_mnist = keras.datasets.fashion_mnist  # load dataset\n",
        "\n",
        "(train_images, train_labels), (test_images, test_labels) = fashion_mnist.load_data()  # split into tetsing and training"
      ],
      "metadata": {
        "colab": {
          "base_uri": "https://localhost:8080/"
        },
        "id": "Gx37aO5eZLAs",
        "outputId": "6d990753-49ce-4454-d045-44ca95e1704f"
      },
      "execution_count": 2,
      "outputs": [
        {
          "output_type": "stream",
          "name": "stdout",
          "text": [
            "Downloading data from https://storage.googleapis.com/tensorflow/tf-keras-datasets/train-labels-idx1-ubyte.gz\n",
            "32768/29515 [=================================] - 0s 0us/step\n",
            "40960/29515 [=========================================] - 0s 0us/step\n",
            "Downloading data from https://storage.googleapis.com/tensorflow/tf-keras-datasets/train-images-idx3-ubyte.gz\n",
            "26427392/26421880 [==============================] - 0s 0us/step\n",
            "26435584/26421880 [==============================] - 0s 0us/step\n",
            "Downloading data from https://storage.googleapis.com/tensorflow/tf-keras-datasets/t10k-labels-idx1-ubyte.gz\n",
            "16384/5148 [===============================================================================================] - 0s 0us/step\n",
            "Downloading data from https://storage.googleapis.com/tensorflow/tf-keras-datasets/t10k-images-idx3-ubyte.gz\n",
            "4423680/4422102 [==============================] - 0s 0us/step\n",
            "4431872/4422102 [==============================] - 0s 0us/step\n"
          ]
        }
      ]
    },
    {
      "cell_type": "markdown",
      "source": [
        "We could also get the shape of the data to see whay we are working with"
      ],
      "metadata": {
        "id": "Bz621KUMZPPF"
      }
    },
    {
      "cell_type": "code",
      "source": [
        "train_images.shape"
      ],
      "metadata": {
        "colab": {
          "base_uri": "https://localhost:8080/"
        },
        "id": "0FstatunbwWn",
        "outputId": "3d5007f9-20a0-45cd-f91f-7156316256e0"
      },
      "execution_count": 5,
      "outputs": [
        {
          "output_type": "execute_result",
          "data": {
            "text/plain": [
              "(60000, 28, 28)"
            ]
          },
          "metadata": {},
          "execution_count": 5
        }
      ]
    },
    {
      "cell_type": "markdown",
      "source": [
        "So from above, we can conclude that we have 60,000 images in our training set thare each made up of 28 x 28 pixels (784 in total)"
      ],
      "metadata": {
        "id": "LbyDxE7acCQS"
      }
    },
    {
      "cell_type": "code",
      "source": [
        "train_images[0,23,23]  # let's have a look at one pixel from image 0, row 23, column 23\n",
        "# One pixel is represented by a number between 0 and 255, which is the grayscale value of the pixel"
      ],
      "metadata": {
        "colab": {
          "base_uri": "https://localhost:8080/"
        },
        "id": "PDvSwftGcQA1",
        "outputId": "48d819dd-c081-4a9b-8d2a-b4469d43eb33"
      },
      "execution_count": 10,
      "outputs": [
        {
          "output_type": "execute_result",
          "data": {
            "text/plain": [
              "194"
            ]
          },
          "metadata": {},
          "execution_count": 10
        }
      ]
    },
    {
      "cell_type": "markdown",
      "source": [
        "Our pixel values are between 0 and 255, 0 being black and 255 being white. This means we have a grayscale image as there are no color channels."
      ],
      "metadata": {
        "id": "HnozUhDRdEYG"
      }
    },
    {
      "cell_type": "code",
      "source": [
        "train_labels[:10]  # let's have a look at the first 10 training labels"
      ],
      "metadata": {
        "colab": {
          "base_uri": "https://localhost:8080/"
        },
        "id": "b4PR0ABTdRx8",
        "outputId": "ea8670b8-4208-48ea-b49e-738c746b76ef"
      },
      "execution_count": 11,
      "outputs": [
        {
          "output_type": "execute_result",
          "data": {
            "text/plain": [
              "array([9, 0, 0, 3, 0, 2, 7, 2, 5, 5], dtype=uint8)"
            ]
          },
          "metadata": {},
          "execution_count": 11
        }
      ]
    },
    {
      "cell_type": "markdown",
      "source": [
        "Our labels are integers ranging from 0 - 9 where each integer represents a specific article of clothing. We'll create an array of label names to indicate which is which."
      ],
      "metadata": {
        "id": "a7ktaQ6Xdy3B"
      }
    },
    {
      "cell_type": "code",
      "source": [
        "class_names = ['T-shirt/top', 'Trouser', 'Pullover', 'Dress', 'Coat',\n",
        "               'Sandal', 'Shirt', 'Sneaker', 'Bag', 'Ankle boot']"
      ],
      "metadata": {
        "id": "J7jKYFFHd_Ul"
      },
      "execution_count": 12,
      "outputs": []
    },
    {
      "cell_type": "markdown",
      "source": [
        "Now we can look at what some of these images look like!"
      ],
      "metadata": {
        "id": "KNw8XAlqeCrb"
      }
    },
    {
      "cell_type": "code",
      "source": [
        "plt.figure()\n",
        "plt.imshow(train_images[57645])\n",
        "plt.colorbar()\n",
        "plt.grid(False)\n",
        "plt.show()"
      ],
      "metadata": {
        "colab": {
          "base_uri": "https://localhost:8080/",
          "height": 265
        },
        "id": "PWnhfMs1eHJP",
        "outputId": "3fd6aeb4-f174-4abe-d970-7b40f3a8b88f"
      },
      "execution_count": 20,
      "outputs": [
        {
          "output_type": "display_data",
          "data": {
            "text/plain": [
              "<Figure size 432x288 with 2 Axes>"
            ],
            "image/png": "[encoded data removed]"
          },
          "metadata": {
            "needs_background": "light"
          }
        }
      ]
    },
    {
      "cell_type": "markdown",
      "source": [
        "###**Data Preprocessing**\n",
        "*Important step when creating neural networks*\n",
        "***\n",
        "\n",
        "\n",
        "*   We may have missing data or information we don't know/haven't seen and so it is important to preprocess our data\n",
        "*   What we will do here is squish all our values between 0 and 1\n",
        "*   Typically good idea when creating a neural network to get all your input values in between the range of [-1, 1] generally, trying to make our input values as small as possible to feed to the neural network\n",
        "*   We do this step as smaller values make it easier for the model to process our values \n",
        "*   The reason for this is ou model starts out with random biases in between the range of 0 and 1, so if we have massive input information and tiny weights, we'll end up with a mismatch, making it more difficult for our network to classify our information because it will have to work harder to update the weights and biases to reduce how big our resulting neuron values will be\n",
        "*   Make sure to apply this preprocessing step to both our training and testing images\n",
        "\n",
        "\n"
      ],
      "metadata": {
        "id": "uW5cd5DQehFA"
      }
    },
    {
      "cell_type": "code",
      "source": [
        "train_images = train_images / 255.0\n",
        "\n",
        "test_images = test_images / 255.0"
      ],
      "metadata": {
        "id": "irtjC233g_gE"
      },
      "execution_count": 21,
      "outputs": []
    },
    {
      "cell_type": "markdown",
      "source": [
        "### **Building the Model**\n",
        "***\n",
        "* Now we can go onto the next step: Building our model!<br><br>\n",
        "\n",
        "* Surprisingly easy! Hardest step is usually having to preprocess the data to get in the right form/shape<br><br>\n",
        "\n",
        "* Hyperparameter tuning: The process of changing hyperparameters such as number of neurons in each layer, activation function, etc to see how models perform with different hyperparameter values\n",
        "\n",
        "* We will be using a keras sequential model with 3 different layers. This will represent a feed-forward-neural network (passes values from left to right). Below is a breakdown of each layer and its architecture "
      ],
      "metadata": {
        "id": "HFLUANkRgz4w"
      }
    },
    {
      "cell_type": "code",
      "source": [
        "model = keras.Sequential([\n",
        "    keras.layers.Flatten(input_shape=(28, 28)),  # input layer (1)\n",
        "    keras.layers.Dense(128, activation='relu'),  # hidden layer (2)\n",
        "    keras.layers.Dense(10, activation='softmax') # output layer (3)\n",
        "])"
      ],
      "metadata": {
        "id": "mZqevIb1iKXb"
      },
      "execution_count": 22,
      "outputs": []
    },
    {
      "cell_type": "markdown",
      "source": [
        "**Layer 1:** \n",
        "* This first layer is our input layer and will consist of 784. We will use the flatten layer method with an input shape of (28, 28) to denote that our input should come in that shape. The flatten means that our layer will reshape the (28, 28) array of pixeks into a vector of 784 neurons so thay each pixel is associated with 1 neuron\n",
        "\n",
        "**Layer 2:**\n",
        "* This is the only hidden layer we will have in our neural network. The dense keyword tells us that this will be a densely connected layer where each neuron from the previous layer connects to each neuron of this layer. This hidden layer will have 128 neurons and the rectified linear unit will be the activation function for this hidden layer, good rule of thumb is to have the number of neurons in this layer be smaller than the input layer \n",
        "\n",
        "**Layer 3:**\n",
        "* This is our output layer and is also a densely connected layer, it only has 10 neurons which we will look at to determine our neural network's output. Each neuron will represent the probability of a given image being 1 of 10 different classes. Our activation function for this layer will be our softmax function in order to calculate a probability distribution for each class. Essentially, the value of each neuron in this layer will be between 0 and 1 where this value will represent the probability of it being the respective class. 1 of course, represents a high probability of the image being that class \n"
      ],
      "metadata": {
        "id": "4IzaI6vMi-1R"
      }
    },
    {
      "cell_type": "markdown",
      "source": [
        "### **Compiling our Model**\n",
        "***\n",
        "* Last step is to define our loss function, optimizer, as well as the metrics we would like to track"
      ],
      "metadata": {
        "id": "U4CyYiesn3a4"
      }
    },
    {
      "cell_type": "code",
      "source": [
        "model.compile(optimizer='adam',\n",
        "              loss='sparse_categorical_crossentropy',\n",
        "              metrics=['accuracy'])"
      ],
      "metadata": {
        "id": "_cAxOSFqoWu-"
      },
      "execution_count": 23,
      "outputs": []
    },
    {
      "cell_type": "markdown",
      "source": [
        "### **Training our model**\n",
        "***\n",
        "Now we can train our model, since we already preprocessed our data and got it good to go, all we need to do is call the fit method of our model to train our data"
      ],
      "metadata": {
        "id": "1SfEA0mooX-4"
      }
    },
    {
      "cell_type": "code",
      "source": [
        "model.fit(train_images, train_labels, epochs=10)  # we pass the data, labels and epochs and watch the magic!"
      ],
      "metadata": {
        "colab": {
          "base_uri": "https://localhost:8080/"
        },
        "id": "Bw6lxX5Yorvo",
        "outputId": "aee30c70-b7c2-497e-a987-0f9a5be07709"
      },
      "execution_count": 24,
      "outputs": [
        {
          "output_type": "stream",
          "name": "stdout",
          "text": [
            "Epoch 1/10\n",
            "1875/1875 [==============================] - 6s 3ms/step - loss: 0.5028 - accuracy: 0.8216\n",
            "Epoch 2/10\n",
            "1875/1875 [==============================] - 5s 3ms/step - loss: 0.3747 - accuracy: 0.8657\n",
            "Epoch 3/10\n",
            "1875/1875 [==============================] - 5s 3ms/step - loss: 0.3386 - accuracy: 0.8758\n",
            "Epoch 4/10\n",
            "1875/1875 [==============================] - 5s 3ms/step - loss: 0.3121 - accuracy: 0.8840\n",
            "Epoch 5/10\n",
            "1875/1875 [==============================] - 5s 3ms/step - loss: 0.2933 - accuracy: 0.8920\n",
            "Epoch 6/10\n",
            "1875/1875 [==============================] - 5s 3ms/step - loss: 0.2793 - accuracy: 0.8961\n",
            "Epoch 7/10\n",
            "1875/1875 [==============================] - 5s 3ms/step - loss: 0.2652 - accuracy: 0.9010\n",
            "Epoch 8/10\n",
            "1875/1875 [==============================] - 5s 3ms/step - loss: 0.2535 - accuracy: 0.9059\n",
            "Epoch 9/10\n",
            "1875/1875 [==============================] - 5s 3ms/step - loss: 0.2453 - accuracy: 0.9081\n",
            "Epoch 10/10\n",
            "1875/1875 [==============================] - 5s 3ms/step - loss: 0.2357 - accuracy: 0.9111\n"
          ]
        },
        {
          "output_type": "execute_result",
          "data": {
            "text/plain": [
              "<keras.callbacks.History at 0x7f2783d88090>"
            ]
          },
          "metadata": {},
          "execution_count": 24
        }
      ]
    },
    {
      "cell_type": "markdown",
      "source": [
        "### **Evaluating our Model**\n",
        "*** \n",
        "Now we can evaluate/test our model by again calling a simple built in method from our model<br><br>\n",
        "\n",
        "The *verbose* argument is defined from the keras documentation as:\n",
        "\"verbose: 0 or 1. Verbosity mode. 0 = silent, 1 = progress bar.\"\n",
        "(https://keras.io/models/sequential"
      ],
      "metadata": {
        "id": "faKXK9GjpGKl"
      }
    },
    {
      "cell_type": "code",
      "source": [
        "test_loss, test_acc = model.evaluate(test_images,  test_labels, verbose=1) \n",
        "\n",
        "print('Test accuracy:', test_acc)"
      ],
      "metadata": {
        "colab": {
          "base_uri": "https://localhost:8080/"
        },
        "id": "aY7gRq_IpbYK",
        "outputId": "af985676-4d18-46f2-e417-55a1cf98e208"
      },
      "execution_count": 25,
      "outputs": [
        {
          "output_type": "stream",
          "name": "stdout",
          "text": [
            "313/313 [==============================] - 1s 3ms/step - loss: 0.3296 - accuracy: 0.8847\n",
            "Test accuracy: 0.8847000002861023\n"
          ]
        }
      ]
    },
    {
      "cell_type": "markdown",
      "source": [
        "The accuracy here is lower than while training the model. This difference is commonly referred to as **overfitting**<br><br>\n",
        "\n",
        "**Overfitting**: Model sees training data so often to the point that it begins to \"memorize\" that data and get good at seeing it, and it becomes not as good at generalizing for other data it hasn't seen before<br><br>\n",
        "\n",
        "So in this case as with other learning algorithms, we want the highest accuracy possible on new data, so we need to make sure our model generalizes properly by perhaps doing some hyperparameter tuning (such as changing the number of epochs, our optimizer, our loss function, etc.)<br><br>\n",
        "\n",
        "\n",
        "Now, we go ahead and start predicting values using this neural network!"
      ],
      "metadata": {
        "id": "-fpENZ9grqBu"
      }
    },
    {
      "cell_type": "markdown",
      "source": [
        "### **Making Predictions**\n",
        "***\n",
        "To make predictions, it is as simple as passing in an array of data in the form we've specified in the input layer to our .predict() method"
      ],
      "metadata": {
        "id": "WxzbuTxtuo1a"
      }
    },
    {
      "cell_type": "code",
      "source": [
        "predictions = model.predict(test_images)"
      ],
      "metadata": {
        "id": "kCQxp0FRu82t"
      },
      "execution_count": 26,
      "outputs": []
    },
    {
      "cell_type": "markdown",
      "source": [
        "The method above will return us an array of predictions for each image we passed it. Let's look now at the predictions for image 1"
      ],
      "metadata": {
        "id": "eqTyj946vH8d"
      }
    },
    {
      "cell_type": "code",
      "source": [
        "predictions[0]"
      ],
      "metadata": {
        "colab": {
          "base_uri": "https://localhost:8080/"
        },
        "id": "hcvpuSLovg7B",
        "outputId": "d6f41c50-4042-4ff1-a895-0587b36abf84"
      },
      "execution_count": 27,
      "outputs": [
        {
          "output_type": "execute_result",
          "data": {
            "text/plain": [
              "array([2.2340187e-06, 2.4328094e-07, 6.4788286e-09, 1.4283414e-07,\n",
              "       1.0705815e-07, 4.6121948e-03, 8.5212645e-07, 8.7377038e-03,\n",
              "       2.5578170e-06, 9.8664385e-01], dtype=float32)"
            ]
          },
          "metadata": {},
          "execution_count": 27
        }
      ]
    },
    {
      "cell_type": "markdown",
      "source": [
        "Each value in the array above essentially represents the probability of it being that class and we know this as we can see there are 10 values inside the array above!"
      ],
      "metadata": {
        "id": "Di9sOan0v92C"
      }
    },
    {
      "cell_type": "markdown",
      "source": [
        "To get the value with the highest score (predicted class), we can use the argmax() method of numpy which will return the index of the max value from a numpy array"
      ],
      "metadata": {
        "id": "xsPHY1s1wMVt"
      }
    },
    {
      "cell_type": "code",
      "source": [
        "np.argmax(predictions[0])"
      ],
      "metadata": {
        "colab": {
          "base_uri": "https://localhost:8080/"
        },
        "id": "ux9rDkrJweJ8",
        "outputId": "c656b331-867c-466f-b2a4-d5c4ae3238ab"
      },
      "execution_count": 28,
      "outputs": [
        {
          "output_type": "execute_result",
          "data": {
            "text/plain": [
              "9"
            ]
          },
          "metadata": {},
          "execution_count": 28
        }
      ]
    },
    {
      "cell_type": "markdown",
      "source": [
        "Now we can check if this is the expected output by looking at the value of the corresponding test label"
      ],
      "metadata": {
        "id": "ahPxUM4ZwqSo"
      }
    },
    {
      "cell_type": "code",
      "source": [
        "test_labels[0]"
      ],
      "metadata": {
        "colab": {
          "base_uri": "https://localhost:8080/"
        },
        "id": "GRkXSc3DwybU",
        "outputId": "c56fa908-9626-4f4f-e0ff-2051b68294aa"
      },
      "execution_count": 29,
      "outputs": [
        {
          "output_type": "execute_result",
          "data": {
            "text/plain": [
              "9"
            ]
          },
          "metadata": {},
          "execution_count": 29
        }
      ]
    },
    {
      "cell_type": "markdown",
      "source": [
        "Now let's show the image of the prediction "
      ],
      "metadata": {
        "id": "mMHiI7ZXxbm9"
      }
    },
    {
      "cell_type": "code",
      "source": [
        "plt.figure()\n",
        "plt.imshow(test_images[0])\n",
        "plt.colorbar()\n",
        "plt.grid(False)\n",
        "plt.show()"
      ],
      "metadata": {
        "colab": {
          "base_uri": "https://localhost:8080/",
          "height": 269
        },
        "id": "tGI9AjlGxwyf",
        "outputId": "020fea47-b2c3-4881-fdb9-6cb55e2ce2bf"
      },
      "execution_count": 30,
      "outputs": [
        {
          "output_type": "display_data",
          "data": {
            "text/plain": [
              "<Figure size 432x288 with 2 Axes>"
            ],
            "image/png": "[encoded data removed]"
          },
          "metadata": {
            "needs_background": "light"
          }
        }
      ]
    },
    {
      "cell_type": "markdown",
      "source": [
        "We can do the above with any of the images in our testing dataset"
      ],
      "metadata": {
        "id": "7BZS7gtSx0pN"
      }
    },
    {
      "cell_type": "markdown",
      "source": [
        "### **Verifying Prediction**\n",
        "***\n",
        "* This is a cool little script that lets us use our model to actually make predictions on any entry we want \n",
        "* It will ask us to type in some number, it's going to find that image in the test dataset, it will make a prediction on this chosen image and then show us the actual output vs the expected output"
      ],
      "metadata": {
        "id": "nxuKHK0hx5cC"
      }
    },
    {
      "cell_type": "code",
      "source": [
        "COLOR = 'white'\n",
        "plt.rcParams['text.color'] = COLOR\n",
        "plt.rcParams['axes.labelcolor'] = COLOR\n",
        "\n",
        "def predict(model, image, correct_label):\n",
        "  class_names = ['T-shirt/top', 'Trouser', 'Pullover', 'Dress', 'Coat',\n",
        "               'Sandal', 'Shirt', 'Sneaker', 'Bag', 'Ankle boot']\n",
        "  prediction = model.predict(np.array([image]))\n",
        "  predicted_class = class_names[np.argmax(prediction)]\n",
        "\n",
        "  return show_image(image, class_names[correct_label], predicted_class)\n",
        "\n",
        "\n",
        "def show_image(img, label, guess):\n",
        "  plt.style.use('classic')\n",
        "  plt.figure()\n",
        "  plt.imshow(img, cmap=plt.cm.binary)\n",
        "  plt.title(\"Expected: \" + label)\n",
        "  plt.xlabel(\"Guess: \" + guess)\n",
        "  plt.colorbar()\n",
        "  plt.grid(False)\n",
        "  plt.show()\n",
        "\n",
        "\n",
        "def get_number():\n",
        "  while True:\n",
        "    num = input(\"Pick a number: \")\n",
        "    if num.isdigit():\n",
        "      num = int(num)\n",
        "      if 0 <= num <= 1000:\n",
        "        return int(num)\n",
        "    else:\n",
        "      print(\"Try again...\")\n",
        "\n",
        "num = get_number()\n",
        "image = test_images[num]\n",
        "label = test_labels[num]\n",
        "predict(model, image, label)"
      ],
      "metadata": {
        "colab": {
          "base_uri": "https://localhost:8080/",
          "height": 488
        },
        "id": "ecgZKmPLy_OM",
        "outputId": "be7c9d23-60f7-4213-bbf4-62becbc1e4b2"
      },
      "execution_count": 41,
      "outputs": [
        {
          "name": "stdout",
          "output_type": "stream",
          "text": [
            "Pick a number: 7\n"
          ]
        },
        {
          "output_type": "display_data",
          "data": {
            "text/plain": [
              "<Figure size 640x480 with 2 Axes>"
            ],
            "image/png": "[encoded data removed]"
          },
          "metadata": {}
        }
      ]
    },
    {
      "cell_type": "markdown",
      "source": [
        "This is it for the module on neural networks, in the next module, we will dive into convolutional neural networks"
      ],
      "metadata": {
        "id": "TqL1-YXC0EAo"
      }
    },
    {
      "cell_type": "markdown",
      "source": [
        "# **Sources**:\n",
        "1. Doshi, Sanket. “Various Optimization Algorithms For Training Neural Network.” Medium, Medium, 10 Mar. 2019, www.medium.com/@sdoshi579/optimizers-for-training-neural-network-59450d71caf6.\n",
        "\n",
        "2. “Basic Classification: Classify Images of Clothing &nbsp;: &nbsp; TensorFlow Core.” TensorFlow, www.tensorflow.org/tutorials/keras/classification.\n",
        "\n",
        "3. “Gradient Descent¶.” Gradient Descent - ML Glossary Documentation, www.ml-cheatsheet.readthedocs.io/en/latest/gradient_descent.html.\n",
        "\n",
        "4. Chollet François. Deep Learning with Python. Manning Publications Co., 2018.\n",
        "\n",
        "5. “Keras: The Python Deep Learning Library.” Home - Keras Documentation, www.keras.io/.\n",
        "\n",
        "6. Tim Russica \"Tech with Tim\" [Youtube](https://www.youtube.com/channel/UC4JX...)<br>[LinkedIn](https://www.linkedin.com/in/tim-ruscica/)\n"
      ],
      "metadata": {
        "id": "7D0KHAk_3TnF"
      }
    }
  ]
}