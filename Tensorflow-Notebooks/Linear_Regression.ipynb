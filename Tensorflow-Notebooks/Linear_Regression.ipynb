{
  "nbformat": 4,
  "nbformat_minor": 0,
  "metadata": {
    "colab": {
      "name": "Linear_Regression.ipynb",
      "provenance": [],
      "authorship_tag": "ABX9TyM3D2b8ORW5MFhHxZmNmsYu",
      "include_colab_link": true
    },
    "kernelspec": {
      "name": "python3",
      "display_name": "Python 3"
    },
    "language_info": {
      "name": "python"
    }
  },
  "cells": [
    {
      "cell_type": "markdown",
      "metadata": {
        "id": "view-in-github",
        "colab_type": "text"
      },
      "source": [
        "<a href=\"https://colab.research.google.com/github/AXM78251/Python_ML/blob/main/Linear_Regression.ipynb\" target=\"_parent\"><img src=\"https://colab.research.google.com/assets/colab-badge.svg\" alt=\"Open In Colab\"/></a>"
      ]
    },
    {
      "cell_type": "markdown",
      "source": [
        "# **TensorFlow Core Learning Algorithms**\n",
        "***\n",
        "This notebook will cover 4 of the most fundamental machine learning algorithms. This notebook will apply these algorithms to unique problems and datasets and explain the uses for each. <br><br>\n",
        "These four algorithms include:\n",
        "\n",
        "\n",
        "*   Linear Regression\n",
        "*   Classification\n",
        "*   Clustering\n",
        "*   Hidden Markov Models\n",
        "\n",
        "\n"
      ],
      "metadata": {
        "id": "ljc1usid2yj0"
      }
    },
    {
      "cell_type": "markdown",
      "source": [
        "# **Linear Regression**\n",
        "***\n",
        "One of the most basic forms of machine learning and is used to predict numeric values -- tries to form a linear correspondence between data points<br><br>\n",
        "\n",
        "Common examples of linear regression involve only working with 2 dimensions but we certainly do this in higher dimensions as well where we have 8 or 9 input variables and 1 output variable we are predicting<br><br>\n",
        "\n",
        "So long as our data points are correlated linearly in three dimensions, we can still do this<br><br>\n",
        "\n",
        "# How it Works\n",
        "***\n",
        "***Key concept: If data points are labeled linearly, then we can generate a line of best fit for these points and use it to predict future values***<br><br>\n",
        "\n",
        "Example in 2 dimensions below<br><br>"
      ],
      "metadata": {
        "id": "26XApJDl3lFQ"
      }
    },
    {
      "cell_type": "code",
      "source": [
        "import matplotlib.pyplot as plt\n",
        "import numpy as np\n",
        "\n",
        "x = [1, 2, 2.5, 3, 4]\n",
        "y = [1, 4, 7, 9, 15]\n",
        "plt.plot(x, y, 'ro')\n",
        "plt.axis([0, 6, 0, 20])"
      ],
      "metadata": {
        "colab": {
          "base_uri": "https://localhost:8080/",
          "height": 287
        },
        "id": "5q6BdYu540w0",
        "outputId": "4e41c4ca-ac3d-4e0c-f00a-78291cf227ed"
      },
      "execution_count": null,
      "outputs": [
        {
          "output_type": "execute_result",
          "data": {
            "text/plain": [
              "(0.0, 6.0, 0.0, 20.0)"
            ]
          },
          "metadata": {},
          "execution_count": 3
        },
        {
          "output_type": "display_data",
          "data": {
            "text/plain": [
              "<Figure size 432x288 with 1 Axes>"
            ],
            "image/png": "[encoded data removed]"
          },
          "metadata": {
            "needs_background": "light"
          }
        }
      ]
    },
    {
      "cell_type": "markdown",
      "source": [
        "For some unique dataset, we want to come up with a model that can give us some good predictions for our data points\n",
        "<br><br>\n",
        "For the scenario above, we want to predict a reasonable y value given some x value for a data point, we see some linear correspondence between the data points, so we can draw a line of best fit that best expresses the relationship between these points"
      ],
      "metadata": {
        "id": "4OyuveCt5Dhp"
      }
    },
    {
      "cell_type": "markdown",
      "source": [
        "Below is an example of a line of best fit for the above dataset"
      ],
      "metadata": {
        "id": "flxfhWp06GiY"
      }
    },
    {
      "cell_type": "code",
      "source": [
        "plt.plot(x, y, 'ro')\n",
        "plt.axis([0, 6, 0, 20])\n",
        "plt.plot(np.unique(x), np.poly1d(np.polyfit(x, y, 1))(np.unique(x)))\n",
        "plt.show()"
      ],
      "metadata": {
        "colab": {
          "base_uri": "https://localhost:8080/",
          "height": 269
        },
        "id": "QvTPKyLN6UpF",
        "outputId": "15e31905-506c-4f96-fee6-c632ba52e369"
      },
      "execution_count": null,
      "outputs": [
        {
          "output_type": "display_data",
          "data": {
            "text/plain": [
              "<Figure size 432x288 with 1 Axes>"
            ],
            "image/png": "[encoded data removed]"
          },
          "metadata": {
            "needs_background": "light"
          }
        }
      ]
    },
    {
      "cell_type": "markdown",
      "source": [
        "Once we generate the line of best fit, we can use it to predict future values in our dataset!!"
      ],
      "metadata": {
        "id": "yjktBvRw6ai2"
      }
    },
    {
      "cell_type": "markdown",
      "source": [
        "# **Setup and Imports**\n",
        "***\n",
        "\n",
        "Before doing anything else install the following:"
      ],
      "metadata": {
        "id": "sS0lA4ka7aRN"
      }
    },
    {
      "cell_type": "code",
      "source": [
        "!pip install -q sklearn"
      ],
      "metadata": {
        "id": "KEOXwXcrAm49"
      },
      "execution_count": null,
      "outputs": []
    },
    {
      "cell_type": "code",
      "source": [
        "%tensorflow_version 2.x # Required at the beginning of every notebook"
      ],
      "metadata": {
        "colab": {
          "base_uri": "https://localhost:8080/"
        },
        "id": "0oZtrhPXAvsD",
        "outputId": "98bfbfd5-dab6-48ce-ace6-3cb41e06f0c2"
      },
      "execution_count": null,
      "outputs": [
        {
          "output_type": "stream",
          "name": "stdout",
          "text": [
            "Colab only includes TensorFlow 2.x; %tensorflow_version has no effect.\n"
          ]
        }
      ]
    },
    {
      "cell_type": "code",
      "source": [
        "from __future__ import absolute_import, division, print_function, unicode_literals\n",
        "\n",
        "import numpy as np\n",
        "import pandas as pd\n",
        "import matplotlib.pyplot as plt\n",
        "from IPython.display import clear_output\n",
        "from six.moves import urllib\n",
        "\n",
        "import tensorflow.compat.v2.feature_column as fc\n",
        "\n",
        "import tensorflow as tf"
      ],
      "metadata": {
        "id": "RJMTT-SQA42F"
      },
      "execution_count": null,
      "outputs": []
    },
    {
      "cell_type": "markdown",
      "source": [
        "# **Explanation of Imports:** \n",
        "***\n",
        "\n",
        "\n",
        "*   ***numpy*** -- a very optimized version of arrays in Python, allows us to do multi dimensional calculations\n",
        "*   ***pandas*** -- a data analytics tool, allows us to very easily manipulate datawhere that is loading in datasets, viewing datasets, cutting off specific rows/columns, etc\n",
        "* ***matplotlib.pyplot*** -- allows us visualizations of graphs and charts\n",
        "* ***clear_output*** -- specific for this notebook, just used to clear the output\n",
        "* ***urllib*** -- \"six\" package allows us to write code that is compatible with both Python 2 and Python 3\n",
        "* ***tensor.compat.v2.feature_column*** -- we need something called a feature column when we create a linear regression algorithm/model in TensorFlow\n",
        "\n"
      ],
      "metadata": {
        "id": "-M5fKzQHBCEc"
      }
    },
    {
      "cell_type": "markdown",
      "source": [
        "# ***Data***\n",
        "***\n",
        "One of the most important parts of machine learning is data! For this linear regression model, we'll be using the titanic dataset. It has information about each passenger on the ship and using this dataset, we will aim to predict who will survive (or likelihood someone will survive) given a bunch of information <br><br>\n",
        "\n",
        "***IMPORTANT***: always make sure to understand the data and exploring it before doing anything else<br><br>\n",
        "\n",
        "**Below we will load in the dataset and learn how we can explore it using built in tools**"
      ],
      "metadata": {
        "id": "Oe3nX3pqEUSQ"
      }
    },
    {
      "cell_type": "code",
      "source": [
        "# Load dataset.\n",
        "dftrain = pd.read_csv('https://storage.googleapis.com/tf-datasets/titanic/train.csv') # Training data\n",
        "dfeval = pd.read_csv('https://storage.googleapis.com/tf-datasets/titanic/eval.csv') # Testing data\n",
        "y_train = dftrain.pop('survived')\n",
        "y_eval = dfeval.pop('survived')"
      ],
      "metadata": {
        "id": "KKMcRFqnF6YV"
      },
      "execution_count": null,
      "outputs": []
    },
    {
      "cell_type": "markdown",
      "source": [
        "When we have data, such as dataset above, we don't necessarily know what kind of correlations there might be, but we can kind of assume there is some linear thing we are looking for, some kind of pattern, for this reason it is important to explore our data before doing anything else"
      ],
      "metadata": {
        "id": "GECMqqJoHPLI"
      }
    },
    {
      "cell_type": "markdown",
      "source": [
        "If we look above, we have two datasets:\n",
        "\n",
        "\n",
        "*   Training dataset\n",
        "*   Testing dataset\n",
        "\n",
        "**Training datasets** will be used to train our model <br>\n",
        "**Testing dataset** will be used to test out our model after we have finished training it<br><br>\n",
        "The reason we do this is because when we train our model for accuracy to see how well it is doing, it doesn't make sense to test it on data it has already seen, so therefore we need fresh data which is given to us by our **testing dataset**\n",
        "\n",
        "\n",
        "\n"
      ],
      "metadata": {
        "id": "KRkrV-4DH0fX"
      }
    },
    {
      "cell_type": "markdown",
      "source": [
        "For the dataset above, pd.read_csv() will return to us a new pandas dataframe, which allows us to view our data in a nice form similar to a table<br><br>\n",
        "We can \"pop\" out a column as done above where we have popped out the \"survived\" column from our dataset to store it in a new variable and this column will simply let us know whether the person survived or not<br><br>\n",
        "We can use the .head() method to look at the first 5 items/entries in our dataframe and that is what we do below"
      ],
      "metadata": {
        "id": "3Da_ynAqIyJs"
      }
    },
    {
      "cell_type": "code",
      "source": [
        "dftrain.head()"
      ],
      "metadata": {
        "colab": {
          "base_uri": "https://localhost:8080/",
          "height": 206
        },
        "id": "U8KQ5z2aKLaN",
        "outputId": "657116bc-2cf7-4223-d076-457b6d1b9a3e"
      },
      "execution_count": null,
      "outputs": [
        {
          "output_type": "execute_result",
          "data": {
            "text/plain": [
              "      sex   age  n_siblings_spouses  parch     fare  class     deck  \\\n",
              "0    male  22.0                   1      0   7.2500  Third  unknown   \n",
              "1  female  38.0                   1      0  71.2833  First        C   \n",
              "2  female  26.0                   0      0   7.9250  Third  unknown   \n",
              "3  female  35.0                   1      0  53.1000  First        C   \n",
              "4    male  28.0                   0      0   8.4583  Third  unknown   \n",
              "\n",
              "   embark_town alone  \n",
              "0  Southampton     n  \n",
              "1    Cherbourg     n  \n",
              "2  Southampton     y  \n",
              "3  Southampton     n  \n",
              "4   Queenstown     y  "
            ],
            "text/html": [
              "\n",
              "  <div id=\"df-b18c19ae-ad00-45a7-bcc4-00e7830b74e7\">\n",
              "    <div class=\"colab-df-container\">\n",
              "      <div>\n",
              "<style scoped>\n",
              "    .dataframe tbody tr th:only-of-type {\n",
              "        vertical-align: middle;\n",
              "    }\n",
              "\n",
              "    .dataframe tbody tr th {\n",
              "        vertical-align: top;\n",
              "    }\n",
              "\n",
              "    .dataframe thead th {\n",
              "        text-align: right;\n",
              "    }\n",
              "</style>\n",
              "<table border=\"1\" class=\"dataframe\">\n",
              "  <thead>\n",
              "    <tr style=\"text-align: right;\">\n",
              "      <th></th>\n",
              "      <th>sex</th>\n",
              "      <th>age</th>\n",
              "      <th>n_siblings_spouses</th>\n",
              "      <th>parch</th>\n",
              "      <th>fare</th>\n",
              "      <th>class</th>\n",
              "      <th>deck</th>\n",
              "      <th>embark_town</th>\n",
              "      <th>alone</th>\n",
              "    </tr>\n",
              "  </thead>\n",
              "  <tbody>\n",
              "    <tr>\n",
              "      <th>0</th>\n",
              "      <td>male</td>\n",
              "      <td>22.0</td>\n",
              "      <td>1</td>\n",
              "      <td>0</td>\n",
              "      <td>7.2500</td>\n",
              "      <td>Third</td>\n",
              "      <td>unknown</td>\n",
              "      <td>Southampton</td>\n",
              "      <td>n</td>\n",
              "    </tr>\n",
              "    <tr>\n",
              "      <th>1</th>\n",
              "      <td>female</td>\n",
              "      <td>38.0</td>\n",
              "      <td>1</td>\n",
              "      <td>0</td>\n",
              "      <td>71.2833</td>\n",
              "      <td>First</td>\n",
              "      <td>C</td>\n",
              "      <td>Cherbourg</td>\n",
              "      <td>n</td>\n",
              "    </tr>\n",
              "    <tr>\n",
              "      <th>2</th>\n",
              "      <td>female</td>\n",
              "      <td>26.0</td>\n",
              "      <td>0</td>\n",
              "      <td>0</td>\n",
              "      <td>7.9250</td>\n",
              "      <td>Third</td>\n",
              "      <td>unknown</td>\n",
              "      <td>Southampton</td>\n",
              "      <td>y</td>\n",
              "    </tr>\n",
              "    <tr>\n",
              "      <th>3</th>\n",
              "      <td>female</td>\n",
              "      <td>35.0</td>\n",
              "      <td>1</td>\n",
              "      <td>0</td>\n",
              "      <td>53.1000</td>\n",
              "      <td>First</td>\n",
              "      <td>C</td>\n",
              "      <td>Southampton</td>\n",
              "      <td>n</td>\n",
              "    </tr>\n",
              "    <tr>\n",
              "      <th>4</th>\n",
              "      <td>male</td>\n",
              "      <td>28.0</td>\n",
              "      <td>0</td>\n",
              "      <td>0</td>\n",
              "      <td>8.4583</td>\n",
              "      <td>Third</td>\n",
              "      <td>unknown</td>\n",
              "      <td>Queenstown</td>\n",
              "      <td>y</td>\n",
              "    </tr>\n",
              "  </tbody>\n",
              "</table>\n",
              "</div>\n",
              "      <button class=\"colab-df-convert\" onclick=\"convertToInteractive('df-b18c19ae-ad00-45a7-bcc4-00e7830b74e7')\"\n",
              "              title=\"Convert this dataframe to an interactive table.\"\n",
              "              style=\"display:none;\">\n",
              "        \n",
              "  <svg xmlns=\"http://www.w3.org/2000/svg\" height=\"24px\"viewBox=\"0 0 24 24\"\n",
              "       width=\"24px\">\n",
              "    <path d=\"M0 0h24v24H0V0z\" fill=\"none\"/>\n",
              "    <path d=\"M18.56 5.44l.94 2.06.94-2.06 2.06-.94-2.06-.94-.94-2.06-.94 2.06-2.06.94zm-11 1L8.5 8.5l.94-2.06 2.06-.94-2.06-.94L8.5 2.5l-.94 2.06-2.06.94zm10 10l.94 2.06.94-2.06 2.06-.94-2.06-.94-.94-2.06-.94 2.06-2.06.94z\"/><path d=\"M17.41 7.96l-1.37-1.37c-.4-.4-.92-.59-1.43-.59-.52 0-1.04.2-1.43.59L10.3 9.45l-7.72 7.72c-.78.78-.78 2.05 0 2.83L4 21.41c.39.39.9.59 1.41.59.51 0 1.02-.2 1.41-.59l7.78-7.78 2.81-2.81c.8-.78.8-2.07 0-2.86zM5.41 20L4 18.59l7.72-7.72 1.47 1.35L5.41 20z\"/>\n",
              "  </svg>\n",
              "      </button>\n",
              "      \n",
              "  <style>\n",
              "    .colab-df-container {\n",
              "      display:flex;\n",
              "      flex-wrap:wrap;\n",
              "      gap: 12px;\n",
              "    }\n",
              "\n",
              "    .colab-df-convert {\n",
              "      background-color: #E8F0FE;\n",
              "      border: none;\n",
              "      border-radius: 50%;\n",
              "      cursor: pointer;\n",
              "      display: none;\n",
              "      fill: #1967D2;\n",
              "      height: 32px;\n",
              "      padding: 0 0 0 0;\n",
              "      width: 32px;\n",
              "    }\n",
              "\n",
              "    .colab-df-convert:hover {\n",
              "      background-color: #E2EBFA;\n",
              "      box-shadow: 0px 1px 2px rgba(60, 64, 67, 0.3), 0px 1px 3px 1px rgba(60, 64, 67, 0.15);\n",
              "      fill: #174EA6;\n",
              "    }\n",
              "\n",
              "    [theme=dark] .colab-df-convert {\n",
              "      background-color: #3B4455;\n",
              "      fill: #D2E3FC;\n",
              "    }\n",
              "\n",
              "    [theme=dark] .colab-df-convert:hover {\n",
              "      background-color: #434B5C;\n",
              "      box-shadow: 0px 1px 3px 1px rgba(0, 0, 0, 0.15);\n",
              "      filter: drop-shadow(0px 1px 2px rgba(0, 0, 0, 0.3));\n",
              "      fill: #FFFFFF;\n",
              "    }\n",
              "  </style>\n",
              "\n",
              "      <script>\n",
              "        const buttonEl =\n",
              "          document.querySelector('#df-b18c19ae-ad00-45a7-bcc4-00e7830b74e7 button.colab-df-convert');\n",
              "        buttonEl.style.display =\n",
              "          google.colab.kernel.accessAllowed ? 'block' : 'none';\n",
              "\n",
              "        async function convertToInteractive(key) {\n",
              "          const element = document.querySelector('#df-b18c19ae-ad00-45a7-bcc4-00e7830b74e7');\n",
              "          const dataTable =\n",
              "            await google.colab.kernel.invokeFunction('convertToInteractive',\n",
              "                                                     [key], {});\n",
              "          if (!dataTable) return;\n",
              "\n",
              "          const docLinkHtml = 'Like what you see? Visit the ' +\n",
              "            '<a target=\"_blank\" href=https://colab.research.google.com/notebooks/data_table.ipynb>data table notebook</a>'\n",
              "            + ' to learn more about interactive tables.';\n",
              "          element.innerHTML = '';\n",
              "          dataTable['output_type'] = 'display_data';\n",
              "          await google.colab.output.renderOutput(dataTable, element);\n",
              "          const docLink = document.createElement('div');\n",
              "          docLink.innerHTML = docLinkHtml;\n",
              "          element.appendChild(docLink);\n",
              "        }\n",
              "      </script>\n",
              "    </div>\n",
              "  </div>\n",
              "  "
            ]
          },
          "metadata": {},
          "execution_count": 11
        }
      ]
    },
    {
      "cell_type": "markdown",
      "source": [
        "Some useful tips for working with dataframes:\n",
        "\n",
        "*   dataset.loc[x] - will give us one specific row in our dataframe\n",
        "*   dataset['column_n'] to get/reference a specific column\n",
        "\n",
        "\n",
        "\n",
        "\n",
        "\n"
      ],
      "metadata": {
        "id": "0Igww1ybLzWw"
      }
    },
    {
      "cell_type": "markdown",
      "source": [
        "To get a more statistical analysis of our data we can use the .describe() method"
      ],
      "metadata": {
        "id": "_nYoybYgOyRy"
      }
    },
    {
      "cell_type": "code",
      "source": [
        "dftrain.describe()"
      ],
      "metadata": {
        "colab": {
          "base_uri": "https://localhost:8080/",
          "height": 300
        },
        "id": "DZvsRsYnO6sg",
        "outputId": "5edf24e1-5b2b-4f89-979a-84688b19d190"
      },
      "execution_count": null,
      "outputs": [
        {
          "output_type": "execute_result",
          "data": {
            "text/plain": [
              "              age  n_siblings_spouses       parch        fare\n",
              "count  627.000000          627.000000  627.000000  627.000000\n",
              "mean    29.631308            0.545455    0.379585   34.385399\n",
              "std     12.511818            1.151090    0.792999   54.597730\n",
              "min      0.750000            0.000000    0.000000    0.000000\n",
              "25%     23.000000            0.000000    0.000000    7.895800\n",
              "50%     28.000000            0.000000    0.000000   15.045800\n",
              "75%     35.000000            1.000000    0.000000   31.387500\n",
              "max     80.000000            8.000000    5.000000  512.329200"
            ],
            "text/html": [
              "\n",
              "  <div id=\"df-a32bb0a9-d167-4b1f-b3b5-7cddc1e5f1e9\">\n",
              "    <div class=\"colab-df-container\">\n",
              "      <div>\n",
              "<style scoped>\n",
              "    .dataframe tbody tr th:only-of-type {\n",
              "        vertical-align: middle;\n",
              "    }\n",
              "\n",
              "    .dataframe tbody tr th {\n",
              "        vertical-align: top;\n",
              "    }\n",
              "\n",
              "    .dataframe thead th {\n",
              "        text-align: right;\n",
              "    }\n",
              "</style>\n",
              "<table border=\"1\" class=\"dataframe\">\n",
              "  <thead>\n",
              "    <tr style=\"text-align: right;\">\n",
              "      <th></th>\n",
              "      <th>age</th>\n",
              "      <th>n_siblings_spouses</th>\n",
              "      <th>parch</th>\n",
              "      <th>fare</th>\n",
              "    </tr>\n",
              "  </thead>\n",
              "  <tbody>\n",
              "    <tr>\n",
              "      <th>count</th>\n",
              "      <td>627.000000</td>\n",
              "      <td>627.000000</td>\n",
              "      <td>627.000000</td>\n",
              "      <td>627.000000</td>\n",
              "    </tr>\n",
              "    <tr>\n",
              "      <th>mean</th>\n",
              "      <td>29.631308</td>\n",
              "      <td>0.545455</td>\n",
              "      <td>0.379585</td>\n",
              "      <td>34.385399</td>\n",
              "    </tr>\n",
              "    <tr>\n",
              "      <th>std</th>\n",
              "      <td>12.511818</td>\n",
              "      <td>1.151090</td>\n",
              "      <td>0.792999</td>\n",
              "      <td>54.597730</td>\n",
              "    </tr>\n",
              "    <tr>\n",
              "      <th>min</th>\n",
              "      <td>0.750000</td>\n",
              "      <td>0.000000</td>\n",
              "      <td>0.000000</td>\n",
              "      <td>0.000000</td>\n",
              "    </tr>\n",
              "    <tr>\n",
              "      <th>25%</th>\n",
              "      <td>23.000000</td>\n",
              "      <td>0.000000</td>\n",
              "      <td>0.000000</td>\n",
              "      <td>7.895800</td>\n",
              "    </tr>\n",
              "    <tr>\n",
              "      <th>50%</th>\n",
              "      <td>28.000000</td>\n",
              "      <td>0.000000</td>\n",
              "      <td>0.000000</td>\n",
              "      <td>15.045800</td>\n",
              "    </tr>\n",
              "    <tr>\n",
              "      <th>75%</th>\n",
              "      <td>35.000000</td>\n",
              "      <td>1.000000</td>\n",
              "      <td>0.000000</td>\n",
              "      <td>31.387500</td>\n",
              "    </tr>\n",
              "    <tr>\n",
              "      <th>max</th>\n",
              "      <td>80.000000</td>\n",
              "      <td>8.000000</td>\n",
              "      <td>5.000000</td>\n",
              "      <td>512.329200</td>\n",
              "    </tr>\n",
              "  </tbody>\n",
              "</table>\n",
              "</div>\n",
              "      <button class=\"colab-df-convert\" onclick=\"convertToInteractive('df-a32bb0a9-d167-4b1f-b3b5-7cddc1e5f1e9')\"\n",
              "              title=\"Convert this dataframe to an interactive table.\"\n",
              "              style=\"display:none;\">\n",
              "        \n",
              "  <svg xmlns=\"http://www.w3.org/2000/svg\" height=\"24px\"viewBox=\"0 0 24 24\"\n",
              "       width=\"24px\">\n",
              "    <path d=\"M0 0h24v24H0V0z\" fill=\"none\"/>\n",
              "    <path d=\"M18.56 5.44l.94 2.06.94-2.06 2.06-.94-2.06-.94-.94-2.06-.94 2.06-2.06.94zm-11 1L8.5 8.5l.94-2.06 2.06-.94-2.06-.94L8.5 2.5l-.94 2.06-2.06.94zm10 10l.94 2.06.94-2.06 2.06-.94-2.06-.94-.94-2.06-.94 2.06-2.06.94z\"/><path d=\"M17.41 7.96l-1.37-1.37c-.4-.4-.92-.59-1.43-.59-.52 0-1.04.2-1.43.59L10.3 9.45l-7.72 7.72c-.78.78-.78 2.05 0 2.83L4 21.41c.39.39.9.59 1.41.59.51 0 1.02-.2 1.41-.59l7.78-7.78 2.81-2.81c.8-.78.8-2.07 0-2.86zM5.41 20L4 18.59l7.72-7.72 1.47 1.35L5.41 20z\"/>\n",
              "  </svg>\n",
              "      </button>\n",
              "      \n",
              "  <style>\n",
              "    .colab-df-container {\n",
              "      display:flex;\n",
              "      flex-wrap:wrap;\n",
              "      gap: 12px;\n",
              "    }\n",
              "\n",
              "    .colab-df-convert {\n",
              "      background-color: #E8F0FE;\n",
              "      border: none;\n",
              "      border-radius: 50%;\n",
              "      cursor: pointer;\n",
              "      display: none;\n",
              "      fill: #1967D2;\n",
              "      height: 32px;\n",
              "      padding: 0 0 0 0;\n",
              "      width: 32px;\n",
              "    }\n",
              "\n",
              "    .colab-df-convert:hover {\n",
              "      background-color: #E2EBFA;\n",
              "      box-shadow: 0px 1px 2px rgba(60, 64, 67, 0.3), 0px 1px 3px 1px rgba(60, 64, 67, 0.15);\n",
              "      fill: #174EA6;\n",
              "    }\n",
              "\n",
              "    [theme=dark] .colab-df-convert {\n",
              "      background-color: #3B4455;\n",
              "      fill: #D2E3FC;\n",
              "    }\n",
              "\n",
              "    [theme=dark] .colab-df-convert:hover {\n",
              "      background-color: #434B5C;\n",
              "      box-shadow: 0px 1px 3px 1px rgba(0, 0, 0, 0.15);\n",
              "      filter: drop-shadow(0px 1px 2px rgba(0, 0, 0, 0.3));\n",
              "      fill: #FFFFFF;\n",
              "    }\n",
              "  </style>\n",
              "\n",
              "      <script>\n",
              "        const buttonEl =\n",
              "          document.querySelector('#df-a32bb0a9-d167-4b1f-b3b5-7cddc1e5f1e9 button.colab-df-convert');\n",
              "        buttonEl.style.display =\n",
              "          google.colab.kernel.accessAllowed ? 'block' : 'none';\n",
              "\n",
              "        async function convertToInteractive(key) {\n",
              "          const element = document.querySelector('#df-a32bb0a9-d167-4b1f-b3b5-7cddc1e5f1e9');\n",
              "          const dataTable =\n",
              "            await google.colab.kernel.invokeFunction('convertToInteractive',\n",
              "                                                     [key], {});\n",
              "          if (!dataTable) return;\n",
              "\n",
              "          const docLinkHtml = 'Like what you see? Visit the ' +\n",
              "            '<a target=\"_blank\" href=https://colab.research.google.com/notebooks/data_table.ipynb>data table notebook</a>'\n",
              "            + ' to learn more about interactive tables.';\n",
              "          element.innerHTML = '';\n",
              "          dataTable['output_type'] = 'display_data';\n",
              "          await google.colab.output.renderOutput(dataTable, element);\n",
              "          const docLink = document.createElement('div');\n",
              "          docLink.innerHTML = docLinkHtml;\n",
              "          element.appendChild(docLink);\n",
              "        }\n",
              "      </script>\n",
              "    </div>\n",
              "  </div>\n",
              "  "
            ]
          },
          "metadata": {},
          "execution_count": 12
        }
      ]
    },
    {
      "cell_type": "markdown",
      "source": [
        "We can also get the shape of our dataset dataframe"
      ],
      "metadata": {
        "id": "19Crmp44PM70"
      }
    },
    {
      "cell_type": "code",
      "source": [
        "dftrain.shape"
      ],
      "metadata": {
        "colab": {
          "base_uri": "https://localhost:8080/"
        },
        "id": "fCfjXnA7PRui",
        "outputId": "b91e0c5a-d6cc-4843-a816-aa8d539611d6"
      },
      "execution_count": null,
      "outputs": [
        {
          "output_type": "execute_result",
          "data": {
            "text/plain": [
              "(627, 9)"
            ]
          },
          "metadata": {},
          "execution_count": 13
        }
      ]
    },
    {
      "cell_type": "markdown",
      "source": [
        "So we have 627 rows/entries and 9 columns/features!"
      ],
      "metadata": {
        "id": "RKBQnschPUw9"
      }
    },
    {
      "cell_type": "markdown",
      "source": [
        "Now let's go ahead and look at our survival information"
      ],
      "metadata": {
        "id": "RmwuEvX0Pb_7"
      }
    },
    {
      "cell_type": "code",
      "source": [
        "y_train.head()"
      ],
      "metadata": {
        "colab": {
          "base_uri": "https://localhost:8080/"
        },
        "id": "WXsB-l8lPiQd",
        "outputId": "8cf8553d-9d37-4223-f37a-3bc23aa3c4a5"
      },
      "execution_count": null,
      "outputs": [
        {
          "output_type": "execute_result",
          "data": {
            "text/plain": [
              "0    0\n",
              "1    1\n",
              "2    1\n",
              "3    1\n",
              "4    0\n",
              "Name: survived, dtype: int64"
            ]
          },
          "metadata": {},
          "execution_count": 14
        }
      ]
    },
    {
      "cell_type": "markdown",
      "source": [
        "**Visuals are always valuable, let's generate a few graphs of the data**"
      ],
      "metadata": {
        "id": "Uu1I3vVaPmH4"
      }
    },
    {
      "cell_type": "code",
      "source": [
        "dftrain.age.hist(bins = 20)"
      ],
      "metadata": {
        "colab": {
          "base_uri": "https://localhost:8080/",
          "height": 283
        },
        "id": "rtpMvcDhPxRj",
        "outputId": "c03726d8-8d84-479b-c674-dbf51314b44e"
      },
      "execution_count": null,
      "outputs": [
        {
          "output_type": "execute_result",
          "data": {
            "text/plain": [
              "<matplotlib.axes._subplots.AxesSubplot at 0x7f961d17db50>"
            ]
          },
          "metadata": {},
          "execution_count": 15
        },
        {
          "output_type": "display_data",
          "data": {
            "text/plain": [
              "<Figure size 432x288 with 1 Axes>"
            ],
            "image/png": "[encoded data removed]"
          },
          "metadata": {
            "needs_background": "light"
          }
        }
      ]
    },
    {
      "cell_type": "markdown",
      "source": [
        "The above will generate a histogram of the age of the people in the titanic\n",
        "\n",
        "As seen above, we see most passengers were in their late 20s, and this good information to know as it allows us to introduce a bit of bias into our linear correlation graph<br>\n",
        "<br>\n",
        "\n",
        "**Now let's look at the genders of our passengers, we will put it in the form of a bar graph **"
      ],
      "metadata": {
        "id": "c-MRaYe9P66-"
      }
    },
    {
      "cell_type": "code",
      "source": [
        "dftrain.sex.value_counts().plot(kind='barh')"
      ],
      "metadata": {
        "colab": {
          "base_uri": "https://localhost:8080/",
          "height": 283
        },
        "id": "K29KFcE7RAeK",
        "outputId": "4858f31c-2004-4e36-f198-db2693c61d7f"
      },
      "execution_count": null,
      "outputs": [
        {
          "output_type": "execute_result",
          "data": {
            "text/plain": [
              "<matplotlib.axes._subplots.AxesSubplot at 0x7f961d134490>"
            ]
          },
          "metadata": {},
          "execution_count": 16
        },
        {
          "output_type": "display_data",
          "data": {
            "text/plain": [
              "<Figure size 432x288 with 1 Axes>"
            ],
            "image/png": "[encoded data removed]"
          },
          "metadata": {
            "needs_background": "light"
          }
        }
      ]
    },
    {
      "cell_type": "markdown",
      "source": [
        "**Now lets look at the class of our passengers**"
      ],
      "metadata": {
        "id": "5lWTblDnRO9o"
      }
    },
    {
      "cell_type": "code",
      "source": [
        "dftrain['class'].value_counts().plot(kind='barh')"
      ],
      "metadata": {
        "colab": {
          "base_uri": "https://localhost:8080/",
          "height": 283
        },
        "id": "naNu6ocqRcRE",
        "outputId": "876dc7fb-389b-4fb4-face-e475deabf8cc"
      },
      "execution_count": null,
      "outputs": [
        {
          "output_type": "execute_result",
          "data": {
            "text/plain": [
              "<matplotlib.axes._subplots.AxesSubplot at 0x7f961d031d10>"
            ]
          },
          "metadata": {},
          "execution_count": 18
        },
        {
          "output_type": "display_data",
          "data": {
            "text/plain": [
              "<Figure size 432x288 with 1 Axes>"
            ],
            "image/png": "[encoded data removed]"
          },
          "metadata": {
            "needs_background": "light"
          }
        }
      ]
    },
    {
      "cell_type": "markdown",
      "source": [
        "Lastly let's look at the percentage of survival by sex"
      ],
      "metadata": {
        "id": "JPhXIdd3Reke"
      }
    },
    {
      "cell_type": "code",
      "source": [
        "pd.concat([dftrain, y_train], axis=1).groupby('sex').survived.mean().plot(kind='barh').set_xlabel('% survive')"
      ],
      "metadata": {
        "colab": {
          "base_uri": "https://localhost:8080/",
          "height": 297
        },
        "id": "-VfVOecFRj47",
        "outputId": "fa04da53-72c6-4827-c46f-86e37ba5f3a7"
      },
      "execution_count": null,
      "outputs": [
        {
          "output_type": "execute_result",
          "data": {
            "text/plain": [
              "Text(0.5, 0, '% survive')"
            ]
          },
          "metadata": {},
          "execution_count": 17
        },
        {
          "output_type": "display_data",
          "data": {
            "text/plain": [
              "<Figure size 432x288 with 1 Axes>"
            ],
            "image/png": "[encoded data removed]"
          },
          "metadata": {
            "needs_background": "light"
          }
        }
      ]
    },
    {
      "cell_type": "markdown",
      "source": [
        "After analysis of the data, we can extract the following data:\n",
        "\n",
        "\n",
        "*   Most passengers are in their 20s or 30s\n",
        "*   Most passengers are male\n",
        "*   Most passengers are in \"third\" class\n",
        "* Females have a higher chance of survival \n",
        "\n"
      ],
      "metadata": {
        "id": "qE7BuACCRo79"
      }
    },
    {
      "cell_type": "markdown",
      "source": [
        "# **Training vs Testing Data**\n",
        "***\n",
        "Above, we loaded in **two different datasets**\n",
        "\n",
        "\n",
        "*   Training dataset\n",
        "*   Testing dataset\n",
        "\n",
        "The **training** dataset is what we feed into our model so that it can develop and learn from the data, usually much larger (i.e. more entries) than the testing data\n",
        "<br><br>\n",
        "The **testing** data is used to evaluate the model and see how well it is responding, must use a separate set of data that the model has not been trained on\n",
        "\n"
      ],
      "metadata": {
        "id": "v99jnet5R-Wx"
      }
    },
    {
      "cell_type": "code",
      "source": [
        "dftrain.shape"
      ],
      "metadata": {
        "colab": {
          "base_uri": "https://localhost:8080/"
        },
        "id": "RlbK0_NnTdxS",
        "outputId": "d4cc16f3-4f98-4c25-f40e-bfd420013138"
      },
      "execution_count": null,
      "outputs": [
        {
          "output_type": "execute_result",
          "data": {
            "text/plain": [
              "(627, 9)"
            ]
          },
          "metadata": {},
          "execution_count": 20
        }
      ]
    },
    {
      "cell_type": "code",
      "source": [
        "dfeval.shape"
      ],
      "metadata": {
        "colab": {
          "base_uri": "https://localhost:8080/"
        },
        "id": "BIWXxhhdTn9o",
        "outputId": "54a00b67-e033-42ad-dfbd-ee3a9fcd7d49"
      },
      "execution_count": null,
      "outputs": [
        {
          "output_type": "execute_result",
          "data": {
            "text/plain": [
              "(264, 9)"
            ]
          },
          "metadata": {},
          "execution_count": 21
        }
      ]
    },
    {
      "cell_type": "markdown",
      "source": [
        "# **Categorical vs Numeric data**\n",
        "***\n",
        "Categorical data:\n",
        "\n",
        "\n",
        "*   Something that is not numeric, but have a set of different categories for a possible value\n",
        "*   Must find a way to transform it into numbers somehow \n",
        "*   We encode the data using integer values, we do this because our model doesn't care what class/category the data falls under, it just needs to know whether the values are the same or different\n",
        "* When encoding, make sure all data of a certain class have the same value (consistency)\n",
        "\n",
        "Numeric data:\n",
        "\n",
        "\n",
        "*   Anything that has an integer/float value\n",
        "\n",
        "\n",
        "\n"
      ],
      "metadata": {
        "id": "fWS5POe6TEhi"
      }
    },
    {
      "cell_type": "markdown",
      "source": [
        "# **Feature Columns**\n",
        "***\n",
        "*** As the previous section explained, we have two different kinds of information:\n",
        "**Categorical and Numeric**<br><br>\n",
        "**Categorical data** is anything that is not numerical. An example is our \"sex\" column which rather than using numeric values, it uses words such as \"male\" or \"female\" <br><br>\n",
        "Before creating/training our model, we must convert our categorical data into numeric data<br><br>\n",
        "\n",
        "As far as **feature columns** go, they are nothing special, they are just what we need to feed into our model to actually make predictions\n",
        "\n",
        "**We will now separate our columns into categorical columns and numeric columns**"
      ],
      "metadata": {
        "id": "cOgYw--hV39k"
      }
    },
    {
      "cell_type": "code",
      "source": [
        "CATEGORICAL_COLUMNS = ['sex', 'n_siblings_spouses', 'parch', 'class', 'deck',\n",
        "                       'embark_town', 'alone']\n",
        "NUMERIC_COLUMNS = ['age', 'fare']\n",
        "\n",
        "feature_columns = []\n",
        "for feature_name in CATEGORICAL_COLUMNS:\n",
        "  vocabulary = dftrain[feature_name].unique()  # gets a list of all unique values from given feature column\n",
        "  feature_columns.append(tf.feature_column.categorical_column_with_vocabulary_list(feature_name, vocabulary))\n",
        "\n",
        "for feature_name in NUMERIC_COLUMNS:\n",
        "  feature_columns.append(tf.feature_column.numeric_column(feature_name, dtype=tf.float32))\n",
        "\n",
        "print(feature_columns)"
      ],
      "metadata": {
        "colab": {
          "base_uri": "https://localhost:8080/"
        },
        "id": "O9YOhzZ2W3M9",
        "outputId": "67f49abd-eb61-44f7-8d96-e82fe7097766"
      },
      "execution_count": null,
      "outputs": [
        {
          "output_type": "stream",
          "name": "stdout",
          "text": [
            "[VocabularyListCategoricalColumn(key='sex', vocabulary_list=('male', 'female'), dtype=tf.string, default_value=-1, num_oov_buckets=0), VocabularyListCategoricalColumn(key='n_siblings_spouses', vocabulary_list=(1, 0, 3, 4, 2, 5, 8), dtype=tf.int64, default_value=-1, num_oov_buckets=0), VocabularyListCategoricalColumn(key='parch', vocabulary_list=(0, 1, 2, 5, 3, 4), dtype=tf.int64, default_value=-1, num_oov_buckets=0), VocabularyListCategoricalColumn(key='class', vocabulary_list=('Third', 'First', 'Second'), dtype=tf.string, default_value=-1, num_oov_buckets=0), VocabularyListCategoricalColumn(key='deck', vocabulary_list=('unknown', 'C', 'G', 'A', 'B', 'D', 'F', 'E'), dtype=tf.string, default_value=-1, num_oov_buckets=0), VocabularyListCategoricalColumn(key='embark_town', vocabulary_list=('Southampton', 'Cherbourg', 'Queenstown', 'unknown'), dtype=tf.string, default_value=-1, num_oov_buckets=0), VocabularyListCategoricalColumn(key='alone', vocabulary_list=('n', 'y'), dtype=tf.string, default_value=-1, num_oov_buckets=0), NumericColumn(key='age', shape=(1,), default_value=None, dtype=tf.float32, normalizer_fn=None), NumericColumn(key='fare', shape=(1,), default_value=None, dtype=tf.float32, normalizer_fn=None)]\n"
          ]
        }
      ]
    },
    {
      "cell_type": "markdown",
      "source": [
        "For an explanation of the above code block, we loop through each feature name in the categorical columns, and for each feature name we:\n",
        "\n",
        "\n",
        "*   Define a vocabulary which is equal to the data frame at that feature name and get all of the different unique values\n",
        "  * The .unique() method will get a list of all unique values at the specified feature column\n",
        "\n",
        "*   Now we append to the feature_columns list, a categorical column with in-memory vocabulary generated by TensorFlow\n",
        "\n",
        "We need to create these columns (in the form of a numpy array kind of) that have the feature name as we as all the different vocabulary/entries associated with it so that we can create our model using these columns since our model needs to know the different columns we'll be using as well as all the different entries that can go in that column and also whether the column is categorical or numerical\n",
        "\n"
      ],
      "metadata": {
        "id": "PtmNH02eXYLV"
      }
    },
    {
      "cell_type": "markdown",
      "source": [
        "# **The Training Process**\n",
        "***\n",
        "The way we train our model is by feeding it information (our inputs/features)<br><br>\n",
        "For this specific model, data will be streamed into it in small batches of 32. We will not feed the entire dataset to our model at once, but simply small batches of entries, and we will feed these batches to our model multiplr times according to the number of **epochs**<br><br>\n",
        "An **epoch** is simply one stream of our entire dataset, the number of epochs we define is the amount of times our model will see the entire dataset. We use multiple epochs in hope that after seeing the same data multiple times the model will better determine how to estimate it, but just be careful not to **overfit** our data <br><br>\n",
        "Because we feed our data in batches and multiple times, we need to create something called the **input function** which will define how the data will be converted into batches at each epoch"
      ],
      "metadata": {
        "id": "WKMpGfa7Z2oF"
      }
    },
    {
      "cell_type": "markdown",
      "source": [
        "# **Input Function**\n",
        "*** \n",
        "Our input function is the way that we define how our data is going to be broken into epochs and into batches to feed to our model<br><br>\n",
        "\n",
        "The TensorFlow model requires that the data passed in comes in as a tf.data.Dataset object and to do this, we then need an *input function* that can covert our pandas dataframe into that object\n"
      ],
      "metadata": {
        "id": "YaW381dRdMBY"
      }
    },
    {
      "cell_type": "code",
      "source": [
        "def make_input_fn(data_df, label_df, num_epochs=10, shuffle=True, batch_size=32):\n",
        "  def input_function():  # Inner function, this will be returned\n",
        "    ds = tf.data.Dataset.from_tensor_slices((dict(data_df), label_df))  # Create tf.data.Dataset object with data and its label\n",
        "    if shuffle:\n",
        "      ds = ds.shuffle(1000)  # Randomize order of data\n",
        "    ds = ds.batch(batch_size).repeat(num_epochs)  # Split dataset into batches of 32 and repeat process for number of epochs\n",
        "    return ds  # Return a batch of the dataset\n",
        "  return input_function  # Return a function object for use\n",
        "\n",
        "train_input_fn = make_input_fn(dftrain, y_train)  # Here we will call the input_function that was returned to us to get a dataset object we can feed to the model\n",
        "eval_input_fn = make_input_fn(dfeval, y_eval, num_epochs=1, shuffle=False)  #Shuffle = False and num_epochs = 1 because we are no longer training the data\n"
      ],
      "metadata": {
        "id": "9rEeYBdPeCzx"
      },
      "execution_count": null,
      "outputs": []
    },
    {
      "cell_type": "markdown",
      "source": [
        "The above code block takes our data and encodes it in a tf.data.Dataset object\n",
        "\n",
        "**Useful tip**:\n",
        "\n",
        "\n",
        "*   train_input_fn() will actually call the input function that we just created\n",
        "\n"
      ],
      "metadata": {
        "id": "nfbiPC6hevwN"
      }
    },
    {
      "cell_type": "markdown",
      "source": [
        "# **Creating the Model**\n",
        "***\n",
        "Here, we will be using a linear estimator to utilize the linear regression algorithm<br><br>\n",
        "We will be passing in the feature columns we created earlier\n"
      ],
      "metadata": {
        "id": "OTZ_ukAphzoN"
      }
    },
    {
      "cell_type": "code",
      "source": [
        "linear_est = tf.estimator.LinearClassifier(feature_columns=feature_columns)\n",
        "# We create a linear estimtor by passing the feature columns we created earlier"
      ],
      "metadata": {
        "colab": {
          "base_uri": "https://localhost:8080/"
        },
        "id": "zrJ1UDDUiJva",
        "outputId": "e7949afc-57ce-468f-9c8d-6f3658730dce"
      },
      "execution_count": null,
      "outputs": [
        {
          "output_type": "stream",
          "name": "stderr",
          "text": [
            "WARNING:tensorflow:Using temporary folder as model directory: /tmp/tmpz_i399f3\n"
          ]
        }
      ]
    },
    {
      "cell_type": "markdown",
      "source": [
        "# **Training the Data**\n",
        "***\n",
        "To train our model, we simply pass in the input function we created earlier "
      ],
      "metadata": {
        "id": "ArDyL6oAipi_"
      }
    },
    {
      "cell_type": "code",
      "source": [
        "linear_est.train(train_input_fn)  # train\n",
        "result = linear_est.evaluate(eval_input_fn)  # get model metrics/stats by testing on testing data\n",
        "\n",
        "clear_output()  # clears console output\n",
        "print(result['accuracy'])  # the result variable is simply a dict of stats about our model\n",
        "print(result)"
      ],
      "metadata": {
        "colab": {
          "base_uri": "https://localhost:8080/"
        },
        "id": "EG28xdxEit1i",
        "outputId": "12d4bae0-0fa1-4265-fb4f-437dbe98354f"
      },
      "execution_count": null,
      "outputs": [
        {
          "output_type": "stream",
          "name": "stdout",
          "text": [
            "0.7765151\n",
            "{'accuracy': 0.7765151, 'accuracy_baseline': 0.625, 'auc': 0.8360269, 'auc_precision_recall': 0.7981975, 'average_loss': 0.4718465, 'label/mean': 0.375, 'loss': 0.45976946, 'precision': 0.6960784, 'prediction/mean': 0.41023365, 'recall': 0.7171717, 'global_step': 600}\n"
          ]
        }
      ]
    },
    {
      "cell_type": "markdown",
      "source": [
        "Above, we pass in the input function we created earlier into our linear estimator<br><br>\n",
        "\n",
        "Our linear estimator will then use the input function to grab all the data it needs to train the model <br>\n",
        "\n",
        "Now for our result, rather than train, it will evaluate our model<br>\n",
        "\n",
        "Clear_output() will clear our console output as there will be some output while we're training<br>\n",
        "\n",
        "Lastly, we will print the accuracy of this linear regression model"
      ],
      "metadata": {
        "id": "YpHYwBjPixuN"
      }
    },
    {
      "cell_type": "markdown",
      "source": [
        "As can be seen above the accuracy of our model hovers arond 77% which is not great but decent for our first time, we can certainly improve it though!<br><br>\n",
        "Since our goal is to ultimatelt get our accuracy as high as possible, we can certainly fidget around with our program to see what we can change!"
      ],
      "metadata": {
        "id": "rodFzczylB4l"
      }
    },
    {
      "cell_type": "markdown",
      "source": [
        "# **Predictions**\n",
        "***\n",
        "Now we can proceed to learn how to use our model to make predictions<br><br>\n",
        "\n",
        "\n",
        "*   TensorFlow models are built to make predictions on a lot of things at once, not great for making a prediction for one singular data point\n",
        "\n",
        "\n",
        "We can use the .predict() method to get the survival probabilities from the model. This method will return a list of dictionaries that each store a prediction for each of the entries in our testing dataset<br><br>\n",
        "\n",
        "To make this easier to visualize, we've used pandas to plot a nice graph of the predictions "
      ],
      "metadata": {
        "id": "tKoDhaScl7k0"
      }
    },
    {
      "cell_type": "code",
      "source": [
        "pred_dicts = list(linear_est.predict(eval_input_fn))\n",
        "print(pred_dicts)\n",
        "probs = pd.Series([pred['probabilities'][1] for pred in pred_dicts])\n",
        "\n",
        "probs.plot(kind='hist', bins=20, title='predicted probabilities')"
      ],
      "metadata": {
        "colab": {
          "base_uri": "https://localhost:8080/",
          "height": 372
        },
        "id": "bcO36fECiyG4",
        "outputId": "5a60de49-05fd-4201-e243-3873a7ccca18"
      },
      "execution_count": null,
      "outputs": [
        {
          "output_type": "stream",
          "name": "stderr",
          "text": [
            "/usr/local/lib/python3.7/dist-packages/tensorflow_estimator/python/estimator/canned/linear.py:1478: UserWarning: `layer.add_variable` is deprecated and will be removed in a future version. Please use `layer.add_weight` method instead.\n",
            "  getter=tf.compat.v1.get_variable)\n"
          ]
        },
        {
          "output_type": "stream",
          "name": "stdout",
          "text": [
            "[{'logits': array([-2.4321475], dtype=float32), 'logistic': array([0.08075386], dtype=float32), 'probabilities': array([0.91924614, 0.08075392], dtype=float32), 'class_ids': array([0]), 'classes': array([b'0'], dtype=object), 'all_class_ids': array([0, 1], dtype=int32), 'all_classes': array([b'0', b'1'], dtype=object)}, {'logits': array([-0.02523851], dtype=float32), 'logistic': array([0.4936907], dtype=float32), 'probabilities': array([0.5063093, 0.4936907], dtype=float32), 'class_ids': array([0]), 'classes': array([b'0'], dtype=object), 'all_class_ids': array([0, 1], dtype=int32), 'all_classes': array([b'0', b'1'], dtype=object)}, {'logits': array([1.2639923], dtype=float32), 'logistic': array([0.77971256], dtype=float32), 'probabilities': array([0.22028738, 0.77971256], dtype=float32), 'class_ids': array([1]), 'classes': array([b'1'], dtype=object), 'all_class_ids': array([0, 1], dtype=int32), 'all_classes': array([b'0', b'1'], dtype=object)}, {'logits': array([0.75511265], dtype=float32), 'logistic': array([0.68029165], dtype=float32), 'probabilities': array([0.3197083 , 0.68029165], dtype=float32), 'class_ids': array([1]), 'classes': array([b'1'], dtype=object), 'all_class_ids': array([0, 1], dtype=int32), 'all_classes': array([b'0', b'1'], dtype=object)}, {'logits': array([-0.8011727], dtype=float32), 'logistic': array([0.30977473], dtype=float32), 'probabilities': array([0.6902253 , 0.30977473], dtype=float32), 'class_ids': array([0]), 'classes': array([b'0'], dtype=object), 'all_class_ids': array([0, 1], dtype=int32), 'all_classes': array([b'0', b'1'], dtype=object)}, {'logits': array([1.3537079], dtype=float32), 'logistic': array([0.7947352], dtype=float32), 'probabilities': array([0.20526485, 0.7947352 ], dtype=float32), 'class_ids': array([1]), 'classes': array([b'1'], dtype=object), 'all_class_ids': array([0, 1], dtype=int32), 'all_classes': array([b'0', b'1'], dtype=object)}, {'logits': array([-0.06716871], dtype=float32), 'logistic': array([0.48321414], dtype=float32), 'probabilities': array([0.51678586, 0.4832141 ], dtype=float32), 'class_ids': array([0]), 'classes': array([b'0'], dtype=object), 'all_class_ids': array([0, 1], dtype=int32), 'all_classes': array([b'0', b'1'], dtype=object)}, {'logits': array([-2.0086935], dtype=float32), 'logistic': array([0.11829317], dtype=float32), 'probabilities': array([0.88170683, 0.11829319], dtype=float32), 'class_ids': array([0]), 'classes': array([b'0'], dtype=object), 'all_class_ids': array([0, 1], dtype=int32), 'all_classes': array([b'0', b'1'], dtype=object)}, {'logits': array([0.72920346], dtype=float32), 'logistic': array([0.67463046], dtype=float32), 'probabilities': array([0.32536957, 0.67463046], dtype=float32), 'class_ids': array([1]), 'classes': array([b'1'], dtype=object), 'all_class_ids': array([0, 1], dtype=int32), 'all_classes': array([b'0', b'1'], dtype=object)}, {'logits': array([1.2322329], dtype=float32), 'logistic': array([0.77420914], dtype=float32), 'probabilities': array([0.22579084, 0.77420914], dtype=float32), 'class_ids': array([1]), 'classes': array([b'1'], dtype=object), 'all_class_ids': array([0, 1], dtype=int32), 'all_classes': array([b'0', b'1'], dtype=object)}, {'logits': array([0.9595921], dtype=float32), 'logistic': array([0.7230401], dtype=float32), 'probabilities': array([0.27695987, 0.7230401 ], dtype=float32), 'class_ids': array([1]), 'classes': array([b'1'], dtype=object), 'all_class_ids': array([0, 1], dtype=int32), 'all_classes': array([b'0', b'1'], dtype=object)}, {'logits': array([-2.0095072], dtype=float32), 'logistic': array([0.11820832], dtype=float32), 'probabilities': array([0.8817917 , 0.11820834], dtype=float32), 'class_ids': array([0]), 'classes': array([b'0'], dtype=object), 'all_class_ids': array([0, 1], dtype=int32), 'all_classes': array([b'0', b'1'], dtype=object)}, {'logits': array([2.182005], dtype=float32), 'logistic': array([0.8986219], dtype=float32), 'probabilities': array([0.10137814, 0.89862186], dtype=float32), 'class_ids': array([1]), 'classes': array([b'1'], dtype=object), 'all_class_ids': array([0, 1], dtype=int32), 'all_classes': array([b'0', b'1'], dtype=object)}, {'logits': array([-0.1351217], dtype=float32), 'logistic': array([0.4662709], dtype=float32), 'probabilities': array([0.53372914, 0.4662709 ], dtype=float32), 'class_ids': array([0]), 'classes': array([b'0'], dtype=object), 'all_class_ids': array([0, 1], dtype=int32), 'all_classes': array([b'0', b'1'], dtype=object)}, {'logits': array([2.059937], dtype=float32), 'logistic': array([0.8869479], dtype=float32), 'probabilities': array([0.11305214, 0.8869478 ], dtype=float32), 'class_ids': array([1]), 'classes': array([b'1'], dtype=object), 'all_class_ids': array([0, 1], dtype=int32), 'all_classes': array([b'0', b'1'], dtype=object)}, {'logits': array([0.15063989], dtype=float32), 'logistic': array([0.5375889], dtype=float32), 'probabilities': array([0.4624111 , 0.53758895], dtype=float32), 'class_ids': array([1]), 'classes': array([b'1'], dtype=object), 'all_class_ids': array([0, 1], dtype=int32), 'all_classes': array([b'0', b'1'], dtype=object)}, {'logits': array([-1.5977801], dtype=float32), 'logistic': array([0.16829208], dtype=float32), 'probabilities': array([0.83170784, 0.16829209], dtype=float32), 'class_ids': array([0]), 'classes': array([b'0'], dtype=object), 'all_class_ids': array([0, 1], dtype=int32), 'all_classes': array([b'0', b'1'], dtype=object)}, {'logits': array([1.8865848], dtype=float32), 'logistic': array([0.86836565], dtype=float32), 'probabilities': array([0.13163435, 0.8683656 ], dtype=float32), 'class_ids': array([1]), 'classes': array([b'1'], dtype=object), 'all_class_ids': array([0, 1], dtype=int32), 'all_classes': array([b'0', b'1'], dtype=object)}, {'logits': array([-1.0668551], dtype=float32), 'logistic': array([0.25600165], dtype=float32), 'probabilities': array([0.7439984 , 0.25600162], dtype=float32), 'class_ids': array([0]), 'classes': array([b'0'], dtype=object), 'all_class_ids': array([0, 1], dtype=int32), 'all_classes': array([b'0', b'1'], dtype=object)}, {'logits': array([-2.250667], dtype=float32), 'logistic': array([0.09529188], dtype=float32), 'probabilities': array([0.9047081 , 0.09529194], dtype=float32), 'class_ids': array([0]), 'classes': array([b'0'], dtype=object), 'all_class_ids': array([0, 1], dtype=int32), 'all_classes': array([b'0', b'1'], dtype=object)}, {'logits': array([-1.979084], dtype=float32), 'logistic': array([0.12141651], dtype=float32), 'probabilities': array([0.8785835 , 0.12141652], dtype=float32), 'class_ids': array([0]), 'classes': array([b'0'], dtype=object), 'all_class_ids': array([0, 1], dtype=int32), 'all_classes': array([b'0', b'1'], dtype=object)}, {'logits': array([-2.2428474], dtype=float32), 'logistic': array([0.09596816], dtype=float32), 'probabilities': array([0.9040318 , 0.09596822], dtype=float32), 'class_ids': array([0]), 'classes': array([b'0'], dtype=object), 'all_class_ids': array([0, 1], dtype=int32), 'all_classes': array([b'0', b'1'], dtype=object)}, {'logits': array([0.91728985], dtype=float32), 'logistic': array([0.7144896], dtype=float32), 'probabilities': array([0.28551045, 0.7144896 ], dtype=float32), 'class_ids': array([1]), 'classes': array([b'1'], dtype=object), 'all_class_ids': array([0, 1], dtype=int32), 'all_classes': array([b'0', b'1'], dtype=object)}, {'logits': array([-2.5233893], dtype=float32), 'logistic': array([0.07423466], dtype=float32), 'probabilities': array([0.92576534, 0.07423469], dtype=float32), 'class_ids': array([0]), 'classes': array([b'0'], dtype=object), 'all_class_ids': array([0, 1], dtype=int32), 'all_classes': array([b'0', b'1'], dtype=object)}, {'logits': array([0.9761543], dtype=float32), 'logistic': array([0.72634447], dtype=float32), 'probabilities': array([0.27365553, 0.7263445 ], dtype=float32), 'class_ids': array([1]), 'classes': array([b'1'], dtype=object), 'all_class_ids': array([0, 1], dtype=int32), 'all_classes': array([b'0', b'1'], dtype=object)}, {'logits': array([0.329018], dtype=float32), 'logistic': array([0.58152044], dtype=float32), 'probabilities': array([0.4184796 , 0.58152044], dtype=float32), 'class_ids': array([1]), 'classes': array([b'1'], dtype=object), 'all_class_ids': array([0, 1], dtype=int32), 'all_classes': array([b'0', b'1'], dtype=object)}, {'logits': array([-1.2691358], dtype=float32), 'logistic': array([0.21940523], dtype=float32), 'probabilities': array([0.78059477, 0.2194052 ], dtype=float32), 'class_ids': array([0]), 'classes': array([b'0'], dtype=object), 'all_class_ids': array([0, 1], dtype=int32), 'all_classes': array([b'0', b'1'], dtype=object)}, {'logits': array([-0.58428895], dtype=float32), 'logistic': array([0.3579463], dtype=float32), 'probabilities': array([0.64205366, 0.3579463 ], dtype=float32), 'class_ids': array([0]), 'classes': array([b'0'], dtype=object), 'all_class_ids': array([0, 1], dtype=int32), 'all_classes': array([b'0', b'1'], dtype=object)}, {'logits': array([-1.184783], dtype=float32), 'logistic': array([0.2341933], dtype=float32), 'probabilities': array([0.7658067 , 0.23419328], dtype=float32), 'class_ids': array([0]), 'classes': array([b'0'], dtype=object), 'all_class_ids': array([0, 1], dtype=int32), 'all_classes': array([b'0', b'1'], dtype=object)}, {'logits': array([2.057564], dtype=float32), 'logistic': array([0.8867097], dtype=float32), 'probabilities': array([0.1132903, 0.8867097], dtype=float32), 'class_ids': array([1]), 'classes': array([b'1'], dtype=object), 'all_class_ids': array([0, 1], dtype=int32), 'all_classes': array([b'0', b'1'], dtype=object)}, {'logits': array([-1.8523929], dtype=float32), 'logistic': array([0.13559216], dtype=float32), 'probabilities': array([0.86440784, 0.13559219], dtype=float32), 'class_ids': array([0]), 'classes': array([b'0'], dtype=object), 'all_class_ids': array([0, 1], dtype=int32), 'all_classes': array([b'0', b'1'], dtype=object)}, {'logits': array([1.5956155], dtype=float32), 'logistic': array([0.8314047], dtype=float32), 'probabilities': array([0.1685953, 0.8314047], dtype=float32), 'class_ids': array([1]), 'classes': array([b'1'], dtype=object), 'all_class_ids': array([0, 1], dtype=int32), 'all_classes': array([b'0', b'1'], dtype=object)}, {'logits': array([-1.2745365], dtype=float32), 'logistic': array([0.21848166], dtype=float32), 'probabilities': array([0.7815183 , 0.21848164], dtype=float32), 'class_ids': array([0]), 'classes': array([b'0'], dtype=object), 'all_class_ids': array([0, 1], dtype=int32), 'all_classes': array([b'0', b'1'], dtype=object)}, {'logits': array([0.874779], dtype=float32), 'logistic': array([0.70573914], dtype=float32), 'probabilities': array([0.29426086, 0.70573914], dtype=float32), 'class_ids': array([1]), 'classes': array([b'1'], dtype=object), 'all_class_ids': array([0, 1], dtype=int32), 'all_classes': array([b'0', b'1'], dtype=object)}, {'logits': array([-0.76769984], dtype=float32), 'logistic': array([0.3169769], dtype=float32), 'probabilities': array([0.68302315, 0.3169769 ], dtype=float32), 'class_ids': array([0]), 'classes': array([b'0'], dtype=object), 'all_class_ids': array([0, 1], dtype=int32), 'all_classes': array([b'0', b'1'], dtype=object)}, {'logits': array([-2.191001], dtype=float32), 'logistic': array([0.10056153], dtype=float32), 'probabilities': array([0.8994385 , 0.10056153], dtype=float32), 'class_ids': array([0]), 'classes': array([b'0'], dtype=object), 'all_class_ids': array([0, 1], dtype=int32), 'all_classes': array([b'0', b'1'], dtype=object)}, {'logits': array([-1.4654003], dtype=float32), 'logistic': array([0.18764275], dtype=float32), 'probabilities': array([0.81235725, 0.18764275], dtype=float32), 'class_ids': array([0]), 'classes': array([b'0'], dtype=object), 'all_class_ids': array([0, 1], dtype=int32), 'all_classes': array([b'0', b'1'], dtype=object)}, {'logits': array([-1.7887305], dtype=float32), 'logistic': array([0.14322844], dtype=float32), 'probabilities': array([0.8567716 , 0.14322844], dtype=float32), 'class_ids': array([0]), 'classes': array([b'0'], dtype=object), 'all_class_ids': array([0, 1], dtype=int32), 'all_classes': array([b'0', b'1'], dtype=object)}, {'logits': array([2.504776], dtype=float32), 'logistic': array([0.92447597], dtype=float32), 'probabilities': array([0.07552404, 0.92447597], dtype=float32), 'class_ids': array([1]), 'classes': array([b'1'], dtype=object), 'all_class_ids': array([0, 1], dtype=int32), 'all_classes': array([b'0', b'1'], dtype=object)}, {'logits': array([-2.2809138], dtype=float32), 'logistic': array([0.09271604], dtype=float32), 'probabilities': array([0.90728396, 0.09271605], dtype=float32), 'class_ids': array([0]), 'classes': array([b'0'], dtype=object), 'all_class_ids': array([0, 1], dtype=int32), 'all_classes': array([b'0', b'1'], dtype=object)}, {'logits': array([1.2079995], dtype=float32), 'logistic': array([0.7699448], dtype=float32), 'probabilities': array([0.2300552, 0.7699448], dtype=float32), 'class_ids': array([1]), 'classes': array([b'1'], dtype=object), 'all_class_ids': array([0, 1], dtype=int32), 'all_classes': array([b'0', b'1'], dtype=object)}, {'logits': array([-2.0267813], dtype=float32), 'logistic': array([0.11641958], dtype=float32), 'probabilities': array([0.8835804 , 0.11641961], dtype=float32), 'class_ids': array([0]), 'classes': array([b'0'], dtype=object), 'all_class_ids': array([0, 1], dtype=int32), 'all_classes': array([b'0', b'1'], dtype=object)}, {'logits': array([-0.42121112], dtype=float32), 'logistic': array([0.396227], dtype=float32), 'probabilities': array([0.603773  , 0.39622697], dtype=float32), 'class_ids': array([0]), 'classes': array([b'0'], dtype=object), 'all_class_ids': array([0, 1], dtype=int32), 'all_classes': array([b'0', b'1'], dtype=object)}, {'logits': array([-0.66073], dtype=float32), 'logistic': array([0.34057567], dtype=float32), 'probabilities': array([0.6594243 , 0.34057564], dtype=float32), 'class_ids': array([0]), 'classes': array([b'0'], dtype=object), 'all_class_ids': array([0, 1], dtype=int32), 'all_classes': array([b'0', b'1'], dtype=object)}, {'logits': array([-1.0782806], dtype=float32), 'logistic': array([0.25383157], dtype=float32), 'probabilities': array([0.7461685 , 0.25383157], dtype=float32), 'class_ids': array([0]), 'classes': array([b'0'], dtype=object), 'all_class_ids': array([0, 1], dtype=int32), 'all_classes': array([b'0', b'1'], dtype=object)}, {'logits': array([1.7816114], dtype=float32), 'logistic': array([0.85589576], dtype=float32), 'probabilities': array([0.14410426, 0.8558957 ], dtype=float32), 'class_ids': array([1]), 'classes': array([b'1'], dtype=object), 'all_class_ids': array([0, 1], dtype=int32), 'all_classes': array([b'0', b'1'], dtype=object)}, {'logits': array([-2.0091004], dtype=float32), 'logistic': array([0.11825073], dtype=float32), 'probabilities': array([0.8817493 , 0.11825074], dtype=float32), 'class_ids': array([0]), 'classes': array([b'0'], dtype=object), 'all_class_ids': array([0, 1], dtype=int32), 'all_classes': array([b'0', b'1'], dtype=object)}, {'logits': array([-0.47239774], dtype=float32), 'logistic': array([0.38404888], dtype=float32), 'probabilities': array([0.6159512, 0.3840489], dtype=float32), 'class_ids': array([0]), 'classes': array([b'0'], dtype=object), 'all_class_ids': array([0, 1], dtype=int32), 'all_classes': array([b'0', b'1'], dtype=object)}, {'logits': array([-0.01367664], dtype=float32), 'logistic': array([0.4965809], dtype=float32), 'probabilities': array([0.5034191, 0.4965809], dtype=float32), 'class_ids': array([0]), 'classes': array([b'0'], dtype=object), 'all_class_ids': array([0, 1], dtype=int32), 'all_classes': array([b'0', b'1'], dtype=object)}, {'logits': array([-0.08241695], dtype=float32), 'logistic': array([0.47940743], dtype=float32), 'probabilities': array([0.5205926, 0.4794074], dtype=float32), 'class_ids': array([0]), 'classes': array([b'0'], dtype=object), 'all_class_ids': array([0, 1], dtype=int32), 'all_classes': array([b'0', b'1'], dtype=object)}, {'logits': array([-2.0573778], dtype=float32), 'logistic': array([0.113309], dtype=float32), 'probabilities': array([0.886691  , 0.11330901], dtype=float32), 'class_ids': array([0]), 'classes': array([b'0'], dtype=object), 'all_class_ids': array([0, 1], dtype=int32), 'all_classes': array([b'0', b'1'], dtype=object)}, {'logits': array([-1.0930562], dtype=float32), 'logistic': array([0.2510432], dtype=float32), 'probabilities': array([0.7489568, 0.2510432], dtype=float32), 'class_ids': array([0]), 'classes': array([b'0'], dtype=object), 'all_class_ids': array([0, 1], dtype=int32), 'all_classes': array([b'0', b'1'], dtype=object)}, {'logits': array([-2.6926374], dtype=float32), 'logistic': array([0.06340918], dtype=float32), 'probabilities': array([0.9365908, 0.0634092], dtype=float32), 'class_ids': array([0]), 'classes': array([b'0'], dtype=object), 'all_class_ids': array([0, 1], dtype=int32), 'all_classes': array([b'0', b'1'], dtype=object)}, {'logits': array([-2.2326603], dtype=float32), 'logistic': array([0.09685564], dtype=float32), 'probabilities': array([0.90314436, 0.09685569], dtype=float32), 'class_ids': array([0]), 'classes': array([b'0'], dtype=object), 'all_class_ids': array([0, 1], dtype=int32), 'all_classes': array([b'0', b'1'], dtype=object)}, {'logits': array([-1.9179535], dtype=float32), 'logistic': array([0.12808996], dtype=float32), 'probabilities': array([0.87191004, 0.12808995], dtype=float32), 'class_ids': array([0]), 'classes': array([b'0'], dtype=object), 'all_class_ids': array([0, 1], dtype=int32), 'all_classes': array([b'0', b'1'], dtype=object)}, {'logits': array([-2.1026888], dtype=float32), 'logistic': array([0.10883573], dtype=float32), 'probabilities': array([0.8911642 , 0.10883576], dtype=float32), 'class_ids': array([0]), 'classes': array([b'0'], dtype=object), 'all_class_ids': array([0, 1], dtype=int32), 'all_classes': array([b'0', b'1'], dtype=object)}, {'logits': array([-1.42577], dtype=float32), 'logistic': array([0.19375864], dtype=float32), 'probabilities': array([0.8062414 , 0.19375862], dtype=float32), 'class_ids': array([0]), 'classes': array([b'0'], dtype=object), 'all_class_ids': array([0, 1], dtype=int32), 'all_classes': array([b'0', b'1'], dtype=object)}, {'logits': array([3.5748613], dtype=float32), 'logistic': array([0.97274435], dtype=float32), 'probabilities': array([0.02725563, 0.97274435], dtype=float32), 'class_ids': array([1]), 'classes': array([b'1'], dtype=object), 'all_class_ids': array([0, 1], dtype=int32), 'all_classes': array([b'0', b'1'], dtype=object)}, {'logits': array([-1.3350298], dtype=float32), 'logistic': array([0.2083286], dtype=float32), 'probabilities': array([0.7916714 , 0.20832859], dtype=float32), 'class_ids': array([0]), 'classes': array([b'0'], dtype=object), 'all_class_ids': array([0, 1], dtype=int32), 'all_classes': array([b'0', b'1'], dtype=object)}, {'logits': array([-2.2209222], dtype=float32), 'logistic': array([0.09788731], dtype=float32), 'probabilities': array([0.9021127 , 0.09788734], dtype=float32), 'class_ids': array([0]), 'classes': array([b'0'], dtype=object), 'all_class_ids': array([0, 1], dtype=int32), 'all_classes': array([b'0', b'1'], dtype=object)}, {'logits': array([-0.83028877], dtype=float32), 'logistic': array([0.30358404], dtype=float32), 'probabilities': array([0.696416  , 0.30358404], dtype=float32), 'class_ids': array([0]), 'classes': array([b'0'], dtype=object), 'all_class_ids': array([0, 1], dtype=int32), 'all_classes': array([b'0', b'1'], dtype=object)}, {'logits': array([0.23864412], dtype=float32), 'logistic': array([0.55937946], dtype=float32), 'probabilities': array([0.4406205 , 0.55937946], dtype=float32), 'class_ids': array([1]), 'classes': array([b'1'], dtype=object), 'all_class_ids': array([0, 1], dtype=int32), 'all_classes': array([b'0', b'1'], dtype=object)}, {'logits': array([-1.2524275], dtype=float32), 'logistic': array([0.22228023], dtype=float32), 'probabilities': array([0.77771974, 0.22228022], dtype=float32), 'class_ids': array([0]), 'classes': array([b'0'], dtype=object), 'all_class_ids': array([0, 1], dtype=int32), 'all_classes': array([b'0', b'1'], dtype=object)}, {'logits': array([1.7884172], dtype=float32), 'logistic': array([0.85673314], dtype=float32), 'probabilities': array([0.14326689, 0.8567331 ], dtype=float32), 'class_ids': array([1]), 'classes': array([b'1'], dtype=object), 'all_class_ids': array([0, 1], dtype=int32), 'all_classes': array([b'0', b'1'], dtype=object)}, {'logits': array([-1.403661], dtype=float32), 'logistic': array([0.1972358], dtype=float32), 'probabilities': array([0.8027642, 0.1972358], dtype=float32), 'class_ids': array([0]), 'classes': array([b'0'], dtype=object), 'all_class_ids': array([0, 1], dtype=int32), 'all_classes': array([b'0', b'1'], dtype=object)}, {'logits': array([0.7967098], dtype=float32), 'logistic': array([0.6892702], dtype=float32), 'probabilities': array([0.31072977, 0.6892702 ], dtype=float32), 'class_ids': array([1]), 'classes': array([b'1'], dtype=object), 'all_class_ids': array([0, 1], dtype=int32), 'all_classes': array([b'0', b'1'], dtype=object)}, {'logits': array([0.14736223], dtype=float32), 'logistic': array([0.53677404], dtype=float32), 'probabilities': array([0.46322596, 0.53677404], dtype=float32), 'class_ids': array([1]), 'classes': array([b'1'], dtype=object), 'all_class_ids': array([0, 1], dtype=int32), 'all_classes': array([b'0', b'1'], dtype=object)}, {'logits': array([-2.0878375], dtype=float32), 'logistic': array([0.11028457], dtype=float32), 'probabilities': array([0.88971543, 0.1102846 ], dtype=float32), 'class_ids': array([0]), 'classes': array([b'0'], dtype=object), 'all_class_ids': array([0, 1], dtype=int32), 'all_classes': array([b'0', b'1'], dtype=object)}, {'logits': array([-1.78428], dtype=float32), 'logistic': array([0.14377543], dtype=float32), 'probabilities': array([0.85622454, 0.14377545], dtype=float32), 'class_ids': array([0]), 'classes': array([b'0'], dtype=object), 'all_class_ids': array([0, 1], dtype=int32), 'all_classes': array([b'0', b'1'], dtype=object)}, {'logits': array([0.798149], dtype=float32), 'logistic': array([0.68957835], dtype=float32), 'probabilities': array([0.31042162, 0.6895784 ], dtype=float32), 'class_ids': array([1]), 'classes': array([b'1'], dtype=object), 'all_class_ids': array([0, 1], dtype=int32), 'all_classes': array([b'0', b'1'], dtype=object)}, {'logits': array([2.9591699], dtype=float32), 'logistic': array([0.95069516], dtype=float32), 'probabilities': array([0.0493049 , 0.95069504], dtype=float32), 'class_ids': array([1]), 'classes': array([b'1'], dtype=object), 'all_class_ids': array([0, 1], dtype=int32), 'all_classes': array([b'0', b'1'], dtype=object)}, {'logits': array([0.3737533], dtype=float32), 'logistic': array([0.59236556], dtype=float32), 'probabilities': array([0.4076344, 0.5923656], dtype=float32), 'class_ids': array([1]), 'classes': array([b'1'], dtype=object), 'all_class_ids': array([0, 1], dtype=int32), 'all_classes': array([b'0', b'1'], dtype=object)}, {'logits': array([-3.0868213], dtype=float32), 'logistic': array([0.04365414], dtype=float32), 'probabilities': array([0.95634586, 0.04365415], dtype=float32), 'class_ids': array([0]), 'classes': array([b'0'], dtype=object), 'all_class_ids': array([0, 1], dtype=int32), 'all_classes': array([b'0', b'1'], dtype=object)}, {'logits': array([-1.9482002], dtype=float32), 'logistic': array([0.12474972], dtype=float32), 'probabilities': array([0.8752503 , 0.12474974], dtype=float32), 'class_ids': array([0]), 'classes': array([b'0'], dtype=object), 'all_class_ids': array([0, 1], dtype=int32), 'all_classes': array([b'0', b'1'], dtype=object)}, {'logits': array([-1.8498973], dtype=float32), 'logistic': array([0.13588494], dtype=float32), 'probabilities': array([0.86411506, 0.13588497], dtype=float32), 'class_ids': array([0]), 'classes': array([b'0'], dtype=object), 'all_class_ids': array([0, 1], dtype=int32), 'all_classes': array([b'0', b'1'], dtype=object)}, {'logits': array([-2.276194], dtype=float32), 'logistic': array([0.09311381], dtype=float32), 'probabilities': array([0.90688616, 0.09311384], dtype=float32), 'class_ids': array([0]), 'classes': array([b'0'], dtype=object), 'all_class_ids': array([0, 1], dtype=int32), 'all_classes': array([b'0', b'1'], dtype=object)}, {'logits': array([-2.039442], dtype=float32), 'logistic': array([0.11512351], dtype=float32), 'probabilities': array([0.88487643, 0.11512356], dtype=float32), 'class_ids': array([0]), 'classes': array([b'0'], dtype=object), 'all_class_ids': array([0, 1], dtype=int32), 'all_classes': array([b'0', b'1'], dtype=object)}, {'logits': array([-1.7887305], dtype=float32), 'logistic': array([0.14322844], dtype=float32), 'probabilities': array([0.8567716 , 0.14322844], dtype=float32), 'class_ids': array([0]), 'classes': array([b'0'], dtype=object), 'all_class_ids': array([0, 1], dtype=int32), 'all_classes': array([b'0', b'1'], dtype=object)}, {'logits': array([1.1410723], dtype=float32), 'logistic': array([0.75787646], dtype=float32), 'probabilities': array([0.24212354, 0.75787646], dtype=float32), 'class_ids': array([1]), 'classes': array([b'1'], dtype=object), 'all_class_ids': array([0, 1], dtype=int32), 'all_classes': array([b'0', b'1'], dtype=object)}, {'logits': array([3.8480902], dtype=float32), 'logistic': array([0.97912467], dtype=float32), 'probabilities': array([0.02087534, 0.9791246 ], dtype=float32), 'class_ids': array([1]), 'classes': array([b'1'], dtype=object), 'all_class_ids': array([0, 1], dtype=int32), 'all_classes': array([b'0', b'1'], dtype=object)}, {'logits': array([0.8304558], dtype=float32), 'logistic': array([0.69645125], dtype=float32), 'probabilities': array([0.30354872, 0.6964513 ], dtype=float32), 'class_ids': array([1]), 'classes': array([b'1'], dtype=object), 'all_class_ids': array([0, 1], dtype=int32), 'all_classes': array([b'0', b'1'], dtype=object)}, {'logits': array([-0.1351217], dtype=float32), 'logistic': array([0.4662709], dtype=float32), 'probabilities': array([0.53372914, 0.4662709 ], dtype=float32), 'class_ids': array([0]), 'classes': array([b'0'], dtype=object), 'all_class_ids': array([0, 1], dtype=int32), 'all_classes': array([b'0', b'1'], dtype=object)}, {'logits': array([-1.567219], dtype=float32), 'logistic': array([0.1726132], dtype=float32), 'probabilities': array([0.82738674, 0.17261319], dtype=float32), 'class_ids': array([0]), 'classes': array([b'0'], dtype=object), 'all_class_ids': array([0, 1], dtype=int32), 'all_classes': array([b'0', b'1'], dtype=object)}, {'logits': array([3.2409978], dtype=float32), 'logistic': array([0.96234834], dtype=float32), 'probabilities': array([0.03765172, 0.9623483 ], dtype=float32), 'class_ids': array([1]), 'classes': array([b'1'], dtype=object), 'all_class_ids': array([0, 1], dtype=int32), 'all_classes': array([b'0', b'1'], dtype=object)}, {'logits': array([-2.2297564], dtype=float32), 'logistic': array([0.09711], dtype=float32), 'probabilities': array([0.90288997, 0.09711   ], dtype=float32), 'class_ids': array([0]), 'classes': array([b'0'], dtype=object), 'all_class_ids': array([0, 1], dtype=int32), 'all_classes': array([b'0', b'1'], dtype=object)}, {'logits': array([0.34637904], dtype=float32), 'logistic': array([0.5857392], dtype=float32), 'probabilities': array([0.41426072, 0.5857392 ], dtype=float32), 'class_ids': array([1]), 'classes': array([b'1'], dtype=object), 'all_class_ids': array([0, 1], dtype=int32), 'all_classes': array([b'0', b'1'], dtype=object)}, {'logits': array([0.7667209], dtype=float32), 'logistic': array([0.68281114], dtype=float32), 'probabilities': array([0.3171889 , 0.68281114], dtype=float32), 'class_ids': array([1]), 'classes': array([b'1'], dtype=object), 'all_class_ids': array([0, 1], dtype=int32), 'all_classes': array([b'0', b'1'], dtype=object)}, {'logits': array([-2.148436], dtype=float32), 'logistic': array([0.10447744], dtype=float32), 'probabilities': array([0.8955226 , 0.10447747], dtype=float32), 'class_ids': array([0]), 'classes': array([b'0'], dtype=object), 'all_class_ids': array([0, 1], dtype=int32), 'all_classes': array([b'0', b'1'], dtype=object)}, {'logits': array([1.753103], dtype=float32), 'logistic': array([0.85234374], dtype=float32), 'probabilities': array([0.14765625, 0.8523438 ], dtype=float32), 'class_ids': array([1]), 'classes': array([b'1'], dtype=object), 'all_class_ids': array([0, 1], dtype=int32), 'all_classes': array([b'0', b'1'], dtype=object)}, {'logits': array([2.065619], dtype=float32), 'logistic': array([0.8875164], dtype=float32), 'probabilities': array([0.11248365, 0.8875163 ], dtype=float32), 'class_ids': array([1]), 'classes': array([b'1'], dtype=object), 'all_class_ids': array([0, 1], dtype=int32), 'all_classes': array([b'0', b'1'], dtype=object)}, {'logits': array([3.7596345], dtype=float32), 'logistic': array([0.97723794], dtype=float32), 'probabilities': array([0.02276207, 0.9772379 ], dtype=float32), 'class_ids': array([1]), 'classes': array([b'1'], dtype=object), 'all_class_ids': array([0, 1], dtype=int32), 'all_classes': array([b'0', b'1'], dtype=object)}, {'logits': array([-1.2788619], dtype=float32), 'logistic': array([0.21774402], dtype=float32), 'probabilities': array([0.78225595, 0.21774402], dtype=float32), 'class_ids': array([0]), 'classes': array([b'0'], dtype=object), 'all_class_ids': array([0, 1], dtype=int32), 'all_classes': array([b'0', b'1'], dtype=object)}, {'logits': array([-2.1375885], dtype=float32), 'logistic': array([0.1054967], dtype=float32), 'probabilities': array([0.8945033 , 0.10549675], dtype=float32), 'class_ids': array([0]), 'classes': array([b'0'], dtype=object), 'all_class_ids': array([0, 1], dtype=int32), 'all_classes': array([b'0', b'1'], dtype=object)}, {'logits': array([4.0840054], dtype=float32), 'logistic': array([0.98343897], dtype=float32), 'probabilities': array([0.016561, 0.983439], dtype=float32), 'class_ids': array([1]), 'classes': array([b'1'], dtype=object), 'all_class_ids': array([0, 1], dtype=int32), 'all_classes': array([b'0', b'1'], dtype=object)}, {'logits': array([0.24781513], dtype=float32), 'logistic': array([0.56163865], dtype=float32), 'probabilities': array([0.43836135, 0.56163865], dtype=float32), 'class_ids': array([1]), 'classes': array([b'1'], dtype=object), 'all_class_ids': array([0, 1], dtype=int32), 'all_classes': array([b'0', b'1'], dtype=object)}, {'logits': array([1.2689308], dtype=float32), 'logistic': array([0.78055966], dtype=float32), 'probabilities': array([0.21944034, 0.7805597 ], dtype=float32), 'class_ids': array([1]), 'classes': array([b'1'], dtype=object), 'all_class_ids': array([0, 1], dtype=int32), 'all_classes': array([b'0', b'1'], dtype=object)}, {'logits': array([-1.1906514], dtype=float32), 'logistic': array([0.23314244], dtype=float32), 'probabilities': array([0.76685756, 0.23314245], dtype=float32), 'class_ids': array([0]), 'classes': array([b'0'], dtype=object), 'all_class_ids': array([0, 1], dtype=int32), 'all_classes': array([b'0', b'1'], dtype=object)}, {'logits': array([-2.6418805], dtype=float32), 'logistic': array([0.06649125], dtype=float32), 'probabilities': array([0.9335088 , 0.06649122], dtype=float32), 'class_ids': array([0]), 'classes': array([b'0'], dtype=object), 'all_class_ids': array([0, 1], dtype=int32), 'all_classes': array([b'0', b'1'], dtype=object)}, {'logits': array([-2.0653622], dtype=float32), 'logistic': array([0.11250928], dtype=float32), 'probabilities': array([0.8874907 , 0.11250929], dtype=float32), 'class_ids': array([0]), 'classes': array([b'0'], dtype=object), 'all_class_ids': array([0, 1], dtype=int32), 'all_classes': array([b'0', b'1'], dtype=object)}, {'logits': array([-0.7283869], dtype=float32), 'logistic': array([0.32554883], dtype=float32), 'probabilities': array([0.6744512, 0.3255488], dtype=float32), 'class_ids': array([0]), 'classes': array([b'0'], dtype=object), 'all_class_ids': array([0, 1], dtype=int32), 'all_classes': array([b'0', b'1'], dtype=object)}, {'logits': array([-2.2835178], dtype=float32), 'logistic': array([0.0924972], dtype=float32), 'probabilities': array([0.9075028 , 0.09249724], dtype=float32), 'class_ids': array([0]), 'classes': array([b'0'], dtype=object), 'all_class_ids': array([0, 1], dtype=int32), 'all_classes': array([b'0', b'1'], dtype=object)}, {'logits': array([1.4048674], dtype=float32), 'logistic': array([0.80295515], dtype=float32), 'probabilities': array([0.19704486, 0.80295515], dtype=float32), 'class_ids': array([1]), 'classes': array([b'1'], dtype=object), 'all_class_ids': array([0, 1], dtype=int32), 'all_classes': array([b'0', b'1'], dtype=object)}, {'logits': array([0.39761806], dtype=float32), 'logistic': array([0.5981152], dtype=float32), 'probabilities': array([0.40188476, 0.5981152 ], dtype=float32), 'class_ids': array([1]), 'classes': array([b'1'], dtype=object), 'all_class_ids': array([0, 1], dtype=int32), 'all_classes': array([b'0', b'1'], dtype=object)}, {'logits': array([0.08406472], dtype=float32), 'logistic': array([0.5210038], dtype=float32), 'probabilities': array([0.4789962 , 0.52100384], dtype=float32), 'class_ids': array([1]), 'classes': array([b'1'], dtype=object), 'all_class_ids': array([0, 1], dtype=int32), 'all_classes': array([b'0', b'1'], dtype=object)}, {'logits': array([0.8857411], dtype=float32), 'logistic': array([0.7080105], dtype=float32), 'probabilities': array([0.2919895 , 0.70801055], dtype=float32), 'class_ids': array([1]), 'classes': array([b'1'], dtype=object), 'all_class_ids': array([0, 1], dtype=int32), 'all_classes': array([b'0', b'1'], dtype=object)}, {'logits': array([-1.471826], dtype=float32), 'logistic': array([0.18666524], dtype=float32), 'probabilities': array([0.81333476, 0.18666524], dtype=float32), 'class_ids': array([0]), 'classes': array([b'0'], dtype=object), 'all_class_ids': array([0, 1], dtype=int32), 'all_classes': array([b'0', b'1'], dtype=object)}, {'logits': array([1.6466707], dtype=float32), 'logistic': array([0.83844054], dtype=float32), 'probabilities': array([0.16155943, 0.8384406 ], dtype=float32), 'class_ids': array([1]), 'classes': array([b'1'], dtype=object), 'all_class_ids': array([0, 1], dtype=int32), 'all_classes': array([b'0', b'1'], dtype=object)}, {'logits': array([2.1612415], dtype=float32), 'logistic': array([0.8967146], dtype=float32), 'probabilities': array([0.1032854 , 0.89671457], dtype=float32), 'class_ids': array([1]), 'classes': array([b'1'], dtype=object), 'all_class_ids': array([0, 1], dtype=int32), 'all_classes': array([b'0', b'1'], dtype=object)}, {'logits': array([1.3200349], dtype=float32), 'logistic': array([0.78918755], dtype=float32), 'probabilities': array([0.21081251, 0.78918755], dtype=float32), 'class_ids': array([1]), 'classes': array([b'1'], dtype=object), 'all_class_ids': array([0, 1], dtype=int32), 'all_classes': array([b'0', b'1'], dtype=object)}, {'logits': array([-2.5333433], dtype=float32), 'logistic': array([0.07355347], dtype=float32), 'probabilities': array([0.9264465, 0.0735535], dtype=float32), 'class_ids': array([0]), 'classes': array([b'0'], dtype=object), 'all_class_ids': array([0, 1], dtype=int32), 'all_classes': array([b'0', b'1'], dtype=object)}, {'logits': array([1.5608695], dtype=float32), 'logistic': array([0.8264781], dtype=float32), 'probabilities': array([0.17352192, 0.82647806], dtype=float32), 'class_ids': array([1]), 'classes': array([b'1'], dtype=object), 'all_class_ids': array([0, 1], dtype=int32), 'all_classes': array([b'0', b'1'], dtype=object)}, {'logits': array([0.9459076], dtype=float32), 'logistic': array([0.72029144], dtype=float32), 'probabilities': array([0.27970856, 0.7202914 ], dtype=float32), 'class_ids': array([1]), 'classes': array([b'1'], dtype=object), 'all_class_ids': array([0, 1], dtype=int32), 'all_classes': array([b'0', b'1'], dtype=object)}, {'logits': array([0.95083237], dtype=float32), 'logistic': array([0.7212825], dtype=float32), 'probabilities': array([0.27871746, 0.72128254], dtype=float32), 'class_ids': array([1]), 'classes': array([b'1'], dtype=object), 'all_class_ids': array([0, 1], dtype=int32), 'all_classes': array([b'0', b'1'], dtype=object)}, {'logits': array([-2.9170709], dtype=float32), 'logistic': array([0.05131608], dtype=float32), 'probabilities': array([0.94868386, 0.05131611], dtype=float32), 'class_ids': array([0]), 'classes': array([b'0'], dtype=object), 'all_class_ids': array([0, 1], dtype=int32), 'all_classes': array([b'0', b'1'], dtype=object)}, {'logits': array([2.5019336], dtype=float32), 'logistic': array([0.92427725], dtype=float32), 'probabilities': array([0.07572274, 0.92427725], dtype=float32), 'class_ids': array([1]), 'classes': array([b'1'], dtype=object), 'all_class_ids': array([0, 1], dtype=int32), 'all_classes': array([b'0', b'1'], dtype=object)}, {'logits': array([0.88205683], dtype=float32), 'logistic': array([0.7072483], dtype=float32), 'probabilities': array([0.29275173, 0.7072483 ], dtype=float32), 'class_ids': array([1]), 'classes': array([b'1'], dtype=object), 'all_class_ids': array([0, 1], dtype=int32), 'all_classes': array([b'0', b'1'], dtype=object)}, {'logits': array([-2.2512367], dtype=float32), 'logistic': array([0.09524283], dtype=float32), 'probabilities': array([0.90475714, 0.09524284], dtype=float32), 'class_ids': array([0]), 'classes': array([b'0'], dtype=object), 'all_class_ids': array([0, 1], dtype=int32), 'all_classes': array([b'0', b'1'], dtype=object)}, {'logits': array([0.9755838], dtype=float32), 'logistic': array([0.72623104], dtype=float32), 'probabilities': array([0.27376896, 0.7262311 ], dtype=float32), 'class_ids': array([1]), 'classes': array([b'1'], dtype=object), 'all_class_ids': array([0, 1], dtype=int32), 'all_classes': array([b'0', b'1'], dtype=object)}, {'logits': array([-2.2230244], dtype=float32), 'logistic': array([0.09770182], dtype=float32), 'probabilities': array([0.90229815, 0.09770186], dtype=float32), 'class_ids': array([0]), 'classes': array([b'0'], dtype=object), 'all_class_ids': array([0, 1], dtype=int32), 'all_classes': array([b'0', b'1'], dtype=object)}, {'logits': array([1.6258622], dtype=float32), 'logistic': array([0.83560205], dtype=float32), 'probabilities': array([0.16439798, 0.83560205], dtype=float32), 'class_ids': array([1]), 'classes': array([b'1'], dtype=object), 'all_class_ids': array([0, 1], dtype=int32), 'all_classes': array([b'0', b'1'], dtype=object)}, {'logits': array([0.54653704], dtype=float32), 'logistic': array([0.6333318], dtype=float32), 'probabilities': array([0.36666822, 0.6333318 ], dtype=float32), 'class_ids': array([1]), 'classes': array([b'1'], dtype=object), 'all_class_ids': array([0, 1], dtype=int32), 'all_classes': array([b'0', b'1'], dtype=object)}, {'logits': array([-2.1090374], dtype=float32), 'logistic': array([0.1082215], dtype=float32), 'probabilities': array([0.89177847, 0.10822153], dtype=float32), 'class_ids': array([0]), 'classes': array([b'0'], dtype=object), 'all_class_ids': array([0, 1], dtype=int32), 'all_classes': array([b'0', b'1'], dtype=object)}, {'logits': array([0.32554924], dtype=float32), 'logistic': array([0.5806761], dtype=float32), 'probabilities': array([0.41932395, 0.5806761 ], dtype=float32), 'class_ids': array([1]), 'classes': array([b'1'], dtype=object), 'all_class_ids': array([0, 1], dtype=int32), 'all_classes': array([b'0', b'1'], dtype=object)}, {'logits': array([1.9869511], dtype=float32), 'logistic': array([0.8794202], dtype=float32), 'probabilities': array([0.12057979, 0.87942016], dtype=float32), 'class_ids': array([1]), 'classes': array([b'1'], dtype=object), 'all_class_ids': array([0, 1], dtype=int32), 'all_classes': array([b'0', b'1'], dtype=object)}, {'logits': array([-2.1600928], dtype=float32), 'logistic': array([0.10339186], dtype=float32), 'probabilities': array([0.8966082 , 0.10339185], dtype=float32), 'class_ids': array([0]), 'classes': array([b'0'], dtype=object), 'all_class_ids': array([0, 1], dtype=int32), 'all_classes': array([b'0', b'1'], dtype=object)}, {'logits': array([-2.2204204], dtype=float32), 'logistic': array([0.09793165], dtype=float32), 'probabilities': array([0.9020684 , 0.09793167], dtype=float32), 'class_ids': array([0]), 'classes': array([b'0'], dtype=object), 'all_class_ids': array([0, 1], dtype=int32), 'all_classes': array([b'0', b'1'], dtype=object)}, {'logits': array([0.8884436], dtype=float32), 'logistic': array([0.7085689], dtype=float32), 'probabilities': array([0.29143113, 0.7085689 ], dtype=float32), 'class_ids': array([1]), 'classes': array([b'1'], dtype=object), 'all_class_ids': array([0, 1], dtype=int32), 'all_classes': array([b'0', b'1'], dtype=object)}, {'logits': array([-1.9676933], dtype=float32), 'logistic': array([0.12263682], dtype=float32), 'probabilities': array([0.8773632 , 0.12263688], dtype=float32), 'class_ids': array([0]), 'classes': array([b'0'], dtype=object), 'all_class_ids': array([0, 1], dtype=int32), 'all_classes': array([b'0', b'1'], dtype=object)}, {'logits': array([-1.970211], dtype=float32), 'logistic': array([0.12236622], dtype=float32), 'probabilities': array([0.8776338 , 0.12236622], dtype=float32), 'class_ids': array([0]), 'classes': array([b'0'], dtype=object), 'all_class_ids': array([0, 1], dtype=int32), 'all_classes': array([b'0', b'1'], dtype=object)}, {'logits': array([-1.4075922], dtype=float32), 'logistic': array([0.19661412], dtype=float32), 'probabilities': array([0.80338585, 0.1966141 ], dtype=float32), 'class_ids': array([0]), 'classes': array([b'0'], dtype=object), 'all_class_ids': array([0, 1], dtype=int32), 'all_classes': array([b'0', b'1'], dtype=object)}, {'logits': array([-2.5208936], dtype=float32), 'logistic': array([0.07440636], dtype=float32), 'probabilities': array([0.9255937 , 0.07440639], dtype=float32), 'class_ids': array([0]), 'classes': array([b'0'], dtype=object), 'all_class_ids': array([0, 1], dtype=int32), 'all_classes': array([b'0', b'1'], dtype=object)}, {'logits': array([0.8941635], dtype=float32), 'logistic': array([0.70974857], dtype=float32), 'probabilities': array([0.29025137, 0.70974857], dtype=float32), 'class_ids': array([1]), 'classes': array([b'1'], dtype=object), 'all_class_ids': array([0, 1], dtype=int32), 'all_classes': array([b'0', b'1'], dtype=object)}, {'logits': array([-2.0406628], dtype=float32), 'logistic': array([0.11499923], dtype=float32), 'probabilities': array([0.88500077, 0.11499927], dtype=float32), 'class_ids': array([0]), 'classes': array([b'0'], dtype=object), 'all_class_ids': array([0, 1], dtype=int32), 'all_classes': array([b'0', b'1'], dtype=object)}, {'logits': array([-2.8858476], dtype=float32), 'logistic': array([0.05285764], dtype=float32), 'probabilities': array([0.94714236, 0.05285762], dtype=float32), 'class_ids': array([0]), 'classes': array([b'0'], dtype=object), 'all_class_ids': array([0, 1], dtype=int32), 'all_classes': array([b'0', b'1'], dtype=object)}, {'logits': array([-2.2809138], dtype=float32), 'logistic': array([0.09271604], dtype=float32), 'probabilities': array([0.90728396, 0.09271605], dtype=float32), 'class_ids': array([0]), 'classes': array([b'0'], dtype=object), 'all_class_ids': array([0, 1], dtype=int32), 'all_classes': array([b'0', b'1'], dtype=object)}, {'logits': array([-2.0112975], dtype=float32), 'logistic': array([0.11802185], dtype=float32), 'probabilities': array([0.88197815, 0.11802186], dtype=float32), 'class_ids': array([0]), 'classes': array([b'0'], dtype=object), 'all_class_ids': array([0, 1], dtype=int32), 'all_classes': array([b'0', b'1'], dtype=object)}, {'logits': array([-1.5596956], dtype=float32), 'logistic': array([0.17369032], dtype=float32), 'probabilities': array([0.8263097 , 0.17369033], dtype=float32), 'class_ids': array([0]), 'classes': array([b'0'], dtype=object), 'all_class_ids': array([0, 1], dtype=int32), 'all_classes': array([b'0', b'1'], dtype=object)}, {'logits': array([-1.679798], dtype=float32), 'logistic': array([0.15712222], dtype=float32), 'probabilities': array([0.8428778 , 0.15712221], dtype=float32), 'class_ids': array([0]), 'classes': array([b'0'], dtype=object), 'all_class_ids': array([0, 1], dtype=int32), 'all_classes': array([b'0', b'1'], dtype=object)}, {'logits': array([2.9374003], dtype=float32), 'logistic': array([0.9496646], dtype=float32), 'probabilities': array([0.0503354 , 0.94966465], dtype=float32), 'class_ids': array([1]), 'classes': array([b'1'], dtype=object), 'all_class_ids': array([0, 1], dtype=int32), 'all_classes': array([b'0', b'1'], dtype=object)}, {'logits': array([-2.1974723], dtype=float32), 'logistic': array([0.09997767], dtype=float32), 'probabilities': array([0.90002227, 0.0999777 ], dtype=float32), 'class_ids': array([0]), 'classes': array([b'0'], dtype=object), 'all_class_ids': array([0, 1], dtype=int32), 'all_classes': array([b'0', b'1'], dtype=object)}, {'logits': array([-2.1002612], dtype=float32), 'logistic': array([0.10907143], dtype=float32), 'probabilities': array([0.8909285 , 0.10907143], dtype=float32), 'class_ids': array([0]), 'classes': array([b'0'], dtype=object), 'all_class_ids': array([0, 1], dtype=int32), 'all_classes': array([b'0', b'1'], dtype=object)}, {'logits': array([0.95919883], dtype=float32), 'logistic': array([0.7229613], dtype=float32), 'probabilities': array([0.27703863, 0.72296137], dtype=float32), 'class_ids': array([1]), 'classes': array([b'1'], dtype=object), 'all_class_ids': array([0, 1], dtype=int32), 'all_classes': array([b'0', b'1'], dtype=object)}, {'logits': array([3.3826237], dtype=float32), 'logistic': array([0.967157], dtype=float32), 'probabilities': array([0.03284295, 0.96715707], dtype=float32), 'class_ids': array([1]), 'classes': array([b'1'], dtype=object), 'all_class_ids': array([0, 1], dtype=int32), 'all_classes': array([b'0', b'1'], dtype=object)}, {'logits': array([-2.1733036], dtype=float32), 'logistic': array([0.1021736], dtype=float32), 'probabilities': array([0.89782643, 0.10217358], dtype=float32), 'class_ids': array([0]), 'classes': array([b'0'], dtype=object), 'all_class_ids': array([0, 1], dtype=int32), 'all_classes': array([b'0', b'1'], dtype=object)}, {'logits': array([-1.9979401], dtype=float32), 'logistic': array([0.11941934], dtype=float32), 'probabilities': array([0.8805806 , 0.11941937], dtype=float32), 'class_ids': array([0]), 'classes': array([b'0'], dtype=object), 'all_class_ids': array([0, 1], dtype=int32), 'all_classes': array([b'0', b'1'], dtype=object)}, {'logits': array([-2.2204204], dtype=float32), 'logistic': array([0.09793165], dtype=float32), 'probabilities': array([0.9020684 , 0.09793167], dtype=float32), 'class_ids': array([0]), 'classes': array([b'0'], dtype=object), 'all_class_ids': array([0, 1], dtype=int32), 'all_classes': array([b'0', b'1'], dtype=object)}, {'logits': array([0.43595433], dtype=float32), 'logistic': array([0.6072946], dtype=float32), 'probabilities': array([0.3927054, 0.6072946], dtype=float32), 'class_ids': array([1]), 'classes': array([b'1'], dtype=object), 'all_class_ids': array([0, 1], dtype=int32), 'all_classes': array([b'0', b'1'], dtype=object)}, {'logits': array([-1.9143105], dtype=float32), 'logistic': array([0.12849736], dtype=float32), 'probabilities': array([0.8715026 , 0.12849736], dtype=float32), 'class_ids': array([0]), 'classes': array([b'0'], dtype=object), 'all_class_ids': array([0, 1], dtype=int32), 'all_classes': array([b'0', b'1'], dtype=object)}, {'logits': array([-1.7033428], dtype=float32), 'logistic': array([0.15402919], dtype=float32), 'probabilities': array([0.84597087, 0.15402919], dtype=float32), 'class_ids': array([0]), 'classes': array([b'0'], dtype=object), 'all_class_ids': array([0, 1], dtype=int32), 'all_classes': array([b'0', b'1'], dtype=object)}, {'logits': array([-2.5535412], dtype=float32), 'logistic': array([0.07218894], dtype=float32), 'probabilities': array([0.9278111 , 0.07218895], dtype=float32), 'class_ids': array([0]), 'classes': array([b'0'], dtype=object), 'all_class_ids': array([0, 1], dtype=int32), 'all_classes': array([b'0', b'1'], dtype=object)}, {'logits': array([-1.7033291], dtype=float32), 'logistic': array([0.15403098], dtype=float32), 'probabilities': array([0.8459691 , 0.15403098], dtype=float32), 'class_ids': array([0]), 'classes': array([b'0'], dtype=object), 'all_class_ids': array([0, 1], dtype=int32), 'all_classes': array([b'0', b'1'], dtype=object)}, {'logits': array([-2.1994252], dtype=float32), 'logistic': array([0.09980211], dtype=float32), 'probabilities': array([0.90019786, 0.09980211], dtype=float32), 'class_ids': array([0]), 'classes': array([b'0'], dtype=object), 'all_class_ids': array([0, 1], dtype=int32), 'all_classes': array([b'0', b'1'], dtype=object)}, {'logits': array([-1.42241], dtype=float32), 'logistic': array([0.19428405], dtype=float32), 'probabilities': array([0.805716  , 0.19428405], dtype=float32), 'class_ids': array([0]), 'classes': array([b'0'], dtype=object), 'all_class_ids': array([0, 1], dtype=int32), 'all_classes': array([b'0', b'1'], dtype=object)}, {'logits': array([-1.7493672], dtype=float32), 'logistic': array([0.14812702], dtype=float32), 'probabilities': array([0.851873  , 0.14812702], dtype=float32), 'class_ids': array([0]), 'classes': array([b'0'], dtype=object), 'all_class_ids': array([0, 1], dtype=int32), 'all_classes': array([b'0', b'1'], dtype=object)}, {'logits': array([-0.4349861], dtype=float32), 'logistic': array([0.39293632], dtype=float32), 'probabilities': array([0.60706365, 0.39293632], dtype=float32), 'class_ids': array([0]), 'classes': array([b'0'], dtype=object), 'all_class_ids': array([0, 1], dtype=int32), 'all_classes': array([b'0', b'1'], dtype=object)}, {'logits': array([-1.5218625], dtype=float32), 'logistic': array([0.17918742], dtype=float32), 'probabilities': array([0.8208126 , 0.17918742], dtype=float32), 'class_ids': array([0]), 'classes': array([b'0'], dtype=object), 'all_class_ids': array([0, 1], dtype=int32), 'all_classes': array([b'0', b'1'], dtype=object)}, {'logits': array([-1.6870836], dtype=float32), 'logistic': array([0.15615976], dtype=float32), 'probabilities': array([0.84384024, 0.15615976], dtype=float32), 'class_ids': array([0]), 'classes': array([b'0'], dtype=object), 'all_class_ids': array([0, 1], dtype=int32), 'all_classes': array([b'0', b'1'], dtype=object)}, {'logits': array([-1.3636491], dtype=float32), 'logistic': array([0.20364788], dtype=float32), 'probabilities': array([0.79635215, 0.20364787], dtype=float32), 'class_ids': array([0]), 'classes': array([b'0'], dtype=object), 'all_class_ids': array([0, 1], dtype=int32), 'all_classes': array([b'0', b'1'], dtype=object)}, {'logits': array([0.70686495], dtype=float32), 'logistic': array([0.669708], dtype=float32), 'probabilities': array([0.33029193, 0.6697081 ], dtype=float32), 'class_ids': array([1]), 'classes': array([b'1'], dtype=object), 'all_class_ids': array([0, 1], dtype=int32), 'all_classes': array([b'0', b'1'], dtype=object)}, {'logits': array([-1.7033291], dtype=float32), 'logistic': array([0.15403098], dtype=float32), 'probabilities': array([0.8459691 , 0.15403098], dtype=float32), 'class_ids': array([0]), 'classes': array([b'0'], dtype=object), 'all_class_ids': array([0, 1], dtype=int32), 'all_classes': array([b'0', b'1'], dtype=object)}, {'logits': array([0.9595921], dtype=float32), 'logistic': array([0.7230401], dtype=float32), 'probabilities': array([0.27695987, 0.7230401 ], dtype=float32), 'class_ids': array([1]), 'classes': array([b'1'], dtype=object), 'all_class_ids': array([0, 1], dtype=int32), 'all_classes': array([b'0', b'1'], dtype=object)}, {'logits': array([-1.9272051], dtype=float32), 'logistic': array([0.12706026], dtype=float32), 'probabilities': array([0.87293977, 0.12706026], dtype=float32), 'class_ids': array([0]), 'classes': array([b'0'], dtype=object), 'all_class_ids': array([0, 1], dtype=int32), 'all_classes': array([b'0', b'1'], dtype=object)}, {'logits': array([3.3904276], dtype=float32), 'logistic': array([0.967404], dtype=float32), 'probabilities': array([0.03259597, 0.967404  ], dtype=float32), 'class_ids': array([1]), 'classes': array([b'1'], dtype=object), 'all_class_ids': array([0, 1], dtype=int32), 'all_classes': array([b'0', b'1'], dtype=object)}, {'logits': array([1.2690253], dtype=float32), 'logistic': array([0.7805759], dtype=float32), 'probabilities': array([0.21942414, 0.7805758 ], dtype=float32), 'class_ids': array([1]), 'classes': array([b'1'], dtype=object), 'all_class_ids': array([0, 1], dtype=int32), 'all_classes': array([b'0', b'1'], dtype=object)}, {'logits': array([-2.341814], dtype=float32), 'logistic': array([0.08771864], dtype=float32), 'probabilities': array([0.9122814 , 0.08771864], dtype=float32), 'class_ids': array([0]), 'classes': array([b'0'], dtype=object), 'all_class_ids': array([0, 1], dtype=int32), 'all_classes': array([b'0', b'1'], dtype=object)}, {'logits': array([2.881], dtype=float32), 'logistic': array([0.9468992], dtype=float32), 'probabilities': array([0.05310083, 0.9468992 ], dtype=float32), 'class_ids': array([1]), 'classes': array([b'1'], dtype=object), 'all_class_ids': array([0, 1], dtype=int32), 'all_classes': array([b'0', b'1'], dtype=object)}, {'logits': array([-2.1093755], dtype=float32), 'logistic': array([0.10818887], dtype=float32), 'probabilities': array([0.89181113, 0.10818891], dtype=float32), 'class_ids': array([0]), 'classes': array([b'0'], dtype=object), 'all_class_ids': array([0, 1], dtype=int32), 'all_classes': array([b'0', b'1'], dtype=object)}, {'logits': array([-1.6985009], dtype=float32), 'logistic': array([0.15466118], dtype=float32), 'probabilities': array([0.8453388 , 0.15466115], dtype=float32), 'class_ids': array([0]), 'classes': array([b'0'], dtype=object), 'all_class_ids': array([0, 1], dtype=int32), 'all_classes': array([b'0', b'1'], dtype=object)}, {'logits': array([3.6597228], dtype=float32), 'logistic': array([0.9749062], dtype=float32), 'probabilities': array([0.02509374, 0.9749062 ], dtype=float32), 'class_ids': array([1]), 'classes': array([b'1'], dtype=object), 'all_class_ids': array([0, 1], dtype=int32), 'all_classes': array([b'0', b'1'], dtype=object)}, {'logits': array([-2.0389402], dtype=float32), 'logistic': array([0.11517468], dtype=float32), 'probabilities': array([0.88482535, 0.1151747 ], dtype=float32), 'class_ids': array([0]), 'classes': array([b'0'], dtype=object), 'all_class_ids': array([0, 1], dtype=int32), 'all_classes': array([b'0', b'1'], dtype=object)}, {'logits': array([1.6425612], dtype=float32), 'logistic': array([0.8378831], dtype=float32), 'probabilities': array([0.16211687, 0.8378832 ], dtype=float32), 'class_ids': array([1]), 'classes': array([b'1'], dtype=object), 'all_class_ids': array([0, 1], dtype=int32), 'all_classes': array([b'0', b'1'], dtype=object)}, {'logits': array([-2.2209222], dtype=float32), 'logistic': array([0.09788731], dtype=float32), 'probabilities': array([0.9021127 , 0.09788734], dtype=float32), 'class_ids': array([0]), 'classes': array([b'0'], dtype=object), 'all_class_ids': array([0, 1], dtype=int32), 'all_classes': array([b'0', b'1'], dtype=object)}, {'logits': array([-0.6071032], dtype=float32), 'logistic': array([0.3527203], dtype=float32), 'probabilities': array([0.64727974, 0.3527203 ], dtype=float32), 'class_ids': array([0]), 'classes': array([b'0'], dtype=object), 'all_class_ids': array([0, 1], dtype=int32), 'all_classes': array([b'0', b'1'], dtype=object)}, {'logits': array([-2.7043676], dtype=float32), 'logistic': array([0.0627161], dtype=float32), 'probabilities': array([0.9372839 , 0.06271612], dtype=float32), 'class_ids': array([0]), 'classes': array([b'0'], dtype=object), 'all_class_ids': array([0, 1], dtype=int32), 'all_classes': array([b'0', b'1'], dtype=object)}, {'logits': array([-1.9676933], dtype=float32), 'logistic': array([0.12263682], dtype=float32), 'probabilities': array([0.8773632 , 0.12263688], dtype=float32), 'class_ids': array([0]), 'classes': array([b'0'], dtype=object), 'all_class_ids': array([0, 1], dtype=int32), 'all_classes': array([b'0', b'1'], dtype=object)}, {'logits': array([0.81509936], dtype=float32), 'logistic': array([0.69319504], dtype=float32), 'probabilities': array([0.30680493, 0.69319504], dtype=float32), 'class_ids': array([1]), 'classes': array([b'1'], dtype=object), 'all_class_ids': array([0, 1], dtype=int32), 'all_classes': array([b'0', b'1'], dtype=object)}, {'logits': array([2.8228686], dtype=float32), 'logistic': array([0.94389915], dtype=float32), 'probabilities': array([0.05610083, 0.9438991 ], dtype=float32), 'class_ids': array([1]), 'classes': array([b'1'], dtype=object), 'all_class_ids': array([0, 1], dtype=int32), 'all_classes': array([b'0', b'1'], dtype=object)}, {'logits': array([-1.6280266], dtype=float32), 'logistic': array([0.16410089], dtype=float32), 'probabilities': array([0.8358991 , 0.16410087], dtype=float32), 'class_ids': array([0]), 'classes': array([b'0'], dtype=object), 'all_class_ids': array([0, 1], dtype=int32), 'all_classes': array([b'0', b'1'], dtype=object)}, {'logits': array([-0.23038256], dtype=float32), 'logistic': array([0.44265777], dtype=float32), 'probabilities': array([0.55734223, 0.44265774], dtype=float32), 'class_ids': array([0]), 'classes': array([b'0'], dtype=object), 'all_class_ids': array([0, 1], dtype=int32), 'all_classes': array([b'0', b'1'], dtype=object)}, {'logits': array([-2.0093307], dtype=float32), 'logistic': array([0.11822677], dtype=float32), 'probabilities': array([0.8817733 , 0.11822674], dtype=float32), 'class_ids': array([0]), 'classes': array([b'0'], dtype=object), 'all_class_ids': array([0, 1], dtype=int32), 'all_classes': array([b'0', b'1'], dtype=object)}, {'logits': array([-1.9824903], dtype=float32), 'logistic': array([0.12105358], dtype=float32), 'probabilities': array([0.87894636, 0.12105362], dtype=float32), 'class_ids': array([0]), 'classes': array([b'0'], dtype=object), 'all_class_ids': array([0, 1], dtype=int32), 'all_classes': array([b'0', b'1'], dtype=object)}, {'logits': array([-0.7451169], dtype=float32), 'logistic': array([0.32188624], dtype=float32), 'probabilities': array([0.6781138 , 0.32188627], dtype=float32), 'class_ids': array([0]), 'classes': array([b'0'], dtype=object), 'all_class_ids': array([0, 1], dtype=int32), 'all_classes': array([b'0', b'1'], dtype=object)}, {'logits': array([-1.1648383], dtype=float32), 'logistic': array([0.23778927], dtype=float32), 'probabilities': array([0.7622107 , 0.23778924], dtype=float32), 'class_ids': array([0]), 'classes': array([b'0'], dtype=object), 'all_class_ids': array([0, 1], dtype=int32), 'all_classes': array([b'0', b'1'], dtype=object)}, {'logits': array([3.6044264], dtype=float32), 'logistic': array([0.97351736], dtype=float32), 'probabilities': array([0.02648263, 0.9735173 ], dtype=float32), 'class_ids': array([1]), 'classes': array([b'1'], dtype=object), 'all_class_ids': array([0, 1], dtype=int32), 'all_classes': array([b'0', b'1'], dtype=object)}, {'logits': array([-0.23521173], dtype=float32), 'logistic': array([0.4414667], dtype=float32), 'probabilities': array([0.5585333, 0.4414667], dtype=float32), 'class_ids': array([0]), 'classes': array([b'0'], dtype=object), 'all_class_ids': array([0, 1], dtype=int32), 'all_classes': array([b'0', b'1'], dtype=object)}, {'logits': array([-1.9487019], dtype=float32), 'logistic': array([0.12469497], dtype=float32), 'probabilities': array([0.875305  , 0.12469497], dtype=float32), 'class_ids': array([0]), 'classes': array([b'0'], dtype=object), 'all_class_ids': array([0, 1], dtype=int32), 'all_classes': array([b'0', b'1'], dtype=object)}, {'logits': array([-0.45675987], dtype=float32), 'logistic': array([0.38775477], dtype=float32), 'probabilities': array([0.61224526, 0.38775474], dtype=float32), 'class_ids': array([0]), 'classes': array([b'0'], dtype=object), 'all_class_ids': array([0, 1], dtype=int32), 'all_classes': array([b'0', b'1'], dtype=object)}, {'logits': array([0.95984983], dtype=float32), 'logistic': array([0.7230917], dtype=float32), 'probabilities': array([0.27690825, 0.7230917 ], dtype=float32), 'class_ids': array([1]), 'classes': array([b'1'], dtype=object), 'all_class_ids': array([0, 1], dtype=int32), 'all_classes': array([b'0', b'1'], dtype=object)}, {'logits': array([1.2588038], dtype=float32), 'logistic': array([0.7788201], dtype=float32), 'probabilities': array([0.22117987, 0.77882016], dtype=float32), 'class_ids': array([1]), 'classes': array([b'1'], dtype=object), 'all_class_ids': array([0, 1], dtype=int32), 'all_classes': array([b'0', b'1'], dtype=object)}, {'logits': array([-1.214043], dtype=float32), 'logistic': array([0.22898647], dtype=float32), 'probabilities': array([0.77101356, 0.22898647], dtype=float32), 'class_ids': array([0]), 'classes': array([b'0'], dtype=object), 'all_class_ids': array([0, 1], dtype=int32), 'all_classes': array([b'0', b'1'], dtype=object)}, {'logits': array([-0.44011116], dtype=float32), 'logistic': array([0.3917145], dtype=float32), 'probabilities': array([0.60828555, 0.39171448], dtype=float32), 'class_ids': array([0]), 'classes': array([b'0'], dtype=object), 'all_class_ids': array([0, 1], dtype=int32), 'all_classes': array([b'0', b'1'], dtype=object)}, {'logits': array([-2.0663033], dtype=float32), 'logistic': array([0.11241537], dtype=float32), 'probabilities': array([0.8875847 , 0.11241537], dtype=float32), 'class_ids': array([0]), 'classes': array([b'0'], dtype=object), 'all_class_ids': array([0, 1], dtype=int32), 'all_classes': array([b'0', b'1'], dtype=object)}, {'logits': array([-1.6018498], dtype=float32), 'logistic': array([0.16772324], dtype=float32), 'probabilities': array([0.83227676, 0.16772324], dtype=float32), 'class_ids': array([0]), 'classes': array([b'0'], dtype=object), 'all_class_ids': array([0, 1], dtype=int32), 'all_classes': array([b'0', b'1'], dtype=object)}, {'logits': array([2.275772], dtype=float32), 'logistic': array([0.9068505], dtype=float32), 'probabilities': array([0.09314949, 0.9068506 ], dtype=float32), 'class_ids': array([1]), 'classes': array([b'1'], dtype=object), 'all_class_ids': array([0, 1], dtype=int32), 'all_classes': array([b'0', b'1'], dtype=object)}, {'logits': array([-2.643776], dtype=float32), 'logistic': array([0.06637368], dtype=float32), 'probabilities': array([0.9336263 , 0.06637366], dtype=float32), 'class_ids': array([0]), 'classes': array([b'0'], dtype=object), 'all_class_ids': array([0, 1], dtype=int32), 'all_classes': array([b'0', b'1'], dtype=object)}, {'logits': array([-2.114557], dtype=float32), 'logistic': array([0.10768998], dtype=float32), 'probabilities': array([0.89230996, 0.10768998], dtype=float32), 'class_ids': array([0]), 'classes': array([b'0'], dtype=object), 'all_class_ids': array([0, 1], dtype=int32), 'all_classes': array([b'0', b'1'], dtype=object)}, {'logits': array([0.2518102], dtype=float32), 'logistic': array([0.562622], dtype=float32), 'probabilities': array([0.437378, 0.562622], dtype=float32), 'class_ids': array([1]), 'classes': array([b'1'], dtype=object), 'all_class_ids': array([0, 1], dtype=int32), 'all_classes': array([b'0', b'1'], dtype=object)}, {'logits': array([0.96085334], dtype=float32), 'logistic': array([0.7232926], dtype=float32), 'probabilities': array([0.27670738, 0.72329265], dtype=float32), 'class_ids': array([1]), 'classes': array([b'1'], dtype=object), 'all_class_ids': array([0, 1], dtype=int32), 'all_classes': array([b'0', b'1'], dtype=object)}, {'logits': array([-0.785437], dtype=float32), 'logistic': array([0.31314927], dtype=float32), 'probabilities': array([0.6868507 , 0.31314927], dtype=float32), 'class_ids': array([0]), 'classes': array([b'0'], dtype=object), 'all_class_ids': array([0, 1], dtype=int32), 'all_classes': array([b'0', b'1'], dtype=object)}, {'logits': array([-2.5621057], dtype=float32), 'logistic': array([0.07161739], dtype=float32), 'probabilities': array([0.9283826 , 0.07161742], dtype=float32), 'class_ids': array([0]), 'classes': array([b'0'], dtype=object), 'all_class_ids': array([0, 1], dtype=int32), 'all_classes': array([b'0', b'1'], dtype=object)}, {'logits': array([-1.6126028], dtype=float32), 'logistic': array([0.16622758], dtype=float32), 'probabilities': array([0.8337725 , 0.16622756], dtype=float32), 'class_ids': array([0]), 'classes': array([b'0'], dtype=object), 'all_class_ids': array([0, 1], dtype=int32), 'all_classes': array([b'0', b'1'], dtype=object)}, {'logits': array([-2.08957], dtype=float32), 'logistic': array([0.11011466], dtype=float32), 'probabilities': array([0.8898853, 0.1101147], dtype=float32), 'class_ids': array([0]), 'classes': array([b'0'], dtype=object), 'all_class_ids': array([0, 1], dtype=int32), 'all_classes': array([b'0', b'1'], dtype=object)}, {'logits': array([-2.7043676], dtype=float32), 'logistic': array([0.0627161], dtype=float32), 'probabilities': array([0.9372839 , 0.06271612], dtype=float32), 'class_ids': array([0]), 'classes': array([b'0'], dtype=object), 'all_class_ids': array([0, 1], dtype=int32), 'all_classes': array([b'0', b'1'], dtype=object)}, {'logits': array([-2.1088634], dtype=float32), 'logistic': array([0.10823831], dtype=float32), 'probabilities': array([0.8917617 , 0.10823834], dtype=float32), 'class_ids': array([0]), 'classes': array([b'0'], dtype=object), 'all_class_ids': array([0, 1], dtype=int32), 'all_classes': array([b'0', b'1'], dtype=object)}, {'logits': array([3.669343], dtype=float32), 'logistic': array([0.9751406], dtype=float32), 'probabilities': array([0.02485947, 0.9751405 ], dtype=float32), 'class_ids': array([1]), 'classes': array([b'1'], dtype=object), 'all_class_ids': array([0, 1], dtype=int32), 'all_classes': array([b'0', b'1'], dtype=object)}, {'logits': array([1.500025], dtype=float32), 'logistic': array([0.8175782], dtype=float32), 'probabilities': array([0.18242179, 0.8175782 ], dtype=float32), 'class_ids': array([1]), 'classes': array([b'1'], dtype=object), 'all_class_ids': array([0, 1], dtype=int32), 'all_classes': array([b'0', b'1'], dtype=object)}, {'logits': array([-2.1390264], dtype=float32), 'logistic': array([0.10536113], dtype=float32), 'probabilities': array([0.89463884, 0.10536113], dtype=float32), 'class_ids': array([0]), 'classes': array([b'0'], dtype=object), 'all_class_ids': array([0, 1], dtype=int32), 'all_classes': array([b'0', b'1'], dtype=object)}, {'logits': array([1.0494422], dtype=float32), 'logistic': array([0.74066776], dtype=float32), 'probabilities': array([0.25933224, 0.7406678 ], dtype=float32), 'class_ids': array([1]), 'classes': array([b'1'], dtype=object), 'all_class_ids': array([0, 1], dtype=int32), 'all_classes': array([b'0', b'1'], dtype=object)}, {'logits': array([0.25447428], dtype=float32), 'logistic': array([0.5632775], dtype=float32), 'probabilities': array([0.43672255, 0.5632775 ], dtype=float32), 'class_ids': array([1]), 'classes': array([b'1'], dtype=object), 'all_class_ids': array([0, 1], dtype=int32), 'all_classes': array([b'0', b'1'], dtype=object)}, {'logits': array([-2.0911975], dtype=float32), 'logistic': array([0.10995531], dtype=float32), 'probabilities': array([0.8900447 , 0.10995533], dtype=float32), 'class_ids': array([0]), 'classes': array([b'0'], dtype=object), 'all_class_ids': array([0, 1], dtype=int32), 'all_classes': array([b'0', b'1'], dtype=object)}, {'logits': array([-1.86941], dtype=float32), 'logistic': array([0.13360998], dtype=float32), 'probabilities': array([0.86639   , 0.13361001], dtype=float32), 'class_ids': array([0]), 'classes': array([b'0'], dtype=object), 'all_class_ids': array([0, 1], dtype=int32), 'all_classes': array([b'0', b'1'], dtype=object)}, {'logits': array([-1.546757], dtype=float32), 'logistic': array([0.17555517], dtype=float32), 'probabilities': array([0.8244449 , 0.17555517], dtype=float32), 'class_ids': array([0]), 'classes': array([b'0'], dtype=object), 'all_class_ids': array([0, 1], dtype=int32), 'all_classes': array([b'0', b'1'], dtype=object)}, {'logits': array([-1.9764528], dtype=float32), 'logistic': array([0.12169746], dtype=float32), 'probabilities': array([0.8783026 , 0.12169749], dtype=float32), 'class_ids': array([0]), 'classes': array([b'0'], dtype=object), 'all_class_ids': array([0, 1], dtype=int32), 'all_classes': array([b'0', b'1'], dtype=object)}, {'logits': array([0.95955133], dtype=float32), 'logistic': array([0.72303194], dtype=float32), 'probabilities': array([0.27696803, 0.72303194], dtype=float32), 'class_ids': array([1]), 'classes': array([b'1'], dtype=object), 'all_class_ids': array([0, 1], dtype=int32), 'all_classes': array([b'0', b'1'], dtype=object)}, {'logits': array([-2.2093406], dtype=float32), 'logistic': array([0.09891483], dtype=float32), 'probabilities': array([0.90108514, 0.09891482], dtype=float32), 'class_ids': array([0]), 'classes': array([b'0'], dtype=object), 'all_class_ids': array([0, 1], dtype=int32), 'all_classes': array([b'0', b'1'], dtype=object)}, {'logits': array([0.30467844], dtype=float32), 'logistic': array([0.5755858], dtype=float32), 'probabilities': array([0.4244142, 0.5755858], dtype=float32), 'class_ids': array([1]), 'classes': array([b'1'], dtype=object), 'all_class_ids': array([0, 1], dtype=int32), 'all_classes': array([b'0', b'1'], dtype=object)}, {'logits': array([0.09811842], dtype=float32), 'logistic': array([0.52450997], dtype=float32), 'probabilities': array([0.47549  , 0.5245099], dtype=float32), 'class_ids': array([1]), 'classes': array([b'1'], dtype=object), 'all_class_ids': array([0, 1], dtype=int32), 'all_classes': array([b'0', b'1'], dtype=object)}, {'logits': array([-2.3115673], dtype=float32), 'logistic': array([0.09016946], dtype=float32), 'probabilities': array([0.9098305 , 0.09016948], dtype=float32), 'class_ids': array([0]), 'classes': array([b'0'], dtype=object), 'all_class_ids': array([0, 1], dtype=int32), 'all_classes': array([b'0', b'1'], dtype=object)}, {'logits': array([-1.5696993], dtype=float32), 'logistic': array([0.17225927], dtype=float32), 'probabilities': array([0.8277408 , 0.17225927], dtype=float32), 'class_ids': array([0]), 'classes': array([b'0'], dtype=object), 'all_class_ids': array([0, 1], dtype=int32), 'all_classes': array([b'0', b'1'], dtype=object)}, {'logits': array([1.5015152], dtype=float32), 'logistic': array([0.8178004], dtype=float32), 'probabilities': array([0.18219966, 0.81780034], dtype=float32), 'class_ids': array([1]), 'classes': array([b'1'], dtype=object), 'all_class_ids': array([0, 1], dtype=int32), 'all_classes': array([b'0', b'1'], dtype=object)}, {'logits': array([0.4670683], dtype=float32), 'logistic': array([0.6146896], dtype=float32), 'probabilities': array([0.38531038, 0.61468965], dtype=float32), 'class_ids': array([1]), 'classes': array([b'1'], dtype=object), 'all_class_ids': array([0, 1], dtype=int32), 'all_classes': array([b'0', b'1'], dtype=object)}, {'logits': array([-2.0584335], dtype=float32), 'logistic': array([0.11320296], dtype=float32), 'probabilities': array([0.88679695, 0.11320298], dtype=float32), 'class_ids': array([0]), 'classes': array([b'0'], dtype=object), 'all_class_ids': array([0, 1], dtype=int32), 'all_classes': array([b'0', b'1'], dtype=object)}, {'logits': array([-0.28570235], dtype=float32), 'logistic': array([0.42905635], dtype=float32), 'probabilities': array([0.57094365, 0.4290563 ], dtype=float32), 'class_ids': array([0]), 'classes': array([b'0'], dtype=object), 'all_class_ids': array([0, 1], dtype=int32), 'all_classes': array([b'0', b'1'], dtype=object)}, {'logits': array([-1.0676922], dtype=float32), 'logistic': array([0.2558422], dtype=float32), 'probabilities': array([0.7441578 , 0.25584224], dtype=float32), 'class_ids': array([0]), 'classes': array([b'0'], dtype=object), 'all_class_ids': array([0, 1], dtype=int32), 'all_classes': array([b'0', b'1'], dtype=object)}, {'logits': array([2.8684297], dtype=float32), 'logistic': array([0.94626355], dtype=float32), 'probabilities': array([0.05373644, 0.9462635 ], dtype=float32), 'class_ids': array([1]), 'classes': array([b'1'], dtype=object), 'all_class_ids': array([0, 1], dtype=int32), 'all_classes': array([b'0', b'1'], dtype=object)}, {'logits': array([2.7630434], dtype=float32), 'logistic': array([0.9406458], dtype=float32), 'probabilities': array([0.05935422, 0.9406458 ], dtype=float32), 'class_ids': array([1]), 'classes': array([b'1'], dtype=object), 'all_class_ids': array([0, 1], dtype=int32), 'all_classes': array([b'0', b'1'], dtype=object)}, {'logits': array([-1.8583552], dtype=float32), 'logistic': array([0.13489488], dtype=float32), 'probabilities': array([0.86510515, 0.1348949 ], dtype=float32), 'class_ids': array([0]), 'classes': array([b'0'], dtype=object), 'all_class_ids': array([0, 1], dtype=int32), 'all_classes': array([b'0', b'1'], dtype=object)}, {'logits': array([0.88397527], dtype=float32), 'logistic': array([0.7076453], dtype=float32), 'probabilities': array([0.29235467, 0.7076453 ], dtype=float32), 'class_ids': array([1]), 'classes': array([b'1'], dtype=object), 'all_class_ids': array([0, 1], dtype=int32), 'all_classes': array([b'0', b'1'], dtype=object)}, {'logits': array([-2.0947137], dtype=float32), 'logistic': array([0.10961166], dtype=float32), 'probabilities': array([0.8903883 , 0.10961169], dtype=float32), 'class_ids': array([0]), 'classes': array([b'0'], dtype=object), 'all_class_ids': array([0, 1], dtype=int32), 'all_classes': array([b'0', b'1'], dtype=object)}, {'logits': array([-1.7033428], dtype=float32), 'logistic': array([0.15402919], dtype=float32), 'probabilities': array([0.84597087, 0.15402919], dtype=float32), 'class_ids': array([0]), 'classes': array([b'0'], dtype=object), 'all_class_ids': array([0, 1], dtype=int32), 'all_classes': array([b'0', b'1'], dtype=object)}, {'logits': array([0.92520344], dtype=float32), 'logistic': array([0.71610117], dtype=float32), 'probabilities': array([0.28389886, 0.71610117], dtype=float32), 'class_ids': array([1]), 'classes': array([b'1'], dtype=object), 'all_class_ids': array([0, 1], dtype=int32), 'all_classes': array([b'0', b'1'], dtype=object)}, {'logits': array([-1.9677339], dtype=float32), 'logistic': array([0.1226325], dtype=float32), 'probabilities': array([0.8773675, 0.1226325], dtype=float32), 'class_ids': array([0]), 'classes': array([b'0'], dtype=object), 'all_class_ids': array([0, 1], dtype=int32), 'all_classes': array([b'0', b'1'], dtype=object)}, {'logits': array([2.9223976], dtype=float32), 'logistic': array([0.9489426], dtype=float32), 'probabilities': array([0.05105741, 0.9489426 ], dtype=float32), 'class_ids': array([1]), 'classes': array([b'1'], dtype=object), 'all_class_ids': array([0, 1], dtype=int32), 'all_classes': array([b'0', b'1'], dtype=object)}, {'logits': array([1.6776568], dtype=float32), 'logistic': array([0.842594], dtype=float32), 'probabilities': array([0.157406  , 0.84259397], dtype=float32), 'class_ids': array([1]), 'classes': array([b'1'], dtype=object), 'all_class_ids': array([0, 1], dtype=int32), 'all_classes': array([b'0', b'1'], dtype=object)}, {'logits': array([-2.1322844], dtype=float32), 'logistic': array([0.10599831], dtype=float32), 'probabilities': array([0.89400166, 0.10599832], dtype=float32), 'class_ids': array([0]), 'classes': array([b'0'], dtype=object), 'all_class_ids': array([0, 1], dtype=int32), 'all_classes': array([b'0', b'1'], dtype=object)}, {'logits': array([1.007528], dtype=float32), 'logistic': array([0.7325361], dtype=float32), 'probabilities': array([0.26746395, 0.73253614], dtype=float32), 'class_ids': array([1]), 'classes': array([b'1'], dtype=object), 'all_class_ids': array([0, 1], dtype=int32), 'all_classes': array([b'0', b'1'], dtype=object)}, {'logits': array([-2.1613033], dtype=float32), 'logistic': array([0.10327968], dtype=float32), 'probabilities': array([0.89672035, 0.10327969], dtype=float32), 'class_ids': array([0]), 'classes': array([b'0'], dtype=object), 'all_class_ids': array([0, 1], dtype=int32), 'all_classes': array([b'0', b'1'], dtype=object)}, {'logits': array([-0.91485], dtype=float32), 'logistic': array([0.28600842], dtype=float32), 'probabilities': array([0.7139916, 0.2860084], dtype=float32), 'class_ids': array([0]), 'classes': array([b'0'], dtype=object), 'all_class_ids': array([0, 1], dtype=int32), 'all_classes': array([b'0', b'1'], dtype=object)}, {'logits': array([-2.1936727], dtype=float32), 'logistic': array([0.10032013], dtype=float32), 'probabilities': array([0.8996799 , 0.10032013], dtype=float32), 'class_ids': array([0]), 'classes': array([b'0'], dtype=object), 'all_class_ids': array([0, 1], dtype=int32), 'all_classes': array([b'0', b'1'], dtype=object)}, {'logits': array([1.0084367], dtype=float32), 'logistic': array([0.73271406], dtype=float32), 'probabilities': array([0.2672859, 0.7327141], dtype=float32), 'class_ids': array([1]), 'classes': array([b'1'], dtype=object), 'all_class_ids': array([0, 1], dtype=int32), 'all_classes': array([b'0', b'1'], dtype=object)}, {'logits': array([0.20803118], dtype=float32), 'logistic': array([0.55182105], dtype=float32), 'probabilities': array([0.44817898, 0.55182105], dtype=float32), 'class_ids': array([1]), 'classes': array([b'1'], dtype=object), 'all_class_ids': array([0, 1], dtype=int32), 'all_classes': array([b'0', b'1'], dtype=object)}, {'logits': array([-2.679329], dtype=float32), 'logistic': array([0.06420419], dtype=float32), 'probabilities': array([0.9357958 , 0.06420418], dtype=float32), 'class_ids': array([0]), 'classes': array([b'0'], dtype=object), 'all_class_ids': array([0, 1], dtype=int32), 'all_classes': array([b'0', b'1'], dtype=object)}, {'logits': array([-1.0475839], dtype=float32), 'logistic': array([0.25968933], dtype=float32), 'probabilities': array([0.74031067, 0.25968933], dtype=float32), 'class_ids': array([0]), 'classes': array([b'0'], dtype=object), 'all_class_ids': array([0, 1], dtype=int32), 'all_classes': array([b'0', b'1'], dtype=object)}, {'logits': array([2.0390775], dtype=float32), 'logistic': array([0.8848393], dtype=float32), 'probabilities': array([0.1151607 , 0.88483936], dtype=float32), 'class_ids': array([1]), 'classes': array([b'1'], dtype=object), 'all_class_ids': array([0, 1], dtype=int32), 'all_classes': array([b'0', b'1'], dtype=object)}, {'logits': array([-0.37237287], dtype=float32), 'logistic': array([0.40796778], dtype=float32), 'probabilities': array([0.59203225, 0.40796778], dtype=float32), 'class_ids': array([0]), 'classes': array([b'0'], dtype=object), 'all_class_ids': array([0, 1], dtype=int32), 'all_classes': array([b'0', b'1'], dtype=object)}, {'logits': array([2.169134], dtype=float32), 'logistic': array([0.8974433], dtype=float32), 'probabilities': array([0.10255673, 0.8974433 ], dtype=float32), 'class_ids': array([1]), 'classes': array([b'1'], dtype=object), 'all_class_ids': array([0, 1], dtype=int32), 'all_classes': array([b'0', b'1'], dtype=object)}, {'logits': array([-0.2767079], dtype=float32), 'logistic': array([0.43126106], dtype=float32), 'probabilities': array([0.56873894, 0.4312611 ], dtype=float32), 'class_ids': array([0]), 'classes': array([b'0'], dtype=object), 'all_class_ids': array([0, 1], dtype=int32), 'all_classes': array([b'0', b'1'], dtype=object)}, {'logits': array([-2.1837144], dtype=float32), 'logistic': array([0.10122249], dtype=float32), 'probabilities': array([0.89877754, 0.10122252], dtype=float32), 'class_ids': array([0]), 'classes': array([b'0'], dtype=object), 'all_class_ids': array([0, 1], dtype=int32), 'all_classes': array([b'0', b'1'], dtype=object)}, {'logits': array([-1.9788537], dtype=float32), 'logistic': array([0.12144107], dtype=float32), 'probabilities': array([0.87855893, 0.12144109], dtype=float32), 'class_ids': array([0]), 'classes': array([b'0'], dtype=object), 'all_class_ids': array([0, 1], dtype=int32), 'all_classes': array([b'0', b'1'], dtype=object)}, {'logits': array([-1.885713], dtype=float32), 'logistic': array([0.13173404], dtype=float32), 'probabilities': array([0.8682659 , 0.13173404], dtype=float32), 'class_ids': array([0]), 'classes': array([b'0'], dtype=object), 'all_class_ids': array([0, 1], dtype=int32), 'all_classes': array([b'0', b'1'], dtype=object)}, {'logits': array([-3.6126637], dtype=float32), 'logistic': array([0.02627113], dtype=float32), 'probabilities': array([0.9737289 , 0.02627109], dtype=float32), 'class_ids': array([0]), 'classes': array([b'0'], dtype=object), 'all_class_ids': array([0, 1], dtype=int32), 'all_classes': array([b'0', b'1'], dtype=object)}, {'logits': array([2.072787], dtype=float32), 'logistic': array([0.88822997], dtype=float32), 'probabilities': array([0.11177005, 0.88822997], dtype=float32), 'class_ids': array([1]), 'classes': array([b'1'], dtype=object), 'all_class_ids': array([0, 1], dtype=int32), 'all_classes': array([b'0', b'1'], dtype=object)}, {'logits': array([1.1419147], dtype=float32), 'logistic': array([0.758031], dtype=float32), 'probabilities': array([0.24196902, 0.7580311 ], dtype=float32), 'class_ids': array([1]), 'classes': array([b'1'], dtype=object), 'all_class_ids': array([0, 1], dtype=int32), 'all_classes': array([b'0', b'1'], dtype=object)}, {'logits': array([-1.7033291], dtype=float32), 'logistic': array([0.15403098], dtype=float32), 'probabilities': array([0.8459691 , 0.15403098], dtype=float32), 'class_ids': array([0]), 'classes': array([b'0'], dtype=object), 'all_class_ids': array([0, 1], dtype=int32), 'all_classes': array([b'0', b'1'], dtype=object)}, {'logits': array([-1.1368942], dtype=float32), 'logistic': array([0.24289104], dtype=float32), 'probabilities': array([0.7571089 , 0.24289104], dtype=float32), 'class_ids': array([0]), 'classes': array([b'0'], dtype=object), 'all_class_ids': array([0, 1], dtype=int32), 'all_classes': array([b'0', b'1'], dtype=object)}, {'logits': array([2.4072192], dtype=float32), 'logistic': array([0.91737616], dtype=float32), 'probabilities': array([0.08262385, 0.91737616], dtype=float32), 'class_ids': array([1]), 'classes': array([b'1'], dtype=object), 'all_class_ids': array([0, 1], dtype=int32), 'all_classes': array([b'0', b'1'], dtype=object)}, {'logits': array([-0.58909404], dtype=float32), 'logistic': array([0.35684276], dtype=float32), 'probabilities': array([0.64315724, 0.35684276], dtype=float32), 'class_ids': array([0]), 'classes': array([b'0'], dtype=object), 'all_class_ids': array([0, 1], dtype=int32), 'all_classes': array([b'0', b'1'], dtype=object)}, {'logits': array([-2.2157006], dtype=float32), 'logistic': array([0.09834936], dtype=float32), 'probabilities': array([0.90165055, 0.0983494 ], dtype=float32), 'class_ids': array([0]), 'classes': array([b'0'], dtype=object), 'all_class_ids': array([0, 1], dtype=int32), 'all_classes': array([b'0', b'1'], dtype=object)}, {'logits': array([1.9785949], dtype=float32), 'logistic': array([0.8785313], dtype=float32), 'probabilities': array([0.12146871, 0.87853134], dtype=float32), 'class_ids': array([1]), 'classes': array([b'1'], dtype=object), 'all_class_ids': array([0, 1], dtype=int32), 'all_classes': array([b'0', b'1'], dtype=object)}, {'logits': array([1.6451485], dtype=float32), 'logistic': array([0.8382343], dtype=float32), 'probabilities': array([0.16176572, 0.8382343 ], dtype=float32), 'class_ids': array([1]), 'classes': array([b'1'], dtype=object), 'all_class_ids': array([0, 1], dtype=int32), 'all_classes': array([b'0', b'1'], dtype=object)}, {'logits': array([-2.372156], dtype=float32), 'logistic': array([0.08532077], dtype=float32), 'probabilities': array([0.9146793 , 0.08532074], dtype=float32), 'class_ids': array([0]), 'classes': array([b'0'], dtype=object), 'all_class_ids': array([0, 1], dtype=int32), 'all_classes': array([b'0', b'1'], dtype=object)}, {'logits': array([-0.06121492], dtype=float32), 'logistic': array([0.48470104], dtype=float32), 'probabilities': array([0.5152989, 0.484701 ], dtype=float32), 'class_ids': array([0]), 'classes': array([b'0'], dtype=object), 'all_class_ids': array([0, 1], dtype=int32), 'all_classes': array([b'0', b'1'], dtype=object)}, {'logits': array([-1.3350298], dtype=float32), 'logistic': array([0.2083286], dtype=float32), 'probabilities': array([0.7916714 , 0.20832859], dtype=float32), 'class_ids': array([0]), 'classes': array([b'0'], dtype=object), 'all_class_ids': array([0, 1], dtype=int32), 'all_classes': array([b'0', b'1'], dtype=object)}, {'logits': array([-0.16440576], dtype=float32), 'logistic': array([0.4589909], dtype=float32), 'probabilities': array([0.5410091 , 0.45899093], dtype=float32), 'class_ids': array([0]), 'classes': array([b'0'], dtype=object), 'all_class_ids': array([0, 1], dtype=int32), 'all_classes': array([b'0', b'1'], dtype=object)}]\n"
          ]
        },
        {
          "output_type": "execute_result",
          "data": {
            "text/plain": [
              "<matplotlib.axes._subplots.AxesSubplot at 0x7f961a9f1c10>"
            ]
          },
          "metadata": {},
          "execution_count": 33
        },
        {
          "output_type": "display_data",
          "data": {
            "text/plain": [
              "<Figure size 432x288 with 1 Axes>"
            ],
            "image/png": "[encoded data removed]"
          },
          "metadata": {
            "needs_background": "light"
          }
        }
      ]
    },
    {
      "cell_type": "markdown",
      "source": [
        "This is the end of the linear regression algorithm on TensorFlow"
      ],
      "metadata": {
        "id": "fQG3T2KBM8_s"
      }
    },
    {
      "cell_type": "markdown",
      "source": [
        "# **Sources:**\n",
        "\n",
        "\n",
        "1.   Chen, James. “Line Of Best Fit.” Investopedia, Investopedia, 29 Jan. 2020, www.investopedia.com/terms/l/line-of-best-fit.asp.\n",
        "2. “Tf.feature_column.categorical_column_with_vocabulary_list.” TensorFlow, www.tensorflow.org/api_docs/python/tf/feature_column/categorical_column_with_vocabulary_list?version=stable.\n",
        "3. “Build a Linear Model with Estimators &nbsp;: &nbsp; TensorFlow Core.” TensorFlow, www.tensorflow.org/tutorials/estimator/linear.\n",
        "4. Tim Russica \"Tech with Tim\" [Youtube](https://www.youtube.com/channel/UC4JX...)<br>[LinkedIn](https://www.linkedin.com/in/tim-ruscica/)\n",
        "\n",
        "\n"
      ],
      "metadata": {
        "id": "jzMJF84h044-"
      }
    },
    {
      "cell_type": "markdown",
      "source": [
        ""
      ],
      "metadata": {
        "id": "q18VygnbNOJc"
      }
    }
  ]
}