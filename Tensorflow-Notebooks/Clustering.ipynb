{
  "nbformat": 4,
  "nbformat_minor": 0,
  "metadata": {
    "colab": {
      "name": "Clustering.ipynb",
      "provenance": [],
      "authorship_tag": "ABX9TyPqFLOzcpKjciNYxQ56vtGx",
      "include_colab_link": true
    },
    "kernelspec": {
      "name": "python3",
      "display_name": "Python 3"
    },
    "language_info": {
      "name": "python"
    }
  },
  "cells": [
    {
      "cell_type": "markdown",
      "metadata": {
        "id": "view-in-github",
        "colab_type": "text"
      },
      "source": [
        "<a href=\"https://colab.research.google.com/github/AXM78251/Python_ML/blob/main/Clustering.ipynb\" target=\"_parent\"><img src=\"https://colab.research.google.com/assets/colab-badge.svg\" alt=\"Open In Colab\"/></a>"
      ]
    },
    {
      "cell_type": "markdown",
      "source": [
        "# **Clustering**\n",
        "***\n",
        "It's time to talk about how we can cluster data!<br><br>\n",
        "Clustering is a ML technique that involves the grouping of data points. In theory, data points in the same group should have similar features while data points in different groups should have different features<br><br>\n",
        "Basic Algorithm for K-Means:\n",
        "- Step 1: Randomly pick K points to place K centroids\n",
        "- Step 2: Assign all the data points to the centroids by distance. The closest centroid to a point is the one it is assigned to.\n",
        "- Step 3: Average all the points belonging to each centroid to find the middle of those clusters (center of mass). Place the corresponding centroids into that position.\n",
        "- Step 4: Reassign every point once again to the closest centroid.\n",
        "- Step 5: Repeat steps 3-4 until no point changes which centroid it belongs to."
      ],
      "metadata": {
        "id": "vSqDtnlOzhLu"
      }
    },
    {
      "cell_type": "markdown",
      "source": [
        "# **Sources:**\n",
        "\n",
        "\n",
        "1.   Seif, George. “The 5 Clustering Algorithms Data Scientists Need to Know.” Medium, Towards Data Science, 14 Sept. 2019, https://towardsdatascience.com/the-5-clustering-algorithms-data-scientists-need-to-know-a36d136ef68.\n",
        "2. Tim Russica \"Tech with Tim\" [Youtube](https://www.youtube.com/channel/UC4JX...)<br>[LinkedIn](https://www.linkedin.com/in/tim-ruscica/)\n",
        "\n",
        "\n"
      ],
      "metadata": {
        "id": "X4lA3uSs0ma0"
      }
    }
  ]
}