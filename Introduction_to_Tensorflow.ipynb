{
  "nbformat": 4,
  "nbformat_minor": 0,
  "metadata": {
    "colab": {
      "name": "Introduction_to_Tensorflow.ipynb",
      "provenance": [],
      "authorship_tag": "ABX9TyNg6hT/Y9LkLaK1H/YtMGMe",
      "include_colab_link": true
    },
    "kernelspec": {
      "name": "python3",
      "display_name": "Python 3"
    },
    "language_info": {
      "name": "python"
    }
  },
  "cells": [
    {
      "cell_type": "markdown",
      "metadata": {
        "id": "view-in-github",
        "colab_type": "text"
      },
      "source": [
        "<a href=\"https://colab.research.google.com/github/AXM78251/Python_ML/blob/main/Introduction_to_Tensorflow.ipynb\" target=\"_parent\"><img src=\"https://colab.research.google.com/assets/colab-badge.svg\" alt=\"Open In Colab\"/></a>"
      ]
    },
    {
      "cell_type": "markdown",
      "source": [
        "# **What is TensorFlow?**\n",
        "*** \n",
        "Tensorflow is an open source machine learning platform. It is owned and maintained by Google and is one of the largest open source machine learning libraries in the world. <br>\n",
        "For our purposes we will use Tensorflow to build modeks that can do some of the following things:\n",
        "* Image Classification\n",
        "* Data Clustering\n",
        "* Regression\n",
        "* Reinforcement Learning\n",
        "* Natural Language Processing"
      ],
      "metadata": {
        "id": "mUN4HCJXKhVZ"
      }
    },
    {
      "cell_type": "markdown",
      "source": [
        "# **How it works**\n",
        "*** \n",
        "Tensorflow has two main components we should understand:\n",
        "<br>\n",
        "\n",
        "*   Graphs\n",
        "*   Sessions\n",
        "\n",
        "TensorFlow works by building a graph of defined computations. Nothing is computed or stored in this graph. It is simply a way of defining the operations that have been written in code.\n",
        "\n",
        "\n",
        "*   Called graphs because\n",
        "different computations can be related to each other\n",
        "\n",
        "\n",
        "A TensorFlow sessions allows parts of the graph to be executed. It allocates memory and resources and handles the execution of the operations and computations we've defined. <br>\n",
        "In some instances we will need to run a session to be able to execute parts of the graph we've created earlier.\n",
        "\n",
        "\n",
        "*   Sessions start at the lowest level of the graph where nothing is dependent on anything else\n",
        "*   Then we move our way through the graph and start doing all the different partial computations that we've defined\n",
        "\n"
      ],
      "metadata": {
        "id": "v1Vf-vAJKxiq"
      }
    },
    {
      "cell_type": "markdown",
      "source": [
        "# **Importing TensorFlow**\n",
        "Make sure to select the correct version of TensorFlow from within Google Colaboratory! We want TensorFlow 2.x!"
      ],
      "metadata": {
        "id": "7NSoQbksQcRI"
      }
    },
    {
      "cell_type": "code",
      "source": [
        "%tensorflow_version 2.x # This line is required at the beginning of all our notebooks"
      ],
      "metadata": {
        "colab": {
          "base_uri": "https://localhost:8080/",
          "height": 62
        },
        "id": "iRy3f2BaX4vo",
        "outputId": "2836a956-4efa-4a5c-fd16-58b4028ecc25"
      },
      "execution_count": 3,
      "outputs": [
        {
          "output_type": "display_data",
          "data": {
            "text/plain": [
              "<IPython.core.display.HTML object>"
            ],
            "text/html": [
              "<style> \n",
              "    body {\n",
              "      font-size: 20px;\n",
              "    }\n",
              "  "
            ]
          },
          "metadata": {}
        },
        {
          "output_type": "display_data",
          "data": {
            "text/plain": [
              "<IPython.core.display.HTML object>"
            ],
            "text/html": [
              "<style> \n",
              "    body {\n",
              "      font-size: 20px;\n",
              "    }\n",
              "  "
            ]
          },
          "metadata": {}
        },
        {
          "output_type": "stream",
          "name": "stdout",
          "text": [
            "Colab only includes TensorFlow 2.x; %tensorflow_version has no effect.\n"
          ]
        }
      ]
    },
    {
      "cell_type": "code",
      "source": [
        "import tensorflow as tf # Import the tensorflow module\n",
        "print(tf.version) # Make sure the version is 2.x"
      ],
      "metadata": {
        "colab": {
          "base_uri": "https://localhost:8080/",
          "height": 62
        },
        "id": "tfooxp4tYTfn",
        "outputId": "a3959cb7-e3f5-4d69-cdac-b7028d048e07"
      },
      "execution_count": 4,
      "outputs": [
        {
          "output_type": "display_data",
          "data": {
            "text/plain": [
              "<IPython.core.display.HTML object>"
            ],
            "text/html": [
              "<style> \n",
              "    body {\n",
              "      font-size: 20px;\n",
              "    }\n",
              "  "
            ]
          },
          "metadata": {}
        },
        {
          "output_type": "display_data",
          "data": {
            "text/plain": [
              "<IPython.core.display.HTML object>"
            ],
            "text/html": [
              "<style> \n",
              "    body {\n",
              "      font-size: 20px;\n",
              "    }\n",
              "  "
            ]
          },
          "metadata": {}
        },
        {
          "output_type": "stream",
          "name": "stdout",
          "text": [
            "<module 'tensorflow._api.v2.version' from '/usr/local/lib/python3.7/dist-packages/tensorflow/_api/v2/version/__init__.py'>\n"
          ]
        }
      ]
    },
    {
      "cell_type": "markdown",
      "source": [
        "# **Tensors**\n",
        "A tensor is a generalization of vectors and matrices to potentially higher dimensions. TensorFlow represents tensors as n-dimensional arrays of base datatypes <br><br>\n",
        "Each tensor represents a partially defined computation that will eventually produce a value\n",
        "\n",
        "*   When we create our program, we will create a bunch of tensors -- will store partially defined computations in the graph\n",
        "*   Later when building the graph and having the session running, we'll run different parts of the graph (i.e. execute different tensors and be able to get different results from our tensors) \n",
        "* Each tensor has a datatype and a shape\n",
        "\n",
        "**Data Types Include**: float32, int32, string, and others <br>\n",
        "**Shape**: Represents the dimension of the data\n",
        "\n",
        "\n",
        "\n",
        "\n"
      ],
      "metadata": {
        "id": "1Z3Jz4i0Yo9T"
      }
    },
    {
      "cell_type": "markdown",
      "source": [
        "# **Creating Tensors**\n",
        "Below is an example of how to create different tensors"
      ],
      "metadata": {
        "id": "6VIYFFyjbAMD"
      }
    },
    {
      "cell_type": "code",
      "source": [
        "string = tf.Variable(\"this is a string\", tf.string)\n",
        "number = tf.Variable(324, tf.int32)\n",
        "floating = tf.Variable(3.567, tf.float64)"
      ],
      "metadata": {
        "colab": {
          "base_uri": "https://localhost:8080/",
          "height": 17
        },
        "id": "6G4kR7K-cQkQ",
        "outputId": "0b0ca5c6-29a6-4a6d-efc6-86eed9298ce4"
      },
      "execution_count": 5,
      "outputs": [
        {
          "output_type": "display_data",
          "data": {
            "text/plain": [
              "<IPython.core.display.HTML object>"
            ],
            "text/html": [
              "<style> \n",
              "    body {\n",
              "      font-size: 20px;\n",
              "    }\n",
              "  "
            ]
          },
          "metadata": {}
        },
        {
          "output_type": "display_data",
          "data": {
            "text/plain": [
              "<IPython.core.display.HTML object>"
            ],
            "text/html": [
              "<style> \n",
              "    body {\n",
              "      font-size: 20px;\n",
              "    }\n",
              "  "
            ]
          },
          "metadata": {}
        }
      ]
    },
    {
      "cell_type": "markdown",
      "source": [
        "The above tensors have a shape of 1 which means they are scalar values (i.e. one number)"
      ],
      "metadata": {
        "id": "yiN6Y8HFco68"
      }
    },
    {
      "cell_type": "markdown",
      "source": [
        "# **Rank/Degree of Tensors**\n",
        "Another word for rank is degree, these terms simply mean the number of dimensions involved in the tensor. The tensor we created above is a tensor with rank 0, also known as a scalar <br><br>\n",
        "Below are some tensors of higher degree/ranks"
      ],
      "metadata": {
        "id": "rHGLxT58c6KJ"
      }
    },
    {
      "cell_type": "code",
      "source": [
        "rank1_tensor = tf.Variable([\"Test\", \"Ok\"], tf.string)\n",
        "rank2_tensor = tf.Variable([[\"Test\", \"Ok\"], [\"Test\", \"Yes\"]])"
      ],
      "metadata": {
        "colab": {
          "base_uri": "https://localhost:8080/",
          "height": 17
        },
        "id": "7GOh8fkDeBuk",
        "outputId": "598f9acd-1b7e-469f-bfca-28604c97fc81"
      },
      "execution_count": 7,
      "outputs": [
        {
          "output_type": "display_data",
          "data": {
            "text/plain": [
              "<IPython.core.display.HTML object>"
            ],
            "text/html": [
              "<style> \n",
              "    body {\n",
              "      font-size: 20px;\n",
              "    }\n",
              "  "
            ]
          },
          "metadata": {}
        },
        {
          "output_type": "display_data",
          "data": {
            "text/plain": [
              "<IPython.core.display.HTML object>"
            ],
            "text/html": [
              "<style> \n",
              "    body {\n",
              "      font-size: 20px;\n",
              "    }\n",
              "  "
            ]
          },
          "metadata": {}
        }
      ]
    },
    {
      "cell_type": "markdown",
      "source": [
        "When we have an array or list, we immediately have rank 1 because an array can stire more than 1 value in one dimension <br><br>\n",
        "By hand, we can determine the rank of a tensor by finding the deepest level of nested lists<br><br>\n",
        "**To determine the rank** of a tensor, we can call the following method"
      ],
      "metadata": {
        "id": "4YSbxNdVejpT"
      }
    },
    {
      "cell_type": "code",
      "source": [
        "tf.rank(rank2_tensor)"
      ],
      "metadata": {
        "colab": {
          "base_uri": "https://localhost:8080/",
          "height": 42
        },
        "id": "MJU-mZoJfTkp",
        "outputId": "51de1489-61b7-4b81-893b-b5dbbc71e740"
      },
      "execution_count": 8,
      "outputs": [
        {
          "output_type": "display_data",
          "data": {
            "text/plain": [
              "<IPython.core.display.HTML object>"
            ],
            "text/html": [
              "<style> \n",
              "    body {\n",
              "      font-size: 20px;\n",
              "    }\n",
              "  "
            ]
          },
          "metadata": {}
        },
        {
          "output_type": "display_data",
          "data": {
            "text/plain": [
              "<IPython.core.display.HTML object>"
            ],
            "text/html": [
              "<style> \n",
              "    body {\n",
              "      font-size: 20px;\n",
              "    }\n",
              "  "
            ]
          },
          "metadata": {}
        },
        {
          "output_type": "execute_result",
          "data": {
            "text/plain": [
              "<tf.Tensor: shape=(), dtype=int32, numpy=2>"
            ]
          },
          "metadata": {},
          "execution_count": 8
        }
      ]
    },
    {
      "cell_type": "markdown",
      "source": [
        "# **Shape of Tensors**\n",
        "The shape of a tensor is simply the amount of elements that exist in each dimension<br><br>\n",
        "\n",
        "To **get the shape** of a tensor we can use the shape attribute\n"
      ],
      "metadata": {
        "id": "PAqTdJtyf8lg"
      }
    },
    {
      "cell_type": "code",
      "source": [
        "rank2_tensor.shape"
      ],
      "metadata": {
        "colab": {
          "base_uri": "https://localhost:8080/",
          "height": 42
        },
        "id": "-foUMfnWgdrv",
        "outputId": "c391c25d-888d-4c2d-f853-7db2e00b1112"
      },
      "execution_count": 9,
      "outputs": [
        {
          "output_type": "display_data",
          "data": {
            "text/plain": [
              "<IPython.core.display.HTML object>"
            ],
            "text/html": [
              "<style> \n",
              "    body {\n",
              "      font-size: 20px;\n",
              "    }\n",
              "  "
            ]
          },
          "metadata": {}
        },
        {
          "output_type": "display_data",
          "data": {
            "text/plain": [
              "<IPython.core.display.HTML object>"
            ],
            "text/html": [
              "<style> \n",
              "    body {\n",
              "      font-size: 20px;\n",
              "    }\n",
              "  "
            ]
          },
          "metadata": {}
        },
        {
          "output_type": "execute_result",
          "data": {
            "text/plain": [
              "TensorShape([2, 2])"
            ]
          },
          "metadata": {},
          "execution_count": 9
        }
      ]
    },
    {
      "cell_type": "markdown",
      "source": [
        "# **Changing Shape**\n",
        "The number of elements of a tensor is the product of the sizes of all its shapes. There are often many shapes that have the same number of elements, making it convenient to be able to change the shape of a tensor\n",
        "<br><br>\n",
        "Below shows how to change the shape of a tensor\n"
      ],
      "metadata": {
        "id": "cF_Ji-TYhTk8"
      }
    },
    {
      "cell_type": "code",
      "source": [
        "tensor1 = tf.ones([1,2,3])  # tf.ones() creates a shape [1,2,3] tensor full of ones\n",
        "tensor2 = tf.reshape(tensor1, [2,3,1])  # Reshape existing data to shape [2,3,1]\n",
        "tensor3 = tf.reshape(tensor2, [3, -1])  # -1 tells the tensor to calculate the size of the dimension in that place\n",
        "                                        # This will reshape the tensor to [3,2]\n",
        "                                                                             \n",
        "# The number of elements in the reshaped tensor MUST match the number in the original"
      ],
      "metadata": {
        "colab": {
          "base_uri": "https://localhost:8080/",
          "height": 17
        },
        "id": "fV7x-J98ipD4",
        "outputId": "12ae73ce-520a-4c51-9be0-b431acbecbfd"
      },
      "execution_count": 10,
      "outputs": [
        {
          "output_type": "display_data",
          "data": {
            "text/plain": [
              "<IPython.core.display.HTML object>"
            ],
            "text/html": [
              "<style> \n",
              "    body {\n",
              "      font-size: 20px;\n",
              "    }\n",
              "  "
            ]
          },
          "metadata": {}
        },
        {
          "output_type": "display_data",
          "data": {
            "text/plain": [
              "<IPython.core.display.HTML object>"
            ],
            "text/html": [
              "<style> \n",
              "    body {\n",
              "      font-size: 20px;\n",
              "    }\n",
              "  "
            ]
          },
          "metadata": {}
        }
      ]
    },
    {
      "cell_type": "code",
      "source": [
        "print(tensor1)\n",
        "print(tensor2)\n",
        "print(tensor3)"
      ],
      "metadata": {
        "colab": {
          "base_uri": "https://localhost:8080/",
          "height": 396
        },
        "id": "mYhZ7jMVi78i",
        "outputId": "2a1cf22a-8559-4239-b9e5-ae89ef68b2c1"
      },
      "execution_count": 11,
      "outputs": [
        {
          "output_type": "display_data",
          "data": {
            "text/plain": [
              "<IPython.core.display.HTML object>"
            ],
            "text/html": [
              "<style> \n",
              "    body {\n",
              "      font-size: 20px;\n",
              "    }\n",
              "  "
            ]
          },
          "metadata": {}
        },
        {
          "output_type": "display_data",
          "data": {
            "text/plain": [
              "<IPython.core.display.HTML object>"
            ],
            "text/html": [
              "<style> \n",
              "    body {\n",
              "      font-size: 20px;\n",
              "    }\n",
              "  "
            ]
          },
          "metadata": {}
        },
        {
          "output_type": "stream",
          "name": "stdout",
          "text": [
            "tf.Tensor(\n",
            "[[[1. 1. 1.]\n",
            "  [1. 1. 1.]]], shape=(1, 2, 3), dtype=float32)\n",
            "tf.Tensor(\n",
            "[[[1.]\n",
            "  [1.]\n",
            "  [1.]]\n",
            "\n",
            " [[1.]\n",
            "  [1.]\n",
            "  [1.]]], shape=(2, 3, 1), dtype=float32)\n",
            "tf.Tensor(\n",
            "[[1. 1.]\n",
            " [1. 1.]\n",
            " [1. 1.]], shape=(3, 2), dtype=float32)\n"
          ]
        }
      ]
    },
    {
      "cell_type": "markdown",
      "source": [
        "# **Types of tensors**\n",
        "Most commonly used tensors:\n",
        "\n",
        "\n",
        "*   Variable\n",
        "*   Constant\n",
        "*   Placeholder\n",
        "*   SparseTensor\n",
        "\n",
        "With the exception of Variable, all these are immutable, meaning their value may not change during execution\n",
        " \n"
      ],
      "metadata": {
        "id": "4jSMoHoOkLN1"
      }
    },
    {
      "cell_type": "markdown",
      "source": [
        "# **Evaluating Tensors**\n",
        "\n",
        "There mau be times when we need to evaluate a tensor (i.e. get its value). Since tensors represent a partially complete computation we will somwtimes need to run a session to evaluate the sensor\n",
        "<br><br>\n",
        "An example is below"
      ],
      "metadata": {
        "id": "O4otNHNyk2gW"
      }
    },
    {
      "cell_type": "code",
      "source": [
        "with tf.Session() as sess:  # Creates a session using the default graph\n",
        "  rank2_tensor.eval() #Evaluate the respective tensor"
      ],
      "metadata": {
        "id": "9m1VTDYSlZLm"
      },
      "execution_count": null,
      "outputs": []
    },
    {
      "cell_type": "markdown",
      "source": [
        "The code above evaluated the tensor stored in the default graph which holds all operations not specified to any other graph. We can certainly create our own graphs but we will use the default for now"
      ],
      "metadata": {
        "id": "xC8WzJ_Sl3YN"
      }
    },
    {
      "cell_type": "markdown",
      "source": [
        "# **Slicing**\n",
        "Slice operators (commonly used on lists, tuples, etc.) can be used on tensors to select specific axes or elements as well! <br><br>\n",
        "When we slice or select elements from a tensor, we can use comma separated values inside the set of square brackets where each subsequent value references a different dimension of the tensor<br><br>\n",
        "Example: tensor[dim1, dim2, dim3]\n",
        "<br><br> \n",
        "A brief example is below \n"
      ],
      "metadata": {
        "id": "aYks_8vSnHfd"
      }
    },
    {
      "cell_type": "code",
      "source": [
        "# Creating a 2D tensor\n",
        "matrix = [[1,2,3,4,5],\n",
        "          [6,7,8,9,10],\n",
        "          [11,12,13,14,15],\n",
        "          [16,17,18,19,20]]\n",
        "\n",
        "tensor = tf.Variable(matrix, dtype = tf.int32)\n",
        "print(tf.rank(tensor))\n",
        "print(tensor.shape)"
      ],
      "metadata": {
        "colab": {
          "base_uri": "https://localhost:8080/",
          "height": 67
        },
        "id": "qNJq_LLdn_Xg",
        "outputId": "31351329-261d-4ce3-bfb8-e9c3b52c6e7a"
      },
      "execution_count": 12,
      "outputs": [
        {
          "output_type": "display_data",
          "data": {
            "text/plain": [
              "<IPython.core.display.HTML object>"
            ],
            "text/html": [
              "<style> \n",
              "    body {\n",
              "      font-size: 20px;\n",
              "    }\n",
              "  "
            ]
          },
          "metadata": {}
        },
        {
          "output_type": "display_data",
          "data": {
            "text/plain": [
              "<IPython.core.display.HTML object>"
            ],
            "text/html": [
              "<style> \n",
              "    body {\n",
              "      font-size: 20px;\n",
              "    }\n",
              "  "
            ]
          },
          "metadata": {}
        },
        {
          "output_type": "stream",
          "name": "stdout",
          "text": [
            "tf.Tensor(2, shape=(), dtype=int32)\n",
            "(4, 5)\n"
          ]
        }
      ]
    },
    {
      "cell_type": "code",
      "source": [
        "# Now select some rows and columns from our tensor \n",
        "\n",
        "three = tensor[0,2]  # selects the 3rd element from the 1st row\n",
        "print(three)  # -> 3\n",
        "\n",
        "row1 = tensor[0]  # selects the first row\n",
        "print(row1)\n",
        "\n",
        "column1 = tensor[:, 0]  # selects the first column\n",
        "print(column1)\n",
        "\n",
        "row_2_and_4 = tensor[1::2]  # selects second and fourth row\n",
        "print(row_2_and_4)\n",
        "\n",
        "column_1_in_row_2_and_3 = tensor[1:3, 0]\n",
        "print(column_1_in_row_2_and_3)"
      ],
      "metadata": {
        "colab": {
          "base_uri": "https://localhost:8080/",
          "height": 194
        },
        "id": "uRUeOGIooRdI",
        "outputId": "8788ab1c-3ccb-44fa-b84d-3bafcbfa3bb5"
      },
      "execution_count": 14,
      "outputs": [
        {
          "output_type": "display_data",
          "data": {
            "text/plain": [
              "<IPython.core.display.HTML object>"
            ],
            "text/html": [
              "<style> \n",
              "    body {\n",
              "      font-size: 20px;\n",
              "    }\n",
              "  "
            ]
          },
          "metadata": {}
        },
        {
          "output_type": "display_data",
          "data": {
            "text/plain": [
              "<IPython.core.display.HTML object>"
            ],
            "text/html": [
              "<style> \n",
              "    body {\n",
              "      font-size: 20px;\n",
              "    }\n",
              "  "
            ]
          },
          "metadata": {}
        },
        {
          "output_type": "stream",
          "name": "stdout",
          "text": [
            "tf.Tensor(3, shape=(), dtype=int32)\n",
            "tf.Tensor([1 2 3 4 5], shape=(5,), dtype=int32)\n",
            "tf.Tensor([ 1  6 11 16], shape=(4,), dtype=int32)\n",
            "tf.Tensor(\n",
            "[[ 6  7  8  9 10]\n",
            " [16 17 18 19 20]], shape=(2, 5), dtype=int32)\n",
            "tf.Tensor([ 6 11], shape=(2,), dtype=int32)\n"
          ]
        }
      ]
    },
    {
      "cell_type": "markdown",
      "source": [
        "All credit for code/material above goes to Tim Ruscica, otherwise known on youtube as \"Tech With Tim\" <br>\n",
        "Youtube: [\"Tech With Tim\"](https://www.youtube.com/c/TechWithTim)"
      ],
      "metadata": {
        "id": "YyGIuKd2o0mc"
      }
    }
  ]
}